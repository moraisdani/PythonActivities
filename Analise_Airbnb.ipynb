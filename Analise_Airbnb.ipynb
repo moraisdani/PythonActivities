{
  "cells": [
    {
      "cell_type": "code",
      "execution_count": 1,
      "metadata": {
        "id": "BJ7IXXa4ChHB"
      },
      "outputs": [],
      "source": [
        "# Carregando as bibliotecas para realização da análise\n",
        "\n",
        "import pandas as pd\n",
        "import numpy as np\n",
        "import seaborn as sns\n",
        "import statistics\n",
        "import matplotlib.pyplot as plt\n"
      ]
    },
    {
      "cell_type": "code",
      "execution_count": 3,
      "metadata": {
        "id": "pI71YMa8ChHC"
      },
      "outputs": [],
      "source": [
        "# Importando o dataset sugerido. Opção de importar diretamente do site http://insideairbnb.com/get-the-data.html\n",
        "# Transformando a base de dados em um dataframe pandas\n",
        "\n",
        "df = pd.read_csv('http://data.insideairbnb.com/brazil/rj/rio-de-janeiro/2021-07-17/data/listings.csv.gz')"
      ]
    },
    {
      "cell_type": "code",
      "execution_count": 4,
      "metadata": {
        "colab": {
          "base_uri": "https://localhost:8080/",
          "height": 660
        },
        "id": "mD7ZFDY-ChHD",
        "outputId": "27c84517-0415-4c75-ab57-f9eaa833f4a8"
      },
      "outputs": [
        {
          "output_type": "execute_result",
          "data": {
            "text/html": [
              "<div>\n",
              "<style scoped>\n",
              "    .dataframe tbody tr th:only-of-type {\n",
              "        vertical-align: middle;\n",
              "    }\n",
              "\n",
              "    .dataframe tbody tr th {\n",
              "        vertical-align: top;\n",
              "    }\n",
              "\n",
              "    .dataframe thead th {\n",
              "        text-align: right;\n",
              "    }\n",
              "</style>\n",
              "<table border=\"1\" class=\"dataframe\">\n",
              "  <thead>\n",
              "    <tr style=\"text-align: right;\">\n",
              "      <th></th>\n",
              "      <th>id</th>\n",
              "      <th>listing_url</th>\n",
              "      <th>scrape_id</th>\n",
              "      <th>last_scraped</th>\n",
              "      <th>name</th>\n",
              "      <th>description</th>\n",
              "      <th>neighborhood_overview</th>\n",
              "      <th>picture_url</th>\n",
              "      <th>host_id</th>\n",
              "      <th>host_url</th>\n",
              "      <th>host_name</th>\n",
              "      <th>host_since</th>\n",
              "      <th>host_location</th>\n",
              "      <th>host_about</th>\n",
              "      <th>host_response_time</th>\n",
              "      <th>host_response_rate</th>\n",
              "      <th>host_acceptance_rate</th>\n",
              "      <th>host_is_superhost</th>\n",
              "      <th>host_thumbnail_url</th>\n",
              "      <th>host_picture_url</th>\n",
              "      <th>host_neighbourhood</th>\n",
              "      <th>host_listings_count</th>\n",
              "      <th>host_total_listings_count</th>\n",
              "      <th>host_verifications</th>\n",
              "      <th>host_has_profile_pic</th>\n",
              "      <th>host_identity_verified</th>\n",
              "      <th>neighbourhood</th>\n",
              "      <th>neighbourhood_cleansed</th>\n",
              "      <th>neighbourhood_group_cleansed</th>\n",
              "      <th>latitude</th>\n",
              "      <th>longitude</th>\n",
              "      <th>property_type</th>\n",
              "      <th>room_type</th>\n",
              "      <th>accommodates</th>\n",
              "      <th>bathrooms</th>\n",
              "      <th>bathrooms_text</th>\n",
              "      <th>bedrooms</th>\n",
              "      <th>beds</th>\n",
              "      <th>amenities</th>\n",
              "      <th>price</th>\n",
              "      <th>minimum_nights</th>\n",
              "      <th>maximum_nights</th>\n",
              "      <th>minimum_minimum_nights</th>\n",
              "      <th>maximum_minimum_nights</th>\n",
              "      <th>minimum_maximum_nights</th>\n",
              "      <th>maximum_maximum_nights</th>\n",
              "      <th>minimum_nights_avg_ntm</th>\n",
              "      <th>maximum_nights_avg_ntm</th>\n",
              "      <th>calendar_updated</th>\n",
              "      <th>has_availability</th>\n",
              "      <th>availability_30</th>\n",
              "      <th>availability_60</th>\n",
              "      <th>availability_90</th>\n",
              "      <th>availability_365</th>\n",
              "      <th>calendar_last_scraped</th>\n",
              "      <th>number_of_reviews</th>\n",
              "      <th>number_of_reviews_ltm</th>\n",
              "      <th>number_of_reviews_l30d</th>\n",
              "      <th>first_review</th>\n",
              "      <th>last_review</th>\n",
              "      <th>review_scores_rating</th>\n",
              "      <th>review_scores_accuracy</th>\n",
              "      <th>review_scores_cleanliness</th>\n",
              "      <th>review_scores_checkin</th>\n",
              "      <th>review_scores_communication</th>\n",
              "      <th>review_scores_location</th>\n",
              "      <th>review_scores_value</th>\n",
              "      <th>license</th>\n",
              "      <th>instant_bookable</th>\n",
              "      <th>calculated_host_listings_count</th>\n",
              "      <th>calculated_host_listings_count_entire_homes</th>\n",
              "      <th>calculated_host_listings_count_private_rooms</th>\n",
              "      <th>calculated_host_listings_count_shared_rooms</th>\n",
              "      <th>reviews_per_month</th>\n",
              "    </tr>\n",
              "  </thead>\n",
              "  <tbody>\n",
              "    <tr>\n",
              "      <th>0</th>\n",
              "      <td>17878</td>\n",
              "      <td>https://www.airbnb.com/rooms/17878</td>\n",
              "      <td>20210717121617</td>\n",
              "      <td>2021-07-17</td>\n",
              "      <td>Very Nice 2Br in Copacabana w. balcony, fast WiFi</td>\n",
              "      <td>Discounts for long term stays. &lt;br /&gt;- Large b...</td>\n",
              "      <td>This is the one of the bests spots in Rio. Bec...</td>\n",
              "      <td>https://a0.muscache.com/pictures/65320518/3069...</td>\n",
              "      <td>68997</td>\n",
              "      <td>https://www.airbnb.com/users/show/68997</td>\n",
              "      <td>Matthias</td>\n",
              "      <td>2010-01-08</td>\n",
              "      <td>Rio de Janeiro, State of Rio de Janeiro, Brazil</td>\n",
              "      <td>I  am a  journalist/writer. Lived for 15 years...</td>\n",
              "      <td>within an hour</td>\n",
              "      <td>100%</td>\n",
              "      <td>98%</td>\n",
              "      <td>f</td>\n",
              "      <td>https://a0.muscache.com/im/pictures/user/67b13...</td>\n",
              "      <td>https://a0.muscache.com/im/pictures/user/67b13...</td>\n",
              "      <td>Copacabana</td>\n",
              "      <td>2.0</td>\n",
              "      <td>2.0</td>\n",
              "      <td>['email', 'phone', 'reviews', 'jumio', 'offlin...</td>\n",
              "      <td>t</td>\n",
              "      <td>t</td>\n",
              "      <td>Rio de Janeiro, Brazil</td>\n",
              "      <td>Copacabana</td>\n",
              "      <td>NaN</td>\n",
              "      <td>-22.96599</td>\n",
              "      <td>-43.17940</td>\n",
              "      <td>Entire condominium</td>\n",
              "      <td>Entire home/apt</td>\n",
              "      <td>5</td>\n",
              "      <td>NaN</td>\n",
              "      <td>1 bath</td>\n",
              "      <td>2.0</td>\n",
              "      <td>2.0</td>\n",
              "      <td>[\"Bed linens\", \"Hangers\", \"Cooking basics\", \"E...</td>\n",
              "      <td>$170.00</td>\n",
              "      <td>5</td>\n",
              "      <td>180</td>\n",
              "      <td>5</td>\n",
              "      <td>5</td>\n",
              "      <td>1125</td>\n",
              "      <td>1125</td>\n",
              "      <td>5.0</td>\n",
              "      <td>1125.0</td>\n",
              "      <td>NaN</td>\n",
              "      <td>t</td>\n",
              "      <td>19</td>\n",
              "      <td>49</td>\n",
              "      <td>79</td>\n",
              "      <td>317</td>\n",
              "      <td>2021-07-17</td>\n",
              "      <td>265</td>\n",
              "      <td>14</td>\n",
              "      <td>1</td>\n",
              "      <td>2011-03-30</td>\n",
              "      <td>2021-05-21</td>\n",
              "      <td>4.68</td>\n",
              "      <td>4.78</td>\n",
              "      <td>4.63</td>\n",
              "      <td>4.82</td>\n",
              "      <td>4.90</td>\n",
              "      <td>4.76</td>\n",
              "      <td>4.65</td>\n",
              "      <td>NaN</td>\n",
              "      <td>t</td>\n",
              "      <td>1</td>\n",
              "      <td>1</td>\n",
              "      <td>0</td>\n",
              "      <td>0</td>\n",
              "      <td>2.11</td>\n",
              "    </tr>\n",
              "    <tr>\n",
              "      <th>1</th>\n",
              "      <td>24480</td>\n",
              "      <td>https://www.airbnb.com/rooms/24480</td>\n",
              "      <td>20210717121617</td>\n",
              "      <td>2021-07-17</td>\n",
              "      <td>Nice and cozy near Ipanema Beach</td>\n",
              "      <td>My studio is located in the best  of Ipanema. ...</td>\n",
              "      <td>The beach, the lagoon, Ipanema is a great loca...</td>\n",
              "      <td>https://a0.muscache.com/pictures/11955612/b28e...</td>\n",
              "      <td>99249</td>\n",
              "      <td>https://www.airbnb.com/users/show/99249</td>\n",
              "      <td>Goya</td>\n",
              "      <td>2010-03-26</td>\n",
              "      <td>Rio de Janeiro, Rio de Janeiro, Brazil</td>\n",
              "      <td>Welcome to Rio!\\r\\nI am a filmmaker and a tea...</td>\n",
              "      <td>within a day</td>\n",
              "      <td>100%</td>\n",
              "      <td>NaN</td>\n",
              "      <td>f</td>\n",
              "      <td>https://a0.muscache.com/im/pictures/user/6b404...</td>\n",
              "      <td>https://a0.muscache.com/im/pictures/user/6b404...</td>\n",
              "      <td>Ipanema</td>\n",
              "      <td>0.0</td>\n",
              "      <td>0.0</td>\n",
              "      <td>['email', 'phone', 'facebook', 'reviews', 'jum...</td>\n",
              "      <td>t</td>\n",
              "      <td>t</td>\n",
              "      <td>Rio de Janeiro, Brazil</td>\n",
              "      <td>Ipanema</td>\n",
              "      <td>NaN</td>\n",
              "      <td>-22.98405</td>\n",
              "      <td>-43.20189</td>\n",
              "      <td>Entire apartment</td>\n",
              "      <td>Entire home/apt</td>\n",
              "      <td>2</td>\n",
              "      <td>NaN</td>\n",
              "      <td>1 bath</td>\n",
              "      <td>1.0</td>\n",
              "      <td>1.0</td>\n",
              "      <td>[\"Bed linens\", \"First aid kit\", \"Hangers\", \"Es...</td>\n",
              "      <td>$283.00</td>\n",
              "      <td>3</td>\n",
              "      <td>90</td>\n",
              "      <td>3</td>\n",
              "      <td>3</td>\n",
              "      <td>90</td>\n",
              "      <td>90</td>\n",
              "      <td>3.0</td>\n",
              "      <td>90.0</td>\n",
              "      <td>NaN</td>\n",
              "      <td>t</td>\n",
              "      <td>0</td>\n",
              "      <td>0</td>\n",
              "      <td>0</td>\n",
              "      <td>154</td>\n",
              "      <td>2021-07-17</td>\n",
              "      <td>85</td>\n",
              "      <td>0</td>\n",
              "      <td>0</td>\n",
              "      <td>2013-08-20</td>\n",
              "      <td>2017-04-22</td>\n",
              "      <td>4.73</td>\n",
              "      <td>4.83</td>\n",
              "      <td>4.78</td>\n",
              "      <td>4.90</td>\n",
              "      <td>4.90</td>\n",
              "      <td>4.97</td>\n",
              "      <td>4.58</td>\n",
              "      <td>NaN</td>\n",
              "      <td>f</td>\n",
              "      <td>1</td>\n",
              "      <td>1</td>\n",
              "      <td>0</td>\n",
              "      <td>0</td>\n",
              "      <td>0.88</td>\n",
              "    </tr>\n",
              "    <tr>\n",
              "      <th>2</th>\n",
              "      <td>25026</td>\n",
              "      <td>https://www.airbnb.com/rooms/25026</td>\n",
              "      <td>20210717121617</td>\n",
              "      <td>2021-07-17</td>\n",
              "      <td>Beautiful Modern Decorated Studio in Copa</td>\n",
              "      <td>Our apartment is a little gem, everyone loves ...</td>\n",
              "      <td>Copacabana is a lively neighborhood and the ap...</td>\n",
              "      <td>https://a0.muscache.com/pictures/3003965/68ebb...</td>\n",
              "      <td>102840</td>\n",
              "      <td>https://www.airbnb.com/users/show/102840</td>\n",
              "      <td>Viviane</td>\n",
              "      <td>2010-04-03</td>\n",
              "      <td>Rio de Janeiro, State of Rio de Janeiro, Brazil</td>\n",
              "      <td>Hi guys, We're a lovely team of 3 people:\\r\\n\\...</td>\n",
              "      <td>a few days or more</td>\n",
              "      <td>40%</td>\n",
              "      <td>21%</td>\n",
              "      <td>f</td>\n",
              "      <td>https://a0.muscache.com/im/pictures/user/9e204...</td>\n",
              "      <td>https://a0.muscache.com/im/pictures/user/9e204...</td>\n",
              "      <td>Copacabana</td>\n",
              "      <td>3.0</td>\n",
              "      <td>3.0</td>\n",
              "      <td>['email', 'phone', 'facebook', 'reviews', 'jum...</td>\n",
              "      <td>t</td>\n",
              "      <td>t</td>\n",
              "      <td>Rio de Janeiro, Brazil</td>\n",
              "      <td>Copacabana</td>\n",
              "      <td>NaN</td>\n",
              "      <td>-22.97735</td>\n",
              "      <td>-43.19105</td>\n",
              "      <td>Entire apartment</td>\n",
              "      <td>Entire home/apt</td>\n",
              "      <td>2</td>\n",
              "      <td>NaN</td>\n",
              "      <td>1 bath</td>\n",
              "      <td>1.0</td>\n",
              "      <td>2.0</td>\n",
              "      <td>[\"Cable TV\", \"Kitchen\", \"Hangers\", \"Long term ...</td>\n",
              "      <td>$160.00</td>\n",
              "      <td>7</td>\n",
              "      <td>60</td>\n",
              "      <td>7</td>\n",
              "      <td>7</td>\n",
              "      <td>60</td>\n",
              "      <td>60</td>\n",
              "      <td>7.0</td>\n",
              "      <td>60.0</td>\n",
              "      <td>NaN</td>\n",
              "      <td>t</td>\n",
              "      <td>29</td>\n",
              "      <td>59</td>\n",
              "      <td>89</td>\n",
              "      <td>316</td>\n",
              "      <td>2021-07-17</td>\n",
              "      <td>238</td>\n",
              "      <td>0</td>\n",
              "      <td>0</td>\n",
              "      <td>2011-03-18</td>\n",
              "      <td>2019-04-27</td>\n",
              "      <td>4.68</td>\n",
              "      <td>4.65</td>\n",
              "      <td>4.76</td>\n",
              "      <td>4.77</td>\n",
              "      <td>4.90</td>\n",
              "      <td>4.81</td>\n",
              "      <td>4.56</td>\n",
              "      <td>NaN</td>\n",
              "      <td>f</td>\n",
              "      <td>2</td>\n",
              "      <td>2</td>\n",
              "      <td>0</td>\n",
              "      <td>0</td>\n",
              "      <td>1.89</td>\n",
              "    </tr>\n",
              "    <tr>\n",
              "      <th>3</th>\n",
              "      <td>35636</td>\n",
              "      <td>https://www.airbnb.com/rooms/35636</td>\n",
              "      <td>20210717121617</td>\n",
              "      <td>2021-07-18</td>\n",
              "      <td>Cosy flat close to Ipanema beach</td>\n",
              "      <td>This cosy apartment  is just a few steps away ...</td>\n",
              "      <td>The  apartment street is very quiet and safe ....</td>\n",
              "      <td>https://a0.muscache.com/pictures/20009355/38b6...</td>\n",
              "      <td>153232</td>\n",
              "      <td>https://www.airbnb.com/users/show/153232</td>\n",
              "      <td>Patricia</td>\n",
              "      <td>2010-06-27</td>\n",
              "      <td>San Carlos de Bariloche, Rio Negro, Argentina</td>\n",
              "      <td>I am Brazilian and Carioca graphic designer, b...</td>\n",
              "      <td>within an hour</td>\n",
              "      <td>100%</td>\n",
              "      <td>NaN</td>\n",
              "      <td>t</td>\n",
              "      <td>https://a0.muscache.com/im/users/153232/profil...</td>\n",
              "      <td>https://a0.muscache.com/im/users/153232/profil...</td>\n",
              "      <td>Ipanema</td>\n",
              "      <td>1.0</td>\n",
              "      <td>1.0</td>\n",
              "      <td>['email', 'phone', 'facebook', 'reviews', 'man...</td>\n",
              "      <td>t</td>\n",
              "      <td>t</td>\n",
              "      <td>Rio de Janeiro, Brazil</td>\n",
              "      <td>Ipanema</td>\n",
              "      <td>NaN</td>\n",
              "      <td>-22.98839</td>\n",
              "      <td>-43.19232</td>\n",
              "      <td>Entire apartment</td>\n",
              "      <td>Entire home/apt</td>\n",
              "      <td>2</td>\n",
              "      <td>NaN</td>\n",
              "      <td>1.5 baths</td>\n",
              "      <td>1.0</td>\n",
              "      <td>1.0</td>\n",
              "      <td>[\"Bed linens\", \"Hangers\", \"Cooking basics\", \"S...</td>\n",
              "      <td>$256.00</td>\n",
              "      <td>2</td>\n",
              "      <td>89</td>\n",
              "      <td>2</td>\n",
              "      <td>2</td>\n",
              "      <td>89</td>\n",
              "      <td>89</td>\n",
              "      <td>2.0</td>\n",
              "      <td>89.0</td>\n",
              "      <td>NaN</td>\n",
              "      <td>t</td>\n",
              "      <td>0</td>\n",
              "      <td>0</td>\n",
              "      <td>0</td>\n",
              "      <td>167</td>\n",
              "      <td>2021-07-18</td>\n",
              "      <td>181</td>\n",
              "      <td>0</td>\n",
              "      <td>0</td>\n",
              "      <td>2013-12-29</td>\n",
              "      <td>2019-12-06</td>\n",
              "      <td>4.72</td>\n",
              "      <td>4.85</td>\n",
              "      <td>4.63</td>\n",
              "      <td>4.85</td>\n",
              "      <td>4.88</td>\n",
              "      <td>4.90</td>\n",
              "      <td>4.65</td>\n",
              "      <td>NaN</td>\n",
              "      <td>f</td>\n",
              "      <td>1</td>\n",
              "      <td>1</td>\n",
              "      <td>0</td>\n",
              "      <td>0</td>\n",
              "      <td>1.97</td>\n",
              "    </tr>\n",
              "    <tr>\n",
              "      <th>4</th>\n",
              "      <td>35764</td>\n",
              "      <td>https://www.airbnb.com/rooms/35764</td>\n",
              "      <td>20210717121617</td>\n",
              "      <td>2021-07-17</td>\n",
              "      <td>COPACABANA SEA BREEZE  -  RIO - 20 X Superhost</td>\n",
              "      <td>Our newly renovated studio is located in the b...</td>\n",
              "      <td>Our guests will experience living with a local...</td>\n",
              "      <td>https://a0.muscache.com/pictures/23782972/1d3e...</td>\n",
              "      <td>153691</td>\n",
              "      <td>https://www.airbnb.com/users/show/153691</td>\n",
              "      <td>Patricia Miranda &amp; Paulo</td>\n",
              "      <td>2010-06-27</td>\n",
              "      <td>Rio de Janeiro, Rio de Janeiro, Brazil</td>\n",
              "      <td>Hello,   We are Patricia Miranda and Paulo.\\r\\...</td>\n",
              "      <td>within an hour</td>\n",
              "      <td>100%</td>\n",
              "      <td>98%</td>\n",
              "      <td>t</td>\n",
              "      <td>https://a0.muscache.com/im/users/153691/profil...</td>\n",
              "      <td>https://a0.muscache.com/im/users/153691/profil...</td>\n",
              "      <td>Copacabana</td>\n",
              "      <td>1.0</td>\n",
              "      <td>1.0</td>\n",
              "      <td>['email', 'phone', 'reviews', 'jumio']</td>\n",
              "      <td>t</td>\n",
              "      <td>f</td>\n",
              "      <td>Rio de Janeiro, Brazil</td>\n",
              "      <td>Copacabana</td>\n",
              "      <td>NaN</td>\n",
              "      <td>-22.98107</td>\n",
              "      <td>-43.19136</td>\n",
              "      <td>Entire loft</td>\n",
              "      <td>Entire home/apt</td>\n",
              "      <td>2</td>\n",
              "      <td>NaN</td>\n",
              "      <td>1 bath</td>\n",
              "      <td>1.0</td>\n",
              "      <td>1.0</td>\n",
              "      <td>[\"Bed linens\", \"Hangers\", \"Cooking basics\", \"S...</td>\n",
              "      <td>$120.00</td>\n",
              "      <td>3</td>\n",
              "      <td>15</td>\n",
              "      <td>3</td>\n",
              "      <td>3</td>\n",
              "      <td>15</td>\n",
              "      <td>15</td>\n",
              "      <td>3.0</td>\n",
              "      <td>15.0</td>\n",
              "      <td>NaN</td>\n",
              "      <td>t</td>\n",
              "      <td>5</td>\n",
              "      <td>14</td>\n",
              "      <td>26</td>\n",
              "      <td>92</td>\n",
              "      <td>2021-07-17</td>\n",
              "      <td>363</td>\n",
              "      <td>31</td>\n",
              "      <td>2</td>\n",
              "      <td>2011-10-07</td>\n",
              "      <td>2019-06-15</td>\n",
              "      <td>4.90</td>\n",
              "      <td>4.93</td>\n",
              "      <td>4.93</td>\n",
              "      <td>4.96</td>\n",
              "      <td>4.94</td>\n",
              "      <td>4.93</td>\n",
              "      <td>4.87</td>\n",
              "      <td>NaN</td>\n",
              "      <td>f</td>\n",
              "      <td>1</td>\n",
              "      <td>1</td>\n",
              "      <td>0</td>\n",
              "      <td>0</td>\n",
              "      <td>3.05</td>\n",
              "    </tr>\n",
              "  </tbody>\n",
              "</table>\n",
              "</div>"
            ],
            "text/plain": [
              "      id  ... reviews_per_month\n",
              "0  17878  ...              2.11\n",
              "1  24480  ...              0.88\n",
              "2  25026  ...              1.89\n",
              "3  35636  ...              1.97\n",
              "4  35764  ...              3.05\n",
              "\n",
              "[5 rows x 74 columns]"
            ]
          },
          "metadata": {},
          "execution_count": 4
        }
      ],
      "source": [
        "# Visualização rápida do cabeçalho do dataframe para conhecer melhor os atributos e tipos dos dados do dataset\n",
        "\n",
        "df.head()"
      ]
    },
    {
      "cell_type": "code",
      "execution_count": 5,
      "metadata": {
        "colab": {
          "base_uri": "https://localhost:8080/"
        },
        "id": "WM6GOquMChHE",
        "outputId": "e35cef54-e731-477d-d757-c0c3d7fdd719"
      },
      "outputs": [
        {
          "output_type": "execute_result",
          "data": {
            "text/plain": [
              "(23635, 74)"
            ]
          },
          "metadata": {},
          "execution_count": 5
        }
      ],
      "source": [
        "# Conhecimento das dimensões do dataset\n",
        "# Este dataset possui 23.635 instâncias e 74 atributos\n",
        "\n",
        "df.shape"
      ]
    },
    {
      "cell_type": "code",
      "execution_count": 6,
      "metadata": {
        "colab": {
          "base_uri": "https://localhost:8080/"
        },
        "id": "JqRTieXCChHF",
        "outputId": "21fe25b4-2cf9-4972-8b09-19f56f47f0b3"
      },
      "outputs": [
        {
          "output_type": "execute_result",
          "data": {
            "text/plain": [
              "['id',\n",
              " 'listing_url',\n",
              " 'scrape_id',\n",
              " 'last_scraped',\n",
              " 'name',\n",
              " 'description',\n",
              " 'neighborhood_overview',\n",
              " 'picture_url',\n",
              " 'host_id',\n",
              " 'host_url',\n",
              " 'host_name',\n",
              " 'host_since',\n",
              " 'host_location',\n",
              " 'host_about',\n",
              " 'host_response_time',\n",
              " 'host_response_rate',\n",
              " 'host_acceptance_rate',\n",
              " 'host_is_superhost',\n",
              " 'host_thumbnail_url',\n",
              " 'host_picture_url',\n",
              " 'host_neighbourhood',\n",
              " 'host_listings_count',\n",
              " 'host_total_listings_count',\n",
              " 'host_verifications',\n",
              " 'host_has_profile_pic',\n",
              " 'host_identity_verified',\n",
              " 'neighbourhood',\n",
              " 'neighbourhood_cleansed',\n",
              " 'neighbourhood_group_cleansed',\n",
              " 'latitude',\n",
              " 'longitude',\n",
              " 'property_type',\n",
              " 'room_type',\n",
              " 'accommodates',\n",
              " 'bathrooms',\n",
              " 'bathrooms_text',\n",
              " 'bedrooms',\n",
              " 'beds',\n",
              " 'amenities',\n",
              " 'price',\n",
              " 'minimum_nights',\n",
              " 'maximum_nights',\n",
              " 'minimum_minimum_nights',\n",
              " 'maximum_minimum_nights',\n",
              " 'minimum_maximum_nights',\n",
              " 'maximum_maximum_nights',\n",
              " 'minimum_nights_avg_ntm',\n",
              " 'maximum_nights_avg_ntm',\n",
              " 'calendar_updated',\n",
              " 'has_availability',\n",
              " 'availability_30',\n",
              " 'availability_60',\n",
              " 'availability_90',\n",
              " 'availability_365',\n",
              " 'calendar_last_scraped',\n",
              " 'number_of_reviews',\n",
              " 'number_of_reviews_ltm',\n",
              " 'number_of_reviews_l30d',\n",
              " 'first_review',\n",
              " 'last_review',\n",
              " 'review_scores_rating',\n",
              " 'review_scores_accuracy',\n",
              " 'review_scores_cleanliness',\n",
              " 'review_scores_checkin',\n",
              " 'review_scores_communication',\n",
              " 'review_scores_location',\n",
              " 'review_scores_value',\n",
              " 'license',\n",
              " 'instant_bookable',\n",
              " 'calculated_host_listings_count',\n",
              " 'calculated_host_listings_count_entire_homes',\n",
              " 'calculated_host_listings_count_private_rooms',\n",
              " 'calculated_host_listings_count_shared_rooms',\n",
              " 'reviews_per_month']"
            ]
          },
          "metadata": {},
          "execution_count": 6
        }
      ],
      "source": [
        "# Visualizando todos os atributos do dataset\n",
        "\n",
        "df.columns.tolist()"
      ]
    },
    {
      "cell_type": "code",
      "execution_count": 7,
      "metadata": {
        "colab": {
          "base_uri": "https://localhost:8080/"
        },
        "id": "IBsrJRYVChHF",
        "outputId": "4b1f72f4-417c-4c5e-ea67-90b1774946f4"
      },
      "outputs": [
        {
          "output_type": "stream",
          "name": "stdout",
          "text": [
            "<class 'pandas.core.frame.DataFrame'>\n",
            "RangeIndex: 23635 entries, 0 to 23634\n",
            "Data columns (total 74 columns):\n",
            " #   Column                                        Non-Null Count  Dtype  \n",
            "---  ------                                        --------------  -----  \n",
            " 0   id                                            23635 non-null  int64  \n",
            " 1   listing_url                                   23635 non-null  object \n",
            " 2   scrape_id                                     23635 non-null  int64  \n",
            " 3   last_scraped                                  23635 non-null  object \n",
            " 4   name                                          23614 non-null  object \n",
            " 5   description                                   22294 non-null  object \n",
            " 6   neighborhood_overview                         12824 non-null  object \n",
            " 7   picture_url                                   23635 non-null  object \n",
            " 8   host_id                                       23635 non-null  int64  \n",
            " 9   host_url                                      23635 non-null  object \n",
            " 10  host_name                                     23628 non-null  object \n",
            " 11  host_since                                    23628 non-null  object \n",
            " 12  host_location                                 23549 non-null  object \n",
            " 13  host_about                                    11623 non-null  object \n",
            " 14  host_response_time                            14237 non-null  object \n",
            " 15  host_response_rate                            14237 non-null  object \n",
            " 16  host_acceptance_rate                          14663 non-null  object \n",
            " 17  host_is_superhost                             23628 non-null  object \n",
            " 18  host_thumbnail_url                            23628 non-null  object \n",
            " 19  host_picture_url                              23628 non-null  object \n",
            " 20  host_neighbourhood                            13298 non-null  object \n",
            " 21  host_listings_count                           23628 non-null  float64\n",
            " 22  host_total_listings_count                     23628 non-null  float64\n",
            " 23  host_verifications                            23635 non-null  object \n",
            " 24  host_has_profile_pic                          23628 non-null  object \n",
            " 25  host_identity_verified                        23628 non-null  object \n",
            " 26  neighbourhood                                 12824 non-null  object \n",
            " 27  neighbourhood_cleansed                        23635 non-null  object \n",
            " 28  neighbourhood_group_cleansed                  0 non-null      float64\n",
            " 29  latitude                                      23635 non-null  float64\n",
            " 30  longitude                                     23635 non-null  float64\n",
            " 31  property_type                                 23635 non-null  object \n",
            " 32  room_type                                     23635 non-null  object \n",
            " 33  accommodates                                  23635 non-null  int64  \n",
            " 34  bathrooms                                     0 non-null      float64\n",
            " 35  bathrooms_text                                23572 non-null  object \n",
            " 36  bedrooms                                      22054 non-null  float64\n",
            " 37  beds                                          23407 non-null  float64\n",
            " 38  amenities                                     23635 non-null  object \n",
            " 39  price                                         23635 non-null  object \n",
            " 40  minimum_nights                                23635 non-null  int64  \n",
            " 41  maximum_nights                                23635 non-null  int64  \n",
            " 42  minimum_minimum_nights                        23635 non-null  int64  \n",
            " 43  maximum_minimum_nights                        23635 non-null  int64  \n",
            " 44  minimum_maximum_nights                        23635 non-null  int64  \n",
            " 45  maximum_maximum_nights                        23635 non-null  int64  \n",
            " 46  minimum_nights_avg_ntm                        23635 non-null  float64\n",
            " 47  maximum_nights_avg_ntm                        23635 non-null  float64\n",
            " 48  calendar_updated                              0 non-null      float64\n",
            " 49  has_availability                              23635 non-null  object \n",
            " 50  availability_30                               23635 non-null  int64  \n",
            " 51  availability_60                               23635 non-null  int64  \n",
            " 52  availability_90                               23635 non-null  int64  \n",
            " 53  availability_365                              23635 non-null  int64  \n",
            " 54  calendar_last_scraped                         23635 non-null  object \n",
            " 55  number_of_reviews                             23635 non-null  int64  \n",
            " 56  number_of_reviews_ltm                         23635 non-null  int64  \n",
            " 57  number_of_reviews_l30d                        23635 non-null  int64  \n",
            " 58  first_review                                  14980 non-null  object \n",
            " 59  last_review                                   14980 non-null  object \n",
            " 60  review_scores_rating                          14980 non-null  float64\n",
            " 61  review_scores_accuracy                        14501 non-null  float64\n",
            " 62  review_scores_cleanliness                     14502 non-null  float64\n",
            " 63  review_scores_checkin                         14501 non-null  float64\n",
            " 64  review_scores_communication                   14503 non-null  float64\n",
            " 65  review_scores_location                        14500 non-null  float64\n",
            " 66  review_scores_value                           14501 non-null  float64\n",
            " 67  license                                       0 non-null      float64\n",
            " 68  instant_bookable                              23635 non-null  object \n",
            " 69  calculated_host_listings_count                23635 non-null  int64  \n",
            " 70  calculated_host_listings_count_entire_homes   23635 non-null  int64  \n",
            " 71  calculated_host_listings_count_private_rooms  23635 non-null  int64  \n",
            " 72  calculated_host_listings_count_shared_rooms   23635 non-null  int64  \n",
            " 73  reviews_per_month                             14980 non-null  float64\n",
            "dtypes: float64(20), int64(21), object(33)\n",
            "memory usage: 13.3+ MB\n"
          ]
        }
      ],
      "source": [
        "# Através do resultado do código df.info() é possível conhecer além da descrição das variáveis, a presença \n",
        "# ou não de dados nulos e o tipo de dados para cada um dos atributos. Este conhecimento permitirá a correta \n",
        "# manipulação e tratamento dos dados no decorrer do estudo.\n",
        "\n",
        "df.info()"
      ]
    },
    {
      "cell_type": "code",
      "execution_count": null,
      "metadata": {
        "id": "1tBj7fKIChHG"
      },
      "outputs": [],
      "source": [
        "# Analisando alguns dos atributos do dataset.\n",
        "# A fim de continuar a análise exploratória dos dados, foram escolhidas aleatoriamente alguns atributos para\n",
        "# análise descritiva.\n",
        "# 'property_type', 'room_type', 'review_scores_rating', 'review_scores_value', 'review_scores_location'"
      ]
    },
    {
      "cell_type": "code",
      "execution_count": 8,
      "metadata": {
        "colab": {
          "base_uri": "https://localhost:8080/"
        },
        "id": "yCsym-W1ChHG",
        "outputId": "d34c35ef-29fd-4159-8ee2-1ec947157206"
      },
      "outputs": [
        {
          "output_type": "stream",
          "name": "stdout",
          "text": [
            "Entire apartment             13255\n",
            "Private room in apartment     3594\n",
            "Entire condominium            1340\n",
            "Private room in house         1097\n",
            "Entire house                  1036\n",
            "                             ...  \n",
            "Shared room in bungalow          1\n",
            "Treehouse                        1\n",
            "Room in nature lodge             1\n",
            "Dome house                       1\n",
            "Private room in treehouse        1\n",
            "Name: property_type, Length: 87, dtype: int64\n"
          ]
        }
      ],
      "source": [
        "# Avaliando o atributo 'property_type', identificamos 87 diferentes tipos de classificação de tipos de propriedade,\n",
        "# sendo a de maior ocorrência 'Entire apartment' com 13.255 registros, 'Private room in apartment' com 3.594,\n",
        "# 'Entire condominium' com 1.340. Além disso as opções de tipo de propriedade com menores ofertas são 'Private room in tent'\n",
        "# 'Shared room in townhouse', 'Shared room in cottage', 'Private room in cabin' e 'Shared rooom in bungalow', cada uma\n",
        "# com apenas 1 opção, dentro deste dataset.\n",
        "\n",
        "property_type = df.property_type.value_counts()\n",
        "print(property_type)"
      ]
    },
    {
      "cell_type": "code",
      "execution_count": 9,
      "metadata": {
        "colab": {
          "base_uri": "https://localhost:8080/"
        },
        "id": "UZsjef_GChHH",
        "outputId": "9291f82a-eaba-4d3d-dcd8-f86a5f47cab1"
      },
      "outputs": [
        {
          "output_type": "execute_result",
          "data": {
            "text/plain": [
              "Entire home/apt    17172\n",
              "Private room        5841\n",
              "Shared room          532\n",
              "Hotel room            90\n",
              "Name: room_type, dtype: int64"
            ]
          },
          "metadata": {},
          "execution_count": 9
        }
      ],
      "source": [
        "# Avaliando o atributo 'room_type', observamos a ocorrência de 4 diferentes tipos de classificação, sendo elas:\n",
        "# 'Entire home/apt', 'Private room', 'Shared room' e 'Hotel room'. 'Entire home/apt' representa a classificação\n",
        "# com maior número de registros, 17.172, seguido de 'Private room' com 5.841, 'Shared room' com 532 e 'Hotem room'\n",
        "# com 90 unidades registradas neste dataset.\n",
        "\n",
        "df.room_type.value_counts()"
      ]
    },
    {
      "cell_type": "code",
      "execution_count": 10,
      "metadata": {
        "colab": {
          "base_uri": "https://localhost:8080/",
          "height": 297
        },
        "id": "oQ5j-x29ChHH",
        "outputId": "81d82b12-a959-4a47-c2d5-9387406acc6d"
      },
      "outputs": [
        {
          "output_type": "execute_result",
          "data": {
            "text/plain": [
              "<matplotlib.axes._subplots.AxesSubplot at 0x7fa4a2aebb10>"
            ]
          },
          "metadata": {},
          "execution_count": 10
        },
        {
          "output_type": "display_data",
          "data": {
            "image/png": "[encoded data removed]",
            "text/plain": [
              "<Figure size 432x288 with 1 Axes>"
            ]
          },
          "metadata": {
            "needs_background": "light"
          }
        }
      ],
      "source": [
        "# Um gráfico de barras pode ser plotado como fim ilustrativo de comparação visual entre as ocorrências das classes\n",
        "# room type\n",
        "\n",
        "sns.countplot(x='room_type', data=df)"
      ]
    },
    {
      "cell_type": "code",
      "execution_count": 11,
      "metadata": {
        "colab": {
          "base_uri": "https://localhost:8080/"
        },
        "id": "7FK-82THChHH",
        "outputId": "b87e0d25-9bae-446a-c422-aef49708ee8e"
      },
      "outputs": [
        {
          "output_type": "execute_result",
          "data": {
            "text/plain": [
              "array([4.68, 4.73, 4.72, 4.9 , 4.62, 4.88, 4.33, 4.57, 4.75, 5.  , 4.38,\n",
              "       4.  , 4.89, 4.64, 4.76, 4.27, 4.32, 4.78, 4.7 , 4.67, 4.58,  nan,\n",
              "       4.47, 4.59, 4.66, 4.74, 4.82, 4.92, 4.55, 4.71, 4.61, 4.85, 3.33,\n",
              "       4.99, 4.93, 4.53, 4.87, 4.94, 3.  , 4.2 , 4.77, 4.96, 4.86, 4.97,\n",
              "       4.8 , 4.5 , 4.41, 0.  , 4.95, 4.81, 4.84, 4.79, 4.48, 4.83, 4.14,\n",
              "       4.91, 4.6 , 3.71, 4.65, 4.63, 4.22, 4.29, 4.09, 4.25, 4.46, 4.11,\n",
              "       4.52, 4.43, 4.28, 4.44, 4.69, 4.4 , 4.42, 4.26, 3.86, 4.51, 3.5 ,\n",
              "       4.45, 4.34, 4.54, 4.36, 4.17, 3.67, 4.3 , 2.6 , 4.56, 4.37, 4.15,\n",
              "       4.31, 4.19, 2.5 , 4.21, 4.35, 4.18, 4.98, 4.13, 4.39, 1.  , 3.8 ,\n",
              "       4.1 , 2.67, 3.75, 4.24, 4.06, 2.  , 2.25, 3.89, 3.88, 4.08, 4.49,\n",
              "       4.23, 3.2 , 3.43, 1.75, 3.7 , 3.83, 3.6 , 3.25, 1.5 , 3.64, 4.07,\n",
              "       2.33, 4.16, 3.94, 2.75, 3.14, 3.9 , 1.33, 2.4 , 3.17])"
            ]
          },
          "metadata": {},
          "execution_count": 11
        }
      ],
      "source": [
        "# Em sequência, vamos analisar a variável 'review_scores_rating', a qual representa uma variável considerada importante\n",
        "# para o cliente durante a tomada de decisão de escolha de acomodações.\n",
        "# Para este dataset, apenas 14.980 acomodações possuem este tipo de avaliação. Os demais valores encontram-se como NaN.\n",
        "\n",
        "df.review_scores_rating.unique()"
      ]
    },
    {
      "cell_type": "code",
      "execution_count": 12,
      "metadata": {
        "colab": {
          "base_uri": "https://localhost:8080/"
        },
        "id": "rfUhRJVGChHI",
        "outputId": "027b70af-027c-4382-a5f6-2bcec9600fba"
      },
      "outputs": [
        {
          "output_type": "execute_result",
          "data": {
            "text/plain": [
              "count    14980.000000\n",
              "mean         4.577253\n",
              "std          0.961930\n",
              "min          0.000000\n",
              "25%          4.630000\n",
              "50%          4.880000\n",
              "75%          5.000000\n",
              "max          5.000000\n",
              "Name: review_scores_rating, dtype: float64"
            ]
          },
          "metadata": {},
          "execution_count": 12
        }
      ],
      "source": [
        "# Através da função describe é possível realizar algumas observações sobre estes dados: O maior valor de avaliação foi 5,\n",
        "# enquanto que o menor foi 0. A média das avaliações é 4,577, e a mediana 4,88. A proximidade entre média e mediana\n",
        "# sugerem um certo agrupamento dos dados, enquanto que o baixo desvio padrão indica uma baixa dispersão ou espalhamento\n",
        "# dos mesmos.\n",
        "\n",
        "df.review_scores_rating.describe()"
      ]
    },
    {
      "cell_type": "code",
      "execution_count": 13,
      "metadata": {
        "colab": {
          "base_uri": "https://localhost:8080/",
          "height": 352
        },
        "id": "AbX8XnMkChHJ",
        "outputId": "43418d5a-a5db-40aa-cf98-6971020ab2ed"
      },
      "outputs": [
        {
          "output_type": "stream",
          "name": "stderr",
          "text": [
            "/usr/local/lib/python3.7/dist-packages/seaborn/_decorators.py:43: FutureWarning: Pass the following variable as a keyword arg: x. From version 0.12, the only valid positional argument will be `data`, and passing other arguments without an explicit keyword will result in an error or misinterpretation.\n",
            "  FutureWarning\n"
          ]
        },
        {
          "output_type": "execute_result",
          "data": {
            "text/plain": [
              "<matplotlib.axes._subplots.AxesSubplot at 0x7fa4a4a893d0>"
            ]
          },
          "metadata": {},
          "execution_count": 13
        },
        {
          "output_type": "display_data",
          "data": {
            "image/png": "[encoded data removed]",
            "text/plain": [
              "<Figure size 432x288 with 1 Axes>"
            ]
          },
          "metadata": {
            "needs_background": "light"
          }
        }
      ],
      "source": [
        "# Um boxplot desta variável auxilia a visualização da distribuição das avaliações, em complemento com os dados estatísticos\n",
        "# mencionados acima.\n",
        "\n",
        "scores_rating = df.review_scores_rating\n",
        "sns.boxplot(scores_rating)"
      ]
    },
    {
      "cell_type": "code",
      "execution_count": null,
      "metadata": {
        "id": "FVTSqAe5ChHJ"
      },
      "outputs": [],
      "source": [
        "# Para finalizar o overview de alguns dos atributos, seguiremos analisando as avaliações 'review_scores_rating', \n",
        "# 'review_scores_value', 'review_scores_location'"
      ]
    },
    {
      "cell_type": "code",
      "execution_count": 14,
      "metadata": {
        "colab": {
          "base_uri": "https://localhost:8080/"
        },
        "id": "-rqN6cWBChHJ",
        "outputId": "fe27740a-f9f8-401d-b553-14a86508c01e"
      },
      "outputs": [
        {
          "output_type": "execute_result",
          "data": {
            "text/plain": [
              "array([4.65, 4.58, 4.56, 4.87, 4.44, 4.93, 3.67, 4.6 , 4.57, 4.75, 4.33,\n",
              "       4.23, 5.  , 4.78, 4.74, 4.24, 4.76, 4.62, 4.  ,  nan, 4.59, 4.48,\n",
              "       4.77, 4.54, 4.7 , 4.43, 4.52, 4.67, 4.72, 4.79, 4.29, 4.53, 4.81,\n",
              "       4.89, 4.55, 4.64, 4.49, 4.63, 4.13, 4.66, 4.86, 4.8 , 2.5 , 4.47,\n",
              "       4.68, 3.6 , 4.5 , 4.71, 4.73, 4.69, 4.45, 4.37, 4.38, 4.85, 4.2 ,\n",
              "       4.95, 4.25, 4.82, 3.  , 4.88, 4.36, 4.61, 4.4 , 4.18, 4.91, 4.84,\n",
              "       4.08, 4.26, 4.35, 4.42, 4.15, 4.22, 4.3 , 4.92, 4.51, 4.17, 4.19,\n",
              "       4.39, 3.43, 4.83, 4.46, 4.41, 4.9 , 4.32, 2.8 , 4.34, 4.27, 4.31,\n",
              "       3.5 , 4.16, 3.94, 4.96, 3.92, 4.21, 3.95, 3.88, 3.83, 3.75, 1.  ,\n",
              "       3.8 , 3.91, 4.1 , 4.28, 2.67, 2.33, 4.06, 3.93, 4.94, 2.  , 4.09,\n",
              "       2.75, 3.33, 4.14, 3.89, 3.73, 3.86, 4.07, 3.57, 3.9 , 4.97, 4.98,\n",
              "       3.2 , 4.11, 3.25, 1.5 , 3.71, 3.4 , 4.99, 3.29, 3.84, 2.6 ])"
            ]
          },
          "metadata": {},
          "execution_count": 14
        }
      ],
      "source": [
        "df.review_scores_value.unique()"
      ]
    },
    {
      "cell_type": "code",
      "execution_count": 15,
      "metadata": {
        "colab": {
          "base_uri": "https://localhost:8080/"
        },
        "id": "49Z1W3woChHK",
        "outputId": "ccf288f6-f462-4aba-f12d-9f1bc56d709e"
      },
      "outputs": [
        {
          "output_type": "execute_result",
          "data": {
            "text/plain": [
              "count    14501.000000\n",
              "mean         4.630632\n",
              "std          0.510273\n",
              "min          1.000000\n",
              "25%          4.500000\n",
              "50%          4.750000\n",
              "75%          5.000000\n",
              "max          5.000000\n",
              "Name: review_scores_value, dtype: float64"
            ]
          },
          "metadata": {},
          "execution_count": 15
        }
      ],
      "source": [
        "# O atributo 'review scores value' possui 14.501 registros neste dataset, os demais valores são não existentes.\n",
        "# A média das avaliações é de 4,63, enquanto que a mediana é 4,75. A proximidade da média com a mediana indicam\n",
        "# certo agrupamento das notas. Com o 1º quartil em 4,5, e o 3º quartil em 5,0, fica mais visível a concentração\n",
        "# de dados entre 4,5 e 5,0. O desvio padrão baixo de 0,51 confirma a baixa dispersão dos valores das avaliações.\n",
        "\n",
        "df.review_scores_value.describe()"
      ]
    },
    {
      "cell_type": "code",
      "execution_count": 16,
      "metadata": {
        "colab": {
          "base_uri": "https://localhost:8080/"
        },
        "id": "7ZfwiDc8ChHK",
        "outputId": "47d46b23-dbb3-46f6-bedf-5739ced6c36f"
      },
      "outputs": [
        {
          "output_type": "execute_result",
          "data": {
            "text/plain": [
              "array([4.76, 4.97, 4.81, 4.9 , 4.93, 4.92, 4.98, 4.67, 4.83, 4.71, 4.91,\n",
              "       5.  , 4.88, 4.58, 4.36, 4.61, 4.31, 4.46, 4.89,  nan, 4.87, 4.68,\n",
              "       4.48, 4.43, 4.78, 3.33, 4.96, 4.85, 4.94, 4.44, 4.  , 4.72, 4.8 ,\n",
              "       4.77, 3.6 , 4.95, 4.73, 4.75, 4.86, 4.69, 4.62, 4.52, 4.7 , 4.33,\n",
              "       4.65, 4.5 , 4.6 , 4.54, 4.56, 4.63, 3.  , 4.45, 4.4 , 4.42, 4.25,\n",
              "       4.66, 4.64, 4.79, 4.84, 4.99, 4.74, 4.57, 4.1 , 4.2 , 2.  , 4.26,\n",
              "       4.47, 4.82, 4.23, 4.51, 4.38, 4.59, 3.88, 4.22, 4.11, 4.24, 4.55,\n",
              "       4.32, 3.75, 4.39, 4.37, 3.92, 4.17, 4.19, 3.7 , 3.58, 4.14, 3.5 ,\n",
              "       4.53, 4.13, 2.5 , 1.  , 4.08, 3.67, 4.09, 4.29, 4.35, 1.67, 4.18,\n",
              "       4.07, 3.8 , 4.3 , 4.27, 2.25, 3.4 , 3.83, 3.2 , 4.41, 3.98, 3.71,\n",
              "       4.49, 3.61, 4.21])"
            ]
          },
          "metadata": {},
          "execution_count": 16
        }
      ],
      "source": [
        "df.review_scores_location.unique()"
      ]
    },
    {
      "cell_type": "code",
      "execution_count": 17,
      "metadata": {
        "colab": {
          "base_uri": "https://localhost:8080/"
        },
        "id": "aCpPo2spChHK",
        "outputId": "4f08777d-402b-449a-f4ee-451462af8a7f"
      },
      "outputs": [
        {
          "output_type": "execute_result",
          "data": {
            "text/plain": [
              "count    14500.000000\n",
              "mean         4.847638\n",
              "std          0.377966\n",
              "min          1.000000\n",
              "25%          4.850000\n",
              "50%          5.000000\n",
              "75%          5.000000\n",
              "max          5.000000\n",
              "Name: review_scores_location, dtype: float64"
            ]
          },
          "metadata": {},
          "execution_count": 17
        }
      ],
      "source": [
        "# O atributo 'review scores location', que representam a avaliação da localização do imóvel, possui um total de\n",
        "# 14.500 registros nesta base de dados. Valor mínimo de 1, e máximo de 5, apresenta uma média de 4,847 e mediana de 5,\n",
        "# igual ao 3º quartil. Já o 1º quartil é de 4,85 igual à média. Com 3/4 dos valores acima de 4,8, dos atributos avaliados,\n",
        "# as notas de avaliação por localização são as mais altas, mais consistentes e mais agrupadas. O que implica que os imóveis\n",
        "# ofertados pela empresa Airbnb possuem boas localizações, segundo as notas registradas.\n",
        "\n",
        "df.review_scores_location.describe()"
      ]
    },
    {
      "cell_type": "code",
      "execution_count": 18,
      "metadata": {
        "colab": {
          "base_uri": "https://localhost:8080/",
          "height": 501
        },
        "id": "7NMsDXkHChHL",
        "outputId": "4d1935aa-b555-48cb-f359-45a768042a9f"
      },
      "outputs": [
        {
          "output_type": "stream",
          "name": "stderr",
          "text": [
            "/usr/local/lib/python3.7/dist-packages/numpy/core/_asarray.py:83: VisibleDeprecationWarning: Creating an ndarray from ragged nested sequences (which is a list-or-tuple of lists-or-tuples-or ndarrays with different lengths or shapes) is deprecated. If you meant to do this, you must specify 'dtype=object' when creating the ndarray\n",
            "  return array(a, dtype, copy=False, order=order)\n"
          ]
        },
        {
          "output_type": "execute_result",
          "data": {
            "text/plain": [
              "<matplotlib.axes._subplots.AxesSubplot at 0x7fa4a4b54fd0>"
            ]
          },
          "metadata": {},
          "execution_count": 18
        },
        {
          "output_type": "display_data",
          "data": {
            "image/png": "[encoded data removed]",
            "text/plain": [
              "<Figure size 432x504 with 1 Axes>"
            ]
          },
          "metadata": {
            "needs_background": "light"
          }
        }
      ],
      "source": [
        "# Por se tratar de atributos de mesma ordem de grandeza, é possível estabelecer uma rápida relação entre eles,\n",
        "# com auxílio do boxplot. Os três atributos possuem maior concentração de valores próxima a 5. 'review\n",
        "# score location' possui o maior grupamento de dados, entre os três, visto que o tamanho da box é a menor\n",
        "# sugerindo um baixo espalhamento dos dados. Uma análise mais minunciosa poderia avaliar a correlação estatística\n",
        "# dos atributos, podendo sugerir avaliação via regressão linear, por exemplo, visto que mesmo que visualmente\n",
        "# os dados se comportem de forma semelhante, não é possível confirmar que obrigatoriamente alta avaliação\n",
        "# em 'review scores value' acarrete numa alta avaliação em 'review scores location'.\n",
        "\n",
        "plt.figure(figsize=(6, 7))\n",
        "df.boxplot(column=['review_scores_rating', 'review_scores_value', 'review_scores_location'], grid=False)"
      ]
    },
    {
      "cell_type": "code",
      "execution_count": 19,
      "metadata": {
        "colab": {
          "base_uri": "https://localhost:8080/"
        },
        "id": "KcW3F8jdChHM",
        "outputId": "a7455149-cf2e-4b82-c0fc-f1cfd8c45e31"
      },
      "outputs": [
        {
          "output_type": "execute_result",
          "data": {
            "text/plain": [
              "Entire home/apt    17172\n",
              "Private room        5841\n",
              "Shared room          532\n",
              "Hotel room            90\n",
              "Name: room_type, dtype: int64"
            ]
          },
          "metadata": {},
          "execution_count": 19
        }
      ],
      "source": [
        "# Voltando à análise do room_type, vamos avaliar este atributo com mais detalhes.\n",
        "\n",
        "df.room_type.value_counts()"
      ]
    },
    {
      "cell_type": "code",
      "execution_count": 20,
      "metadata": {
        "colab": {
          "base_uri": "https://localhost:8080/"
        },
        "id": "Etgco0G6ChHM",
        "outputId": "89835dc4-cd7b-46d3-f4d0-467eb66dd99d"
      },
      "outputs": [
        {
          "output_type": "execute_result",
          "data": {
            "text/plain": [
              "0        Entire home/apt\n",
              "1        Entire home/apt\n",
              "2        Entire home/apt\n",
              "3        Entire home/apt\n",
              "4        Entire home/apt\n",
              "              ...       \n",
              "23630    Entire home/apt\n",
              "23631    Entire home/apt\n",
              "23632    Entire home/apt\n",
              "23633    Entire home/apt\n",
              "23634    Entire home/apt\n",
              "Name: room_type, Length: 23635, dtype: object"
            ]
          },
          "metadata": {},
          "execution_count": 20
        }
      ],
      "source": [
        "room_type_test = df.room_type\n",
        "room_type_test"
      ]
    },
    {
      "cell_type": "code",
      "execution_count": 21,
      "metadata": {
        "colab": {
          "base_uri": "https://localhost:8080/"
        },
        "id": "lawiKSJDChHM",
        "outputId": "d5d664f2-7970-4e98-e6db-36185225d98a"
      },
      "outputs": [
        {
          "output_type": "execute_result",
          "data": {
            "text/plain": [
              "Entire home/apt    17172\n",
              "Private room        5841\n",
              "Shared room          532\n",
              "Hotel room            90\n",
              "Name: room_type, dtype: int64"
            ]
          },
          "metadata": {},
          "execution_count": 21
        }
      ],
      "source": [
        "room_type_test.value_counts()"
      ]
    },
    {
      "cell_type": "code",
      "execution_count": 48,
      "metadata": {
        "id": "9-CzP1KPChHM"
      },
      "outputs": [],
      "source": [
        "# Para seguir com a análise, vamos manter apenas as variáveis numéricas, retirando as categóricas, exceto room_type,\n",
        "# que é o foco de nosso interesse.\n",
        "\n",
        "df_final = df.drop([\"calculated_host_listings_count_shared_rooms\", \"calculated_host_listings_count_private_rooms\",\n",
        "                    \"calculated_host_listings_count_entire_homes\", \"calculated_host_listings_count\",\n",
        "                   \"instant_bookable\", \"license\", \"last_review\", \"first_review\", \"calendar_last_scraped\", \"availability_365\", \n",
        "                   \"availability_90\", \"availability_60\", \"availability_30\", \"has_availability\", \"calendar_updated\",\n",
        "                   \"maximum_nights_avg_ntm\", \"minimum_nights_avg_ntm\", \"maximum_maximum_nights\", \"minimum_maximum_nights\",\n",
        "                   \"maximum_minimum_nights\", \"minimum_minimum_nights\", \"maximum_nights\", \"minimum_nights\", \"price\",\n",
        "                   \"amenities\", \"bathrooms_text\", \"accommodates\", \"property_type\",\n",
        "                   \"longitude\", \"latitude\", \"neighbourhood_group_cleansed\", \"neighbourhood_cleansed\",\n",
        "                   \"neighbourhood\", \"host_identity_verified\", \"host_has_profile_pic\", \"host_verifications\",\n",
        "                   \"host_total_listings_count\", \"host_neighbourhood\", \"host_picture_url\", \"host_is_superhost\",\n",
        "                   \"host_acceptance_rate\", \"host_response_rate\", \"host_response_time\", \"host_about\", \"host_location\",\n",
        "                   \"host_since\", \"host_name\", \"host_url\", \"host_id\", \"picture_url\", \"neighborhood_overview\",\n",
        "                   \"description\", \"name\", \"last_scraped\", \"scrape_id\", \"listing_url\", \"id\", \"host_thumbnail_url\",], axis=1)"
      ]
    },
    {
      "cell_type": "code",
      "execution_count": 39,
      "metadata": {
        "colab": {
          "base_uri": "https://localhost:8080/",
          "height": 313
        },
        "id": "A6rXqYy_ChHN",
        "outputId": "ad345164-15a8-41d5-fbbc-3e4a61085037"
      },
      "outputs": [
        {
          "output_type": "execute_result",
          "data": {
            "text/html": [
              "<div>\n",
              "<style scoped>\n",
              "    .dataframe tbody tr th:only-of-type {\n",
              "        vertical-align: middle;\n",
              "    }\n",
              "\n",
              "    .dataframe tbody tr th {\n",
              "        vertical-align: top;\n",
              "    }\n",
              "\n",
              "    .dataframe thead th {\n",
              "        text-align: right;\n",
              "    }\n",
              "</style>\n",
              "<table border=\"1\" class=\"dataframe\">\n",
              "  <thead>\n",
              "    <tr style=\"text-align: right;\">\n",
              "      <th></th>\n",
              "      <th>host_listings_count</th>\n",
              "      <th>room_type</th>\n",
              "      <th>bathrooms</th>\n",
              "      <th>bedrooms</th>\n",
              "      <th>beds</th>\n",
              "      <th>number_of_reviews</th>\n",
              "      <th>number_of_reviews_ltm</th>\n",
              "      <th>number_of_reviews_l30d</th>\n",
              "      <th>review_scores_rating</th>\n",
              "      <th>review_scores_accuracy</th>\n",
              "      <th>review_scores_cleanliness</th>\n",
              "      <th>review_scores_checkin</th>\n",
              "      <th>review_scores_communication</th>\n",
              "      <th>review_scores_location</th>\n",
              "      <th>review_scores_value</th>\n",
              "      <th>reviews_per_month</th>\n",
              "    </tr>\n",
              "  </thead>\n",
              "  <tbody>\n",
              "    <tr>\n",
              "      <th>0</th>\n",
              "      <td>2.0</td>\n",
              "      <td>Entire home/apt</td>\n",
              "      <td>NaN</td>\n",
              "      <td>2.0</td>\n",
              "      <td>2.0</td>\n",
              "      <td>265</td>\n",
              "      <td>14</td>\n",
              "      <td>1</td>\n",
              "      <td>4.68</td>\n",
              "      <td>4.78</td>\n",
              "      <td>4.63</td>\n",
              "      <td>4.82</td>\n",
              "      <td>4.90</td>\n",
              "      <td>4.76</td>\n",
              "      <td>4.65</td>\n",
              "      <td>2.11</td>\n",
              "    </tr>\n",
              "    <tr>\n",
              "      <th>1</th>\n",
              "      <td>0.0</td>\n",
              "      <td>Entire home/apt</td>\n",
              "      <td>NaN</td>\n",
              "      <td>1.0</td>\n",
              "      <td>1.0</td>\n",
              "      <td>85</td>\n",
              "      <td>0</td>\n",
              "      <td>0</td>\n",
              "      <td>4.73</td>\n",
              "      <td>4.83</td>\n",
              "      <td>4.78</td>\n",
              "      <td>4.90</td>\n",
              "      <td>4.90</td>\n",
              "      <td>4.97</td>\n",
              "      <td>4.58</td>\n",
              "      <td>0.88</td>\n",
              "    </tr>\n",
              "    <tr>\n",
              "      <th>2</th>\n",
              "      <td>3.0</td>\n",
              "      <td>Entire home/apt</td>\n",
              "      <td>NaN</td>\n",
              "      <td>1.0</td>\n",
              "      <td>2.0</td>\n",
              "      <td>238</td>\n",
              "      <td>0</td>\n",
              "      <td>0</td>\n",
              "      <td>4.68</td>\n",
              "      <td>4.65</td>\n",
              "      <td>4.76</td>\n",
              "      <td>4.77</td>\n",
              "      <td>4.90</td>\n",
              "      <td>4.81</td>\n",
              "      <td>4.56</td>\n",
              "      <td>1.89</td>\n",
              "    </tr>\n",
              "    <tr>\n",
              "      <th>3</th>\n",
              "      <td>1.0</td>\n",
              "      <td>Entire home/apt</td>\n",
              "      <td>NaN</td>\n",
              "      <td>1.0</td>\n",
              "      <td>1.0</td>\n",
              "      <td>181</td>\n",
              "      <td>0</td>\n",
              "      <td>0</td>\n",
              "      <td>4.72</td>\n",
              "      <td>4.85</td>\n",
              "      <td>4.63</td>\n",
              "      <td>4.85</td>\n",
              "      <td>4.88</td>\n",
              "      <td>4.90</td>\n",
              "      <td>4.65</td>\n",
              "      <td>1.97</td>\n",
              "    </tr>\n",
              "    <tr>\n",
              "      <th>4</th>\n",
              "      <td>1.0</td>\n",
              "      <td>Entire home/apt</td>\n",
              "      <td>NaN</td>\n",
              "      <td>1.0</td>\n",
              "      <td>1.0</td>\n",
              "      <td>363</td>\n",
              "      <td>31</td>\n",
              "      <td>2</td>\n",
              "      <td>4.90</td>\n",
              "      <td>4.93</td>\n",
              "      <td>4.93</td>\n",
              "      <td>4.96</td>\n",
              "      <td>4.94</td>\n",
              "      <td>4.93</td>\n",
              "      <td>4.87</td>\n",
              "      <td>3.05</td>\n",
              "    </tr>\n",
              "  </tbody>\n",
              "</table>\n",
              "</div>"
            ],
            "text/plain": [
              "   host_listings_count        room_type  ...  review_scores_value  reviews_per_month\n",
              "0                  2.0  Entire home/apt  ...                 4.65               2.11\n",
              "1                  0.0  Entire home/apt  ...                 4.58               0.88\n",
              "2                  3.0  Entire home/apt  ...                 4.56               1.89\n",
              "3                  1.0  Entire home/apt  ...                 4.65               1.97\n",
              "4                  1.0  Entire home/apt  ...                 4.87               3.05\n",
              "\n",
              "[5 rows x 16 columns]"
            ]
          },
          "metadata": {},
          "execution_count": 39
        }
      ],
      "source": [
        "df_final.head()"
      ]
    },
    {
      "cell_type": "code",
      "execution_count": 40,
      "metadata": {
        "colab": {
          "base_uri": "https://localhost:8080/"
        },
        "id": "gRFlBp7MChHN",
        "outputId": "7c73fcee-455f-4392-96a0-9980e48338ad"
      },
      "outputs": [
        {
          "output_type": "stream",
          "name": "stdout",
          "text": [
            "<class 'pandas.core.frame.DataFrame'>\n",
            "RangeIndex: 23635 entries, 0 to 23634\n",
            "Data columns (total 16 columns):\n",
            " #   Column                       Non-Null Count  Dtype  \n",
            "---  ------                       --------------  -----  \n",
            " 0   host_listings_count          23628 non-null  float64\n",
            " 1   room_type                    23635 non-null  object \n",
            " 2   bathrooms                    0 non-null      float64\n",
            " 3   bedrooms                     22054 non-null  float64\n",
            " 4   beds                         23407 non-null  float64\n",
            " 5   number_of_reviews            23635 non-null  int64  \n",
            " 6   number_of_reviews_ltm        23635 non-null  int64  \n",
            " 7   number_of_reviews_l30d       23635 non-null  int64  \n",
            " 8   review_scores_rating         14980 non-null  float64\n",
            " 9   review_scores_accuracy       14501 non-null  float64\n",
            " 10  review_scores_cleanliness    14502 non-null  float64\n",
            " 11  review_scores_checkin        14501 non-null  float64\n",
            " 12  review_scores_communication  14503 non-null  float64\n",
            " 13  review_scores_location       14500 non-null  float64\n",
            " 14  review_scores_value          14501 non-null  float64\n",
            " 15  reviews_per_month            14980 non-null  float64\n",
            "dtypes: float64(12), int64(3), object(1)\n",
            "memory usage: 2.9+ MB\n"
          ]
        }
      ],
      "source": [
        "df_final.info()"
      ]
    },
    {
      "cell_type": "code",
      "source": [
        "df_final.shape"
      ],
      "metadata": {
        "colab": {
          "base_uri": "https://localhost:8080/"
        },
        "id": "QxzdZeBLFkY3",
        "outputId": "d7d7c72d-3b75-4dcd-c3ff-4fb57d840010"
      },
      "execution_count": 49,
      "outputs": [
        {
          "output_type": "execute_result",
          "data": {
            "text/plain": [
              "(23635, 16)"
            ]
          },
          "metadata": {},
          "execution_count": 49
        }
      ]
    },
    {
      "cell_type": "code",
      "execution_count": 50,
      "metadata": {
        "id": "3lidQMKtChHN"
      },
      "outputs": [],
      "source": [
        "# Preparando as variáveis para desenvolvimento das funções\n",
        "\n",
        "x = df_final.drop([\"room_type\"], axis=1)\n",
        "y = df_final.room_type"
      ]
    },
    {
      "cell_type": "code",
      "execution_count": 51,
      "metadata": {
        "colab": {
          "base_uri": "https://localhost:8080/",
          "height": 380
        },
        "id": "hzbp_VXRChHO",
        "outputId": "eb65d446-b851-41d2-cf65-e73648bb890f"
      },
      "outputs": [
        {
          "output_type": "error",
          "ename": "ValueError",
          "evalue": "ignored",
          "traceback": [
            "\u001b[0;31m---------------------------------------------------------------------------\u001b[0m",
            "\u001b[0;31mValueError\u001b[0m                                Traceback (most recent call last)",
            "\u001b[0;32m<ipython-input-51-c6f396c0ba80>\u001b[0m in \u001b[0;36m<module>\u001b[0;34m()\u001b[0m\n\u001b[1;32m      6\u001b[0m \u001b[0;34m\u001b[0m\u001b[0m\n\u001b[1;32m      7\u001b[0m \u001b[0mf_classif\u001b[0m \u001b[0;34m=\u001b[0m \u001b[0mSelectKBest\u001b[0m\u001b[0;34m(\u001b[0m\u001b[0mscore_func\u001b[0m\u001b[0;34m=\u001b[0m\u001b[0mf_classif\u001b[0m\u001b[0;34m,\u001b[0m \u001b[0mk\u001b[0m\u001b[0;34m=\u001b[0m\u001b[0;36m8\u001b[0m\u001b[0;34m)\u001b[0m\u001b[0;34m\u001b[0m\u001b[0;34m\u001b[0m\u001b[0m\n\u001b[0;32m----> 8\u001b[0;31m \u001b[0mfit\u001b[0m \u001b[0;34m=\u001b[0m \u001b[0mf_classif\u001b[0m\u001b[0;34m.\u001b[0m\u001b[0mfit\u001b[0m\u001b[0;34m(\u001b[0m\u001b[0mx\u001b[0m\u001b[0;34m,\u001b[0m\u001b[0my\u001b[0m\u001b[0;34m)\u001b[0m\u001b[0;34m\u001b[0m\u001b[0;34m\u001b[0m\u001b[0m\n\u001b[0m\u001b[1;32m      9\u001b[0m \u001b[0mfeatures\u001b[0m \u001b[0;34m=\u001b[0m \u001b[0mfit\u001b[0m\u001b[0;34m.\u001b[0m\u001b[0mtransform\u001b[0m\u001b[0;34m(\u001b[0m\u001b[0mx\u001b[0m\u001b[0;34m)\u001b[0m\u001b[0;34m\u001b[0m\u001b[0;34m\u001b[0m\u001b[0m\n\u001b[1;32m     10\u001b[0m \u001b[0;34m\u001b[0m\u001b[0m\n",
            "\u001b[0;32m/usr/local/lib/python3.7/dist-packages/sklearn/feature_selection/_univariate_selection.py\u001b[0m in \u001b[0;36mfit\u001b[0;34m(self, X, y)\u001b[0m\n\u001b[1;32m    396\u001b[0m         \"\"\"\n\u001b[1;32m    397\u001b[0m         X, y = self._validate_data(\n\u001b[0;32m--> 398\u001b[0;31m             \u001b[0mX\u001b[0m\u001b[0;34m,\u001b[0m \u001b[0my\u001b[0m\u001b[0;34m,\u001b[0m \u001b[0maccept_sparse\u001b[0m\u001b[0;34m=\u001b[0m\u001b[0;34m[\u001b[0m\u001b[0;34m\"csr\"\u001b[0m\u001b[0;34m,\u001b[0m \u001b[0;34m\"csc\"\u001b[0m\u001b[0;34m]\u001b[0m\u001b[0;34m,\u001b[0m \u001b[0mmulti_output\u001b[0m\u001b[0;34m=\u001b[0m\u001b[0;32mTrue\u001b[0m\u001b[0;34m\u001b[0m\u001b[0;34m\u001b[0m\u001b[0m\n\u001b[0m\u001b[1;32m    399\u001b[0m         )\n\u001b[1;32m    400\u001b[0m \u001b[0;34m\u001b[0m\u001b[0m\n",
            "\u001b[0;32m/usr/local/lib/python3.7/dist-packages/sklearn/base.py\u001b[0m in \u001b[0;36m_validate_data\u001b[0;34m(self, X, y, reset, validate_separately, **check_params)\u001b[0m\n\u001b[1;32m    574\u001b[0m                 \u001b[0my\u001b[0m \u001b[0;34m=\u001b[0m \u001b[0mcheck_array\u001b[0m\u001b[0;34m(\u001b[0m\u001b[0my\u001b[0m\u001b[0;34m,\u001b[0m \u001b[0;34m**\u001b[0m\u001b[0mcheck_y_params\u001b[0m\u001b[0;34m)\u001b[0m\u001b[0;34m\u001b[0m\u001b[0;34m\u001b[0m\u001b[0m\n\u001b[1;32m    575\u001b[0m             \u001b[0;32melse\u001b[0m\u001b[0;34m:\u001b[0m\u001b[0;34m\u001b[0m\u001b[0;34m\u001b[0m\u001b[0m\n\u001b[0;32m--> 576\u001b[0;31m                 \u001b[0mX\u001b[0m\u001b[0;34m,\u001b[0m \u001b[0my\u001b[0m \u001b[0;34m=\u001b[0m \u001b[0mcheck_X_y\u001b[0m\u001b[0;34m(\u001b[0m\u001b[0mX\u001b[0m\u001b[0;34m,\u001b[0m \u001b[0my\u001b[0m\u001b[0;34m,\u001b[0m \u001b[0;34m**\u001b[0m\u001b[0mcheck_params\u001b[0m\u001b[0;34m)\u001b[0m\u001b[0;34m\u001b[0m\u001b[0;34m\u001b[0m\u001b[0m\n\u001b[0m\u001b[1;32m    577\u001b[0m             \u001b[0mout\u001b[0m \u001b[0;34m=\u001b[0m \u001b[0mX\u001b[0m\u001b[0;34m,\u001b[0m \u001b[0my\u001b[0m\u001b[0;34m\u001b[0m\u001b[0;34m\u001b[0m\u001b[0m\n\u001b[1;32m    578\u001b[0m \u001b[0;34m\u001b[0m\u001b[0m\n",
            "\u001b[0;32m/usr/local/lib/python3.7/dist-packages/sklearn/utils/validation.py\u001b[0m in \u001b[0;36mcheck_X_y\u001b[0;34m(X, y, accept_sparse, accept_large_sparse, dtype, order, copy, force_all_finite, ensure_2d, allow_nd, multi_output, ensure_min_samples, ensure_min_features, y_numeric, estimator)\u001b[0m\n\u001b[1;32m    966\u001b[0m         \u001b[0mensure_min_samples\u001b[0m\u001b[0;34m=\u001b[0m\u001b[0mensure_min_samples\u001b[0m\u001b[0;34m,\u001b[0m\u001b[0;34m\u001b[0m\u001b[0;34m\u001b[0m\u001b[0m\n\u001b[1;32m    967\u001b[0m         \u001b[0mensure_min_features\u001b[0m\u001b[0;34m=\u001b[0m\u001b[0mensure_min_features\u001b[0m\u001b[0;34m,\u001b[0m\u001b[0;34m\u001b[0m\u001b[0;34m\u001b[0m\u001b[0m\n\u001b[0;32m--> 968\u001b[0;31m         \u001b[0mestimator\u001b[0m\u001b[0;34m=\u001b[0m\u001b[0mestimator\u001b[0m\u001b[0;34m,\u001b[0m\u001b[0;34m\u001b[0m\u001b[0;34m\u001b[0m\u001b[0m\n\u001b[0m\u001b[1;32m    969\u001b[0m     )\n\u001b[1;32m    970\u001b[0m \u001b[0;34m\u001b[0m\u001b[0m\n",
            "\u001b[0;32m/usr/local/lib/python3.7/dist-packages/sklearn/utils/validation.py\u001b[0m in \u001b[0;36mcheck_array\u001b[0;34m(array, accept_sparse, accept_large_sparse, dtype, order, copy, force_all_finite, ensure_2d, allow_nd, ensure_min_samples, ensure_min_features, estimator)\u001b[0m\n\u001b[1;32m    790\u001b[0m \u001b[0;34m\u001b[0m\u001b[0m\n\u001b[1;32m    791\u001b[0m         \u001b[0;32mif\u001b[0m \u001b[0mforce_all_finite\u001b[0m\u001b[0;34m:\u001b[0m\u001b[0;34m\u001b[0m\u001b[0;34m\u001b[0m\u001b[0m\n\u001b[0;32m--> 792\u001b[0;31m             \u001b[0m_assert_all_finite\u001b[0m\u001b[0;34m(\u001b[0m\u001b[0marray\u001b[0m\u001b[0;34m,\u001b[0m \u001b[0mallow_nan\u001b[0m\u001b[0;34m=\u001b[0m\u001b[0mforce_all_finite\u001b[0m \u001b[0;34m==\u001b[0m \u001b[0;34m\"allow-nan\"\u001b[0m\u001b[0;34m)\u001b[0m\u001b[0;34m\u001b[0m\u001b[0;34m\u001b[0m\u001b[0m\n\u001b[0m\u001b[1;32m    793\u001b[0m \u001b[0;34m\u001b[0m\u001b[0m\n\u001b[1;32m    794\u001b[0m     \u001b[0;32mif\u001b[0m \u001b[0mensure_min_samples\u001b[0m \u001b[0;34m>\u001b[0m \u001b[0;36m0\u001b[0m\u001b[0;34m:\u001b[0m\u001b[0;34m\u001b[0m\u001b[0;34m\u001b[0m\u001b[0m\n",
            "\u001b[0;32m/usr/local/lib/python3.7/dist-packages/sklearn/utils/validation.py\u001b[0m in \u001b[0;36m_assert_all_finite\u001b[0;34m(X, allow_nan, msg_dtype)\u001b[0m\n\u001b[1;32m    114\u001b[0m             raise ValueError(\n\u001b[1;32m    115\u001b[0m                 msg_err.format(\n\u001b[0;32m--> 116\u001b[0;31m                     \u001b[0mtype_err\u001b[0m\u001b[0;34m,\u001b[0m \u001b[0mmsg_dtype\u001b[0m \u001b[0;32mif\u001b[0m \u001b[0mmsg_dtype\u001b[0m \u001b[0;32mis\u001b[0m \u001b[0;32mnot\u001b[0m \u001b[0;32mNone\u001b[0m \u001b[0;32melse\u001b[0m \u001b[0mX\u001b[0m\u001b[0;34m.\u001b[0m\u001b[0mdtype\u001b[0m\u001b[0;34m\u001b[0m\u001b[0;34m\u001b[0m\u001b[0m\n\u001b[0m\u001b[1;32m    117\u001b[0m                 )\n\u001b[1;32m    118\u001b[0m             )\n",
            "\u001b[0;31mValueError\u001b[0m: Input contains NaN, infinity or a value too large for dtype('float64')."
          ]
        }
      ],
      "source": [
        "# Das opções de métodos para o f_classif da biblioteca Scikit learn foi escolhido\n",
        "\n",
        "from sklearn.feature_selection import SelectKBest\n",
        "from sklearn.feature_selection import f_classif, mutual_info_classif\n",
        "from sklearn.feature_selection import chi2\n",
        "\n",
        "f_classif = SelectKBest(score_func=f_classif, k=8)\n",
        "fit = f_classif.fit(x,y)\n",
        "features = fit.transform(x)\n",
        "\n",
        "print(features)"
      ]
    },
    {
      "cell_type": "code",
      "execution_count": 28,
      "metadata": {
        "colab": {
          "base_uri": "https://localhost:8080/",
          "height": 217
        },
        "id": "9-_6TtM7ChHO",
        "outputId": "071967a9-0241-46ba-9347-cd07e3c121d2"
      },
      "outputs": [
        {
          "output_type": "error",
          "ename": "NameError",
          "evalue": "ignored",
          "traceback": [
            "\u001b[0;31m---------------------------------------------------------------------------\u001b[0m",
            "\u001b[0;31mNameError\u001b[0m                                 Traceback (most recent call last)",
            "\u001b[0;32m<ipython-input-28-25793c89fb8b>\u001b[0m in \u001b[0;36m<module>\u001b[0;34m()\u001b[0m\n\u001b[1;32m      3\u001b[0m \u001b[0;31m# atributos do dataset\u001b[0m\u001b[0;34m\u001b[0m\u001b[0;34m\u001b[0m\u001b[0;34m\u001b[0m\u001b[0m\n\u001b[1;32m      4\u001b[0m \u001b[0;34m\u001b[0m\u001b[0m\n\u001b[0;32m----> 5\u001b[0;31m \u001b[0mcols\u001b[0m \u001b[0;34m=\u001b[0m \u001b[0mfit\u001b[0m\u001b[0;34m.\u001b[0m\u001b[0mget_support\u001b[0m\u001b[0;34m(\u001b[0m\u001b[0mindices\u001b[0m\u001b[0;34m=\u001b[0m\u001b[0;32mTrue\u001b[0m\u001b[0;34m)\u001b[0m\u001b[0;34m\u001b[0m\u001b[0;34m\u001b[0m\u001b[0m\n\u001b[0m\u001b[1;32m      6\u001b[0m \u001b[0mdf\u001b[0m\u001b[0;34m.\u001b[0m\u001b[0miloc\u001b[0m\u001b[0;34m[\u001b[0m\u001b[0;34m:\u001b[0m\u001b[0;34m,\u001b[0m\u001b[0mcols\u001b[0m\u001b[0;34m]\u001b[0m\u001b[0;34m\u001b[0m\u001b[0;34m\u001b[0m\u001b[0m\n",
            "\u001b[0;31mNameError\u001b[0m: name 'fit' is not defined"
          ]
        }
      ],
      "source": [
        "# Identificando os atributos/features cujo índice foi True na classificação\n",
        "# Os resultados retornaram um dataframe 23.635 x 8, o que correlaciona 'room_type' positivamente com os demais\n",
        "# atributos do dataset\n",
        "\n",
        "cols = fit.get_support(indices=True)\n",
        "df.iloc[:,cols]"
      ]
    },
    {
      "cell_type": "code",
      "execution_count": 55,
      "metadata": {
        "colab": {
          "base_uri": "https://localhost:8080/",
          "height": 444
        },
        "id": "IWYdI0JyChHO",
        "outputId": "71d30796-9b89-412a-9b06-3584e813d281"
      },
      "outputs": [
        {
          "output_type": "execute_result",
          "data": {
            "text/html": [
              "<div>\n",
              "<style scoped>\n",
              "    .dataframe tbody tr th:only-of-type {\n",
              "        vertical-align: middle;\n",
              "    }\n",
              "\n",
              "    .dataframe tbody tr th {\n",
              "        vertical-align: top;\n",
              "    }\n",
              "\n",
              "    .dataframe thead th {\n",
              "        text-align: right;\n",
              "    }\n",
              "</style>\n",
              "<table border=\"1\" class=\"dataframe\">\n",
              "  <thead>\n",
              "    <tr style=\"text-align: right;\">\n",
              "      <th></th>\n",
              "      <th>host_listings_count</th>\n",
              "      <th>room_type</th>\n",
              "      <th>bathrooms</th>\n",
              "      <th>bedrooms</th>\n",
              "      <th>beds</th>\n",
              "      <th>number_of_reviews</th>\n",
              "      <th>number_of_reviews_ltm</th>\n",
              "      <th>number_of_reviews_l30d</th>\n",
              "      <th>review_scores_rating</th>\n",
              "      <th>review_scores_accuracy</th>\n",
              "      <th>review_scores_cleanliness</th>\n",
              "      <th>review_scores_checkin</th>\n",
              "      <th>review_scores_communication</th>\n",
              "      <th>review_scores_location</th>\n",
              "      <th>review_scores_value</th>\n",
              "      <th>reviews_per_month</th>\n",
              "    </tr>\n",
              "  </thead>\n",
              "  <tbody>\n",
              "    <tr>\n",
              "      <th>0</th>\n",
              "      <td>False</td>\n",
              "      <td>False</td>\n",
              "      <td>False</td>\n",
              "      <td>False</td>\n",
              "      <td>False</td>\n",
              "      <td>False</td>\n",
              "      <td>False</td>\n",
              "      <td>False</td>\n",
              "      <td>False</td>\n",
              "      <td>False</td>\n",
              "      <td>False</td>\n",
              "      <td>False</td>\n",
              "      <td>False</td>\n",
              "      <td>False</td>\n",
              "      <td>False</td>\n",
              "      <td>False</td>\n",
              "    </tr>\n",
              "    <tr>\n",
              "      <th>1</th>\n",
              "      <td>True</td>\n",
              "      <td>False</td>\n",
              "      <td>False</td>\n",
              "      <td>False</td>\n",
              "      <td>False</td>\n",
              "      <td>False</td>\n",
              "      <td>True</td>\n",
              "      <td>True</td>\n",
              "      <td>False</td>\n",
              "      <td>False</td>\n",
              "      <td>False</td>\n",
              "      <td>False</td>\n",
              "      <td>False</td>\n",
              "      <td>False</td>\n",
              "      <td>False</td>\n",
              "      <td>False</td>\n",
              "    </tr>\n",
              "    <tr>\n",
              "      <th>2</th>\n",
              "      <td>False</td>\n",
              "      <td>False</td>\n",
              "      <td>False</td>\n",
              "      <td>False</td>\n",
              "      <td>False</td>\n",
              "      <td>False</td>\n",
              "      <td>True</td>\n",
              "      <td>True</td>\n",
              "      <td>False</td>\n",
              "      <td>False</td>\n",
              "      <td>False</td>\n",
              "      <td>False</td>\n",
              "      <td>False</td>\n",
              "      <td>False</td>\n",
              "      <td>False</td>\n",
              "      <td>False</td>\n",
              "    </tr>\n",
              "    <tr>\n",
              "      <th>3</th>\n",
              "      <td>False</td>\n",
              "      <td>False</td>\n",
              "      <td>False</td>\n",
              "      <td>False</td>\n",
              "      <td>False</td>\n",
              "      <td>False</td>\n",
              "      <td>True</td>\n",
              "      <td>True</td>\n",
              "      <td>False</td>\n",
              "      <td>False</td>\n",
              "      <td>False</td>\n",
              "      <td>False</td>\n",
              "      <td>False</td>\n",
              "      <td>False</td>\n",
              "      <td>False</td>\n",
              "      <td>False</td>\n",
              "    </tr>\n",
              "    <tr>\n",
              "      <th>4</th>\n",
              "      <td>False</td>\n",
              "      <td>False</td>\n",
              "      <td>False</td>\n",
              "      <td>False</td>\n",
              "      <td>False</td>\n",
              "      <td>False</td>\n",
              "      <td>False</td>\n",
              "      <td>False</td>\n",
              "      <td>False</td>\n",
              "      <td>False</td>\n",
              "      <td>False</td>\n",
              "      <td>False</td>\n",
              "      <td>False</td>\n",
              "      <td>False</td>\n",
              "      <td>False</td>\n",
              "      <td>False</td>\n",
              "    </tr>\n",
              "    <tr>\n",
              "      <th>...</th>\n",
              "      <td>...</td>\n",
              "      <td>...</td>\n",
              "      <td>...</td>\n",
              "      <td>...</td>\n",
              "      <td>...</td>\n",
              "      <td>...</td>\n",
              "      <td>...</td>\n",
              "      <td>...</td>\n",
              "      <td>...</td>\n",
              "      <td>...</td>\n",
              "      <td>...</td>\n",
              "      <td>...</td>\n",
              "      <td>...</td>\n",
              "      <td>...</td>\n",
              "      <td>...</td>\n",
              "      <td>...</td>\n",
              "    </tr>\n",
              "    <tr>\n",
              "      <th>23630</th>\n",
              "      <td>False</td>\n",
              "      <td>False</td>\n",
              "      <td>False</td>\n",
              "      <td>False</td>\n",
              "      <td>False</td>\n",
              "      <td>True</td>\n",
              "      <td>True</td>\n",
              "      <td>True</td>\n",
              "      <td>False</td>\n",
              "      <td>False</td>\n",
              "      <td>False</td>\n",
              "      <td>False</td>\n",
              "      <td>False</td>\n",
              "      <td>False</td>\n",
              "      <td>False</td>\n",
              "      <td>False</td>\n",
              "    </tr>\n",
              "    <tr>\n",
              "      <th>23631</th>\n",
              "      <td>False</td>\n",
              "      <td>False</td>\n",
              "      <td>False</td>\n",
              "      <td>False</td>\n",
              "      <td>False</td>\n",
              "      <td>True</td>\n",
              "      <td>True</td>\n",
              "      <td>True</td>\n",
              "      <td>False</td>\n",
              "      <td>False</td>\n",
              "      <td>False</td>\n",
              "      <td>False</td>\n",
              "      <td>False</td>\n",
              "      <td>False</td>\n",
              "      <td>False</td>\n",
              "      <td>False</td>\n",
              "    </tr>\n",
              "    <tr>\n",
              "      <th>23632</th>\n",
              "      <td>False</td>\n",
              "      <td>False</td>\n",
              "      <td>False</td>\n",
              "      <td>False</td>\n",
              "      <td>False</td>\n",
              "      <td>True</td>\n",
              "      <td>True</td>\n",
              "      <td>True</td>\n",
              "      <td>False</td>\n",
              "      <td>False</td>\n",
              "      <td>False</td>\n",
              "      <td>False</td>\n",
              "      <td>False</td>\n",
              "      <td>False</td>\n",
              "      <td>False</td>\n",
              "      <td>False</td>\n",
              "    </tr>\n",
              "    <tr>\n",
              "      <th>23633</th>\n",
              "      <td>False</td>\n",
              "      <td>False</td>\n",
              "      <td>False</td>\n",
              "      <td>False</td>\n",
              "      <td>False</td>\n",
              "      <td>True</td>\n",
              "      <td>True</td>\n",
              "      <td>True</td>\n",
              "      <td>False</td>\n",
              "      <td>False</td>\n",
              "      <td>False</td>\n",
              "      <td>False</td>\n",
              "      <td>False</td>\n",
              "      <td>False</td>\n",
              "      <td>False</td>\n",
              "      <td>False</td>\n",
              "    </tr>\n",
              "    <tr>\n",
              "      <th>23634</th>\n",
              "      <td>False</td>\n",
              "      <td>False</td>\n",
              "      <td>False</td>\n",
              "      <td>False</td>\n",
              "      <td>False</td>\n",
              "      <td>True</td>\n",
              "      <td>True</td>\n",
              "      <td>True</td>\n",
              "      <td>False</td>\n",
              "      <td>False</td>\n",
              "      <td>False</td>\n",
              "      <td>False</td>\n",
              "      <td>False</td>\n",
              "      <td>False</td>\n",
              "      <td>False</td>\n",
              "      <td>False</td>\n",
              "    </tr>\n",
              "  </tbody>\n",
              "</table>\n",
              "<p>23635 rows × 16 columns</p>\n",
              "</div>"
            ],
            "text/plain": [
              "       host_listings_count  room_type  ...  review_scores_value  reviews_per_month\n",
              "0                    False      False  ...                False              False\n",
              "1                     True      False  ...                False              False\n",
              "2                    False      False  ...                False              False\n",
              "3                    False      False  ...                False              False\n",
              "4                    False      False  ...                False              False\n",
              "...                    ...        ...  ...                  ...                ...\n",
              "23630                False      False  ...                False              False\n",
              "23631                False      False  ...                False              False\n",
              "23632                False      False  ...                False              False\n",
              "23633                False      False  ...                False              False\n",
              "23634                False      False  ...                False              False\n",
              "\n",
              "[23635 rows x 16 columns]"
            ]
          },
          "metadata": {},
          "execution_count": 55
        }
      ],
      "source": [
        "# Utilizando o mesmo dataframe df_final 1, foi feita uma cópia df_final 2\n",
        "# a fim de realizar uma outra abordagem na análise dos dados\n",
        "\n",
        "df_final2 == df_final"
      ]
    },
    {
      "cell_type": "code",
      "execution_count": 56,
      "metadata": {
        "id": "6kdtGBL3ChHO"
      },
      "outputs": [],
      "source": [
        "df_final2 = pd.isnull(df_final2)"
      ]
    },
    {
      "cell_type": "code",
      "source": [
        "df_final2.shape"
      ],
      "metadata": {
        "colab": {
          "base_uri": "https://localhost:8080/"
        },
        "id": "MxcWo-XSHEiA",
        "outputId": "7834f19e-da3b-40ad-ccba-a331e87793cc"
      },
      "execution_count": 58,
      "outputs": [
        {
          "output_type": "execute_result",
          "data": {
            "text/plain": [
              "(23635, 16)"
            ]
          },
          "metadata": {},
          "execution_count": 58
        }
      ]
    },
    {
      "cell_type": "code",
      "execution_count": 59,
      "metadata": {
        "colab": {
          "base_uri": "https://localhost:8080/"
        },
        "id": "zM7w0RxcChHP",
        "outputId": "af718c9a-d0f5-4f2d-d5a9-6f33c2677cc8"
      },
      "outputs": [
        {
          "output_type": "stream",
          "name": "stdout",
          "text": [
            "<class 'pandas.core.frame.DataFrame'>\n",
            "RangeIndex: 23635 entries, 0 to 23634\n",
            "Data columns (total 16 columns):\n",
            " #   Column                       Non-Null Count  Dtype\n",
            "---  ------                       --------------  -----\n",
            " 0   host_listings_count          23635 non-null  bool \n",
            " 1   room_type                    23635 non-null  bool \n",
            " 2   bathrooms                    23635 non-null  bool \n",
            " 3   bedrooms                     23635 non-null  bool \n",
            " 4   beds                         23635 non-null  bool \n",
            " 5   number_of_reviews            23635 non-null  bool \n",
            " 6   number_of_reviews_ltm        23635 non-null  bool \n",
            " 7   number_of_reviews_l30d       23635 non-null  bool \n",
            " 8   review_scores_rating         23635 non-null  bool \n",
            " 9   review_scores_accuracy       23635 non-null  bool \n",
            " 10  review_scores_cleanliness    23635 non-null  bool \n",
            " 11  review_scores_checkin        23635 non-null  bool \n",
            " 12  review_scores_communication  23635 non-null  bool \n",
            " 13  review_scores_location       23635 non-null  bool \n",
            " 14  review_scores_value          23635 non-null  bool \n",
            " 15  reviews_per_month            23635 non-null  bool \n",
            "dtypes: bool(16)\n",
            "memory usage: 369.4 KB\n"
          ]
        }
      ],
      "source": [
        "df_final2.info()"
      ]
    },
    {
      "cell_type": "code",
      "execution_count": 60,
      "metadata": {
        "id": "KiXSGGfkChHP"
      },
      "outputs": [],
      "source": [
        "# A princípio a intenção seria utilizar o método f_classif da biblioteca Scikit-learn.\n",
        "# Para tal, foram retirados os atributos não numéricos e valores vazios para um novo dataframe df_final2,\n",
        "# o que atende as exigências para aplicação do SelectKBest() desta mesma biblioteca. Aplicando f_classif\n",
        "# a fim de identificar os atributos que possuam maior pontuação, sendo atributos de maior contribuição para a \n",
        "# variável dependente, room_type, que desejamos explicar.\n",
        "\n",
        "X = df_final2.drop([\"room_type\"], axis=1)\n",
        "y = df_final2.room_type"
      ]
    },
    {
      "cell_type": "code",
      "execution_count": 61,
      "metadata": {
        "colab": {
          "base_uri": "https://localhost:8080/",
          "height": 356
        },
        "id": "N9Lkp5nbChHP",
        "outputId": "721a60ab-ad4d-4a0f-cfd4-dec7e52ee0ee"
      },
      "outputs": [
        {
          "output_type": "error",
          "ename": "TypeError",
          "evalue": "ignored",
          "traceback": [
            "\u001b[0;31m---------------------------------------------------------------------------\u001b[0m",
            "\u001b[0;31mTypeError\u001b[0m                                 Traceback (most recent call last)",
            "\u001b[0;32m<ipython-input-61-138b8c56ff7c>\u001b[0m in \u001b[0;36m<module>\u001b[0;34m()\u001b[0m\n\u001b[1;32m      3\u001b[0m \u001b[0;34m\u001b[0m\u001b[0m\n\u001b[1;32m      4\u001b[0m \u001b[0mf_classif\u001b[0m \u001b[0;34m=\u001b[0m \u001b[0mSelectKBest\u001b[0m\u001b[0;34m(\u001b[0m\u001b[0mscore_func\u001b[0m\u001b[0;34m=\u001b[0m\u001b[0mf_classif\u001b[0m\u001b[0;34m,\u001b[0m \u001b[0mk\u001b[0m\u001b[0;34m=\u001b[0m\u001b[0;36m16\u001b[0m\u001b[0;34m)\u001b[0m\u001b[0;34m\u001b[0m\u001b[0;34m\u001b[0m\u001b[0m\n\u001b[0;32m----> 5\u001b[0;31m \u001b[0mfit\u001b[0m \u001b[0;34m=\u001b[0m \u001b[0mf_classif\u001b[0m\u001b[0;34m.\u001b[0m\u001b[0mfit\u001b[0m\u001b[0;34m(\u001b[0m\u001b[0mX\u001b[0m\u001b[0;34m,\u001b[0m\u001b[0my\u001b[0m\u001b[0;34m)\u001b[0m\u001b[0;34m\u001b[0m\u001b[0;34m\u001b[0m\u001b[0m\n\u001b[0m\u001b[1;32m      6\u001b[0m \u001b[0mfeatures\u001b[0m \u001b[0;34m=\u001b[0m \u001b[0mfit\u001b[0m\u001b[0;34m.\u001b[0m\u001b[0mtransform\u001b[0m\u001b[0;34m(\u001b[0m\u001b[0mX\u001b[0m\u001b[0;34m)\u001b[0m\u001b[0;34m\u001b[0m\u001b[0;34m\u001b[0m\u001b[0m\n\u001b[1;32m      7\u001b[0m \u001b[0;34m\u001b[0m\u001b[0m\n",
            "\u001b[0;32m/usr/local/lib/python3.7/dist-packages/sklearn/feature_selection/_univariate_selection.py\u001b[0m in \u001b[0;36mfit\u001b[0;34m(self, X, y)\u001b[0m\n\u001b[1;32m    402\u001b[0m             raise TypeError(\n\u001b[1;32m    403\u001b[0m                 \u001b[0;34m\"The score function should be a callable, %s (%s) was passed.\"\u001b[0m\u001b[0;34m\u001b[0m\u001b[0;34m\u001b[0m\u001b[0m\n\u001b[0;32m--> 404\u001b[0;31m                 \u001b[0;34m%\u001b[0m \u001b[0;34m(\u001b[0m\u001b[0mself\u001b[0m\u001b[0;34m.\u001b[0m\u001b[0mscore_func\u001b[0m\u001b[0;34m,\u001b[0m \u001b[0mtype\u001b[0m\u001b[0;34m(\u001b[0m\u001b[0mself\u001b[0m\u001b[0;34m.\u001b[0m\u001b[0mscore_func\u001b[0m\u001b[0;34m)\u001b[0m\u001b[0;34m)\u001b[0m\u001b[0;34m\u001b[0m\u001b[0;34m\u001b[0m\u001b[0m\n\u001b[0m\u001b[1;32m    405\u001b[0m             )\n\u001b[1;32m    406\u001b[0m \u001b[0;34m\u001b[0m\u001b[0m\n",
            "\u001b[0;31mTypeError\u001b[0m: The score function should be a callable, SelectKBest(k=8) (<class 'sklearn.feature_selection._univariate_selection.SelectKBest'>) was passed."
          ]
        }
      ],
      "source": [
        "# Mesmo variando o valor de k, o qual representa os atributos mais importantes, e posteriormente conseguir fazer um ranking\n",
        "# de fatores que contribuem mais fortemente para a classificação do room_type, e os fatores que contribuem menos.\n",
        "\n",
        "f_classif = SelectKBest(score_func=f_classif, k=16)\n",
        "fit = f_classif.fit(X,y)\n",
        "features = fit.transform(X)\n",
        "\n",
        "# Visualizando as features:\n",
        "print(features)"
      ]
    },
    {
      "cell_type": "code",
      "execution_count": 62,
      "metadata": {
        "colab": {
          "base_uri": "https://localhost:8080/"
        },
        "id": "tdp2PynVChHP",
        "outputId": "9ad4a7ad-ff3d-4a81-b736-b9d256ced30f"
      },
      "outputs": [
        {
          "output_type": "stream",
          "name": "stdout",
          "text": [
            "[[False False False ... False False False]\n",
            " [False False False ... False False False]\n",
            " [False False False ... False False False]\n",
            " ...\n",
            " [False False False ... False False False]\n",
            " [False False False ... False False False]\n",
            " [False False False ... False False False]]\n"
          ]
        }
      ],
      "source": [
        "# o método de validação do modelo escolhido foi o Chi2, o qual representa um método que a dependência e variáveis\n",
        "# e descarta atributos que não irão interferir tanto na variável dependente.\n",
        "# Em seguida, será necessário buscar com iloc[] as colunas as quais apresentam atributos relevantes para o estudo.\n",
        "\n",
        "# Extração dos atributos\n",
        "test = SelectKBest(chi2, k=8)\n",
        "fit = test.fit(X, y)\n",
        "features = fit.transform(X)\n",
        "print(features)"
      ]
    },
    {
      "cell_type": "code",
      "execution_count": 63,
      "metadata": {
        "colab": {
          "base_uri": "https://localhost:8080/",
          "height": 480
        },
        "id": "8oDwh7qhChHQ",
        "outputId": "470d1384-4f6b-40d3-c81f-1ed7975c3a69"
      },
      "outputs": [
        {
          "output_type": "stream",
          "name": "stderr",
          "text": [
            "/usr/local/lib/python3.7/dist-packages/seaborn/matrix.py:198: RuntimeWarning: All-NaN slice encountered\n",
            "  vmin = np.nanmin(calc_data)\n",
            "/usr/local/lib/python3.7/dist-packages/seaborn/matrix.py:203: RuntimeWarning: All-NaN slice encountered\n",
            "  vmax = np.nanmax(calc_data)\n"
          ]
        },
        {
          "output_type": "display_data",
          "data": {
            "image/png": "[encoded data removed]",
            "text/plain": [
              "<Figure size 432x288 with 2 Axes>"
            ]
          },
          "metadata": {
            "needs_background": "light"
          }
        }
      ],
      "source": [
        "# Um mapa de calor foi gerado para visualizar o grau de correlação entre os atributos. Valores mais escuros\n",
        "# representam correlação fraca, valores mais claros representam correlação forte, próxima de 1.\n",
        "# De acordo com o mapa os 7 atributos de avaliações possuem correlação extremamente forte, principalmente\n",
        "# 'review_per_month'.\n",
        "# Pelo fato do 'room_type' ser uma variável nominal, não aparecem as correlações associadas a este atributo.\n",
        "# uma sugestão do que pode ser feito neste caso, é associar um número para cada uma das categorias e rodar\n",
        "# novamente o código de mapa de calor para avaliar a correlação entre os atributos, e seguir com teste de\n",
        "# normalidade, testes de aderência, teste de hipóteses.\n",
        "\n",
        "mask = np.triu(np.ones_like(df_final2.corr())) \n",
        "dataplot = sns.heatmap(df_final2.corr(), mask=mask) \n",
        "plt.show() "
      ]
    },
    {
      "cell_type": "code",
      "execution_count": 65,
      "metadata": {
        "colab": {
          "base_uri": "https://localhost:8080/",
          "height": 480
        },
        "id": "0T4IovR8ChHQ",
        "outputId": "40645c7f-a88d-4dd1-f091-61b01d6c461d"
      },
      "outputs": [
        {
          "output_type": "stream",
          "name": "stderr",
          "text": [
            "/usr/local/lib/python3.7/dist-packages/seaborn/matrix.py:198: RuntimeWarning: All-NaN slice encountered\n",
            "  vmin = np.nanmin(calc_data)\n",
            "/usr/local/lib/python3.7/dist-packages/seaborn/matrix.py:203: RuntimeWarning: All-NaN slice encountered\n",
            "  vmax = np.nanmax(calc_data)\n"
          ]
        },
        {
          "output_type": "display_data",
          "data": {
            "image/png": "[encoded data removed]",
            "text/plain": [
              "<Figure size 432x288 with 2 Axes>"
            ]
          },
          "metadata": {
            "needs_background": "light"
          }
        }
      ],
      "source": [
        "mask = np.triu(np.ones_like(df_final2.corr())) \n",
        "dataplot = sns.heatmap(df_final2.corr(), mask=mask) \n",
        "plt.show() "
      ]
    },
    {
      "cell_type": "code",
      "execution_count": null,
      "metadata": {
        "id": "Op5ASA56ChHQ"
      },
      "outputs": [],
      "source": [
        ""
      ]
    }
  ],
  "metadata": {
    "kernelspec": {
      "display_name": "Python 3",
      "language": "python",
      "name": "python3"
    },
    "language_info": {
      "codemirror_mode": {
        "name": "ipython",
        "version": 3
      },
      "file_extension": ".py",
      "mimetype": "text/x-python",
      "name": "python",
      "nbconvert_exporter": "python",
      "pygments_lexer": "ipython3",
      "version": "3.8.5"
    },
    "colab": {
      "name": "Analise_Airbnb.ipynb",
      "provenance": []
    }
  },
  "nbformat": 4,
  "nbformat_minor": 0
}