{
 "cells": [
  {
   "cell_type": "markdown",
   "metadata": {},
   "source": [
    "# Teste prático para Ciência de Dados na PickCells\n",
    "\n",
    "## Elaborado por Daniela Morais"
   ]
  },
  {
   "cell_type": "code",
   "execution_count": 1,
   "metadata": {},
   "outputs": [],
   "source": [
    "# Carregando as bibliotecas para realização da análise:\n",
    "\n",
    "import pandas as pd\n",
    "import numpy as np\n",
    "import seaborn as sns\n",
    "import statistics\n",
    "%matplotlib inline\n",
    "import matplotlib.pyplot as plt\n",
    "from matplotlib import pyplot"
   ]
  },
  {
   "cell_type": "code",
   "execution_count": 2,
   "metadata": {},
   "outputs": [],
   "source": [
    "# Importando o dataset sugerido. Opção de importar diretamente do site https://wwwn.cdc.gov/Nchs/Nhanes/2017-2018/CBC_J.XPT\n",
    "\n",
    "df = pd.read_sas('https://wwwn.cdc.gov/Nchs/Nhanes/2017-2018/CBC_J.XPT')"
   ]
  },
  {
   "cell_type": "code",
   "execution_count": 3,
   "metadata": {},
   "outputs": [
    {
     "data": {
      "text/html": [
       "<div>\n",
       "<style scoped>\n",
       "    .dataframe tbody tr th:only-of-type {\n",
       "        vertical-align: middle;\n",
       "    }\n",
       "\n",
       "    .dataframe tbody tr th {\n",
       "        vertical-align: top;\n",
       "    }\n",
       "\n",
       "    .dataframe thead th {\n",
       "        text-align: right;\n",
       "    }\n",
       "</style>\n",
       "<table border=\"1\" class=\"dataframe\">\n",
       "  <thead>\n",
       "    <tr style=\"text-align: right;\">\n",
       "      <th></th>\n",
       "      <th>SEQN</th>\n",
       "      <th>LBXWBCSI</th>\n",
       "      <th>LBXLYPCT</th>\n",
       "      <th>LBXMOPCT</th>\n",
       "      <th>LBXNEPCT</th>\n",
       "      <th>LBXEOPCT</th>\n",
       "      <th>LBXBAPCT</th>\n",
       "      <th>LBDLYMNO</th>\n",
       "      <th>LBDMONO</th>\n",
       "      <th>LBDNENO</th>\n",
       "      <th>...</th>\n",
       "      <th>LBXRBCSI</th>\n",
       "      <th>LBXHGB</th>\n",
       "      <th>LBXHCT</th>\n",
       "      <th>LBXMCVSI</th>\n",
       "      <th>LBXMCHSI</th>\n",
       "      <th>LBXMC</th>\n",
       "      <th>LBXRDW</th>\n",
       "      <th>LBXPLTSI</th>\n",
       "      <th>LBXMPSI</th>\n",
       "      <th>LBXNRBC</th>\n",
       "    </tr>\n",
       "  </thead>\n",
       "  <tbody>\n",
       "    <tr>\n",
       "      <th>0</th>\n",
       "      <td>93703.0</td>\n",
       "      <td>NaN</td>\n",
       "      <td>NaN</td>\n",
       "      <td>NaN</td>\n",
       "      <td>NaN</td>\n",
       "      <td>NaN</td>\n",
       "      <td>NaN</td>\n",
       "      <td>NaN</td>\n",
       "      <td>NaN</td>\n",
       "      <td>NaN</td>\n",
       "      <td>...</td>\n",
       "      <td>NaN</td>\n",
       "      <td>NaN</td>\n",
       "      <td>NaN</td>\n",
       "      <td>NaN</td>\n",
       "      <td>NaN</td>\n",
       "      <td>NaN</td>\n",
       "      <td>NaN</td>\n",
       "      <td>NaN</td>\n",
       "      <td>NaN</td>\n",
       "      <td>NaN</td>\n",
       "    </tr>\n",
       "    <tr>\n",
       "      <th>1</th>\n",
       "      <td>93704.0</td>\n",
       "      <td>7.4</td>\n",
       "      <td>47.8</td>\n",
       "      <td>8.0</td>\n",
       "      <td>42.6</td>\n",
       "      <td>1.0</td>\n",
       "      <td>0.7</td>\n",
       "      <td>3.5</td>\n",
       "      <td>0.6</td>\n",
       "      <td>3.2</td>\n",
       "      <td>...</td>\n",
       "      <td>4.25</td>\n",
       "      <td>13.1</td>\n",
       "      <td>37.0</td>\n",
       "      <td>87.0</td>\n",
       "      <td>30.8</td>\n",
       "      <td>35.4</td>\n",
       "      <td>12.8</td>\n",
       "      <td>239.0</td>\n",
       "      <td>8.6</td>\n",
       "      <td>1.000000e-01</td>\n",
       "    </tr>\n",
       "    <tr>\n",
       "      <th>2</th>\n",
       "      <td>93705.0</td>\n",
       "      <td>8.6</td>\n",
       "      <td>40.0</td>\n",
       "      <td>7.4</td>\n",
       "      <td>48.8</td>\n",
       "      <td>2.9</td>\n",
       "      <td>1.0</td>\n",
       "      <td>3.4</td>\n",
       "      <td>0.6</td>\n",
       "      <td>4.2</td>\n",
       "      <td>...</td>\n",
       "      <td>5.48</td>\n",
       "      <td>11.9</td>\n",
       "      <td>36.7</td>\n",
       "      <td>67.0</td>\n",
       "      <td>21.7</td>\n",
       "      <td>32.4</td>\n",
       "      <td>15.6</td>\n",
       "      <td>309.0</td>\n",
       "      <td>7.9</td>\n",
       "      <td>5.397605e-79</td>\n",
       "    </tr>\n",
       "    <tr>\n",
       "      <th>3</th>\n",
       "      <td>93706.0</td>\n",
       "      <td>6.1</td>\n",
       "      <td>24.6</td>\n",
       "      <td>9.1</td>\n",
       "      <td>61.4</td>\n",
       "      <td>4.3</td>\n",
       "      <td>0.8</td>\n",
       "      <td>1.5</td>\n",
       "      <td>0.6</td>\n",
       "      <td>3.7</td>\n",
       "      <td>...</td>\n",
       "      <td>5.24</td>\n",
       "      <td>16.3</td>\n",
       "      <td>47.0</td>\n",
       "      <td>89.7</td>\n",
       "      <td>31.1</td>\n",
       "      <td>34.7</td>\n",
       "      <td>12.2</td>\n",
       "      <td>233.0</td>\n",
       "      <td>6.6</td>\n",
       "      <td>5.397605e-79</td>\n",
       "    </tr>\n",
       "    <tr>\n",
       "      <th>4</th>\n",
       "      <td>93707.0</td>\n",
       "      <td>11.2</td>\n",
       "      <td>37.1</td>\n",
       "      <td>6.2</td>\n",
       "      <td>54.7</td>\n",
       "      <td>1.6</td>\n",
       "      <td>0.5</td>\n",
       "      <td>4.2</td>\n",
       "      <td>0.7</td>\n",
       "      <td>6.1</td>\n",
       "      <td>...</td>\n",
       "      <td>5.02</td>\n",
       "      <td>14.5</td>\n",
       "      <td>42.1</td>\n",
       "      <td>83.9</td>\n",
       "      <td>28.9</td>\n",
       "      <td>34.4</td>\n",
       "      <td>13.6</td>\n",
       "      <td>348.0</td>\n",
       "      <td>8.5</td>\n",
       "      <td>2.000000e-01</td>\n",
       "    </tr>\n",
       "    <tr>\n",
       "      <th>5</th>\n",
       "      <td>93708.0</td>\n",
       "      <td>6.0</td>\n",
       "      <td>31.3</td>\n",
       "      <td>6.8</td>\n",
       "      <td>59.4</td>\n",
       "      <td>2.0</td>\n",
       "      <td>0.7</td>\n",
       "      <td>1.9</td>\n",
       "      <td>0.4</td>\n",
       "      <td>3.6</td>\n",
       "      <td>...</td>\n",
       "      <td>4.59</td>\n",
       "      <td>13.2</td>\n",
       "      <td>39.9</td>\n",
       "      <td>86.8</td>\n",
       "      <td>28.8</td>\n",
       "      <td>33.1</td>\n",
       "      <td>13.4</td>\n",
       "      <td>226.0</td>\n",
       "      <td>9.1</td>\n",
       "      <td>2.000000e-01</td>\n",
       "    </tr>\n",
       "    <tr>\n",
       "      <th>6</th>\n",
       "      <td>93709.0</td>\n",
       "      <td>7.2</td>\n",
       "      <td>25.8</td>\n",
       "      <td>6.8</td>\n",
       "      <td>66.1</td>\n",
       "      <td>0.8</td>\n",
       "      <td>0.6</td>\n",
       "      <td>1.9</td>\n",
       "      <td>0.5</td>\n",
       "      <td>4.8</td>\n",
       "      <td>...</td>\n",
       "      <td>5.13</td>\n",
       "      <td>15.4</td>\n",
       "      <td>45.5</td>\n",
       "      <td>88.8</td>\n",
       "      <td>30.0</td>\n",
       "      <td>33.8</td>\n",
       "      <td>15.7</td>\n",
       "      <td>228.0</td>\n",
       "      <td>9.0</td>\n",
       "      <td>5.397605e-79</td>\n",
       "    </tr>\n",
       "    <tr>\n",
       "      <th>7</th>\n",
       "      <td>93711.0</td>\n",
       "      <td>5.0</td>\n",
       "      <td>35.5</td>\n",
       "      <td>10.0</td>\n",
       "      <td>53.0</td>\n",
       "      <td>1.3</td>\n",
       "      <td>0.4</td>\n",
       "      <td>1.8</td>\n",
       "      <td>0.5</td>\n",
       "      <td>2.7</td>\n",
       "      <td>...</td>\n",
       "      <td>4.65</td>\n",
       "      <td>14.7</td>\n",
       "      <td>43.2</td>\n",
       "      <td>92.9</td>\n",
       "      <td>31.7</td>\n",
       "      <td>34.1</td>\n",
       "      <td>13.3</td>\n",
       "      <td>264.0</td>\n",
       "      <td>7.7</td>\n",
       "      <td>1.000000e-01</td>\n",
       "    </tr>\n",
       "    <tr>\n",
       "      <th>8</th>\n",
       "      <td>93712.0</td>\n",
       "      <td>7.1</td>\n",
       "      <td>30.6</td>\n",
       "      <td>7.1</td>\n",
       "      <td>59.8</td>\n",
       "      <td>1.8</td>\n",
       "      <td>0.8</td>\n",
       "      <td>2.2</td>\n",
       "      <td>0.5</td>\n",
       "      <td>4.2</td>\n",
       "      <td>...</td>\n",
       "      <td>5.12</td>\n",
       "      <td>15.5</td>\n",
       "      <td>46.9</td>\n",
       "      <td>91.6</td>\n",
       "      <td>30.1</td>\n",
       "      <td>32.9</td>\n",
       "      <td>13.8</td>\n",
       "      <td>211.0</td>\n",
       "      <td>9.1</td>\n",
       "      <td>1.000000e-01</td>\n",
       "    </tr>\n",
       "    <tr>\n",
       "      <th>9</th>\n",
       "      <td>93713.0</td>\n",
       "      <td>8.3</td>\n",
       "      <td>34.4</td>\n",
       "      <td>6.9</td>\n",
       "      <td>54.7</td>\n",
       "      <td>3.6</td>\n",
       "      <td>0.6</td>\n",
       "      <td>2.9</td>\n",
       "      <td>0.6</td>\n",
       "      <td>4.5</td>\n",
       "      <td>...</td>\n",
       "      <td>4.52</td>\n",
       "      <td>14.2</td>\n",
       "      <td>42.5</td>\n",
       "      <td>94.0</td>\n",
       "      <td>31.5</td>\n",
       "      <td>33.5</td>\n",
       "      <td>15.3</td>\n",
       "      <td>241.0</td>\n",
       "      <td>9.1</td>\n",
       "      <td>5.397605e-79</td>\n",
       "    </tr>\n",
       "  </tbody>\n",
       "</table>\n",
       "<p>10 rows × 22 columns</p>\n",
       "</div>"
      ],
      "text/plain": [
       "      SEQN  LBXWBCSI  LBXLYPCT  LBXMOPCT  LBXNEPCT  LBXEOPCT  LBXBAPCT  \\\n",
       "0  93703.0       NaN       NaN       NaN       NaN       NaN       NaN   \n",
       "1  93704.0       7.4      47.8       8.0      42.6       1.0       0.7   \n",
       "2  93705.0       8.6      40.0       7.4      48.8       2.9       1.0   \n",
       "3  93706.0       6.1      24.6       9.1      61.4       4.3       0.8   \n",
       "4  93707.0      11.2      37.1       6.2      54.7       1.6       0.5   \n",
       "5  93708.0       6.0      31.3       6.8      59.4       2.0       0.7   \n",
       "6  93709.0       7.2      25.8       6.8      66.1       0.8       0.6   \n",
       "7  93711.0       5.0      35.5      10.0      53.0       1.3       0.4   \n",
       "8  93712.0       7.1      30.6       7.1      59.8       1.8       0.8   \n",
       "9  93713.0       8.3      34.4       6.9      54.7       3.6       0.6   \n",
       "\n",
       "   LBDLYMNO  LBDMONO  LBDNENO  ...  LBXRBCSI  LBXHGB  LBXHCT  LBXMCVSI  \\\n",
       "0       NaN      NaN      NaN  ...       NaN     NaN     NaN       NaN   \n",
       "1       3.5      0.6      3.2  ...      4.25    13.1    37.0      87.0   \n",
       "2       3.4      0.6      4.2  ...      5.48    11.9    36.7      67.0   \n",
       "3       1.5      0.6      3.7  ...      5.24    16.3    47.0      89.7   \n",
       "4       4.2      0.7      6.1  ...      5.02    14.5    42.1      83.9   \n",
       "5       1.9      0.4      3.6  ...      4.59    13.2    39.9      86.8   \n",
       "6       1.9      0.5      4.8  ...      5.13    15.4    45.5      88.8   \n",
       "7       1.8      0.5      2.7  ...      4.65    14.7    43.2      92.9   \n",
       "8       2.2      0.5      4.2  ...      5.12    15.5    46.9      91.6   \n",
       "9       2.9      0.6      4.5  ...      4.52    14.2    42.5      94.0   \n",
       "\n",
       "   LBXMCHSI  LBXMC  LBXRDW  LBXPLTSI  LBXMPSI       LBXNRBC  \n",
       "0       NaN    NaN     NaN       NaN      NaN           NaN  \n",
       "1      30.8   35.4    12.8     239.0      8.6  1.000000e-01  \n",
       "2      21.7   32.4    15.6     309.0      7.9  5.397605e-79  \n",
       "3      31.1   34.7    12.2     233.0      6.6  5.397605e-79  \n",
       "4      28.9   34.4    13.6     348.0      8.5  2.000000e-01  \n",
       "5      28.8   33.1    13.4     226.0      9.1  2.000000e-01  \n",
       "6      30.0   33.8    15.7     228.0      9.0  5.397605e-79  \n",
       "7      31.7   34.1    13.3     264.0      7.7  1.000000e-01  \n",
       "8      30.1   32.9    13.8     211.0      9.1  1.000000e-01  \n",
       "9      31.5   33.5    15.3     241.0      9.1  5.397605e-79  \n",
       "\n",
       "[10 rows x 22 columns]"
      ]
     },
     "execution_count": 3,
     "metadata": {},
     "output_type": "execute_result"
    }
   ],
   "source": [
    "df.head(10)"
   ]
  },
  {
   "cell_type": "code",
   "execution_count": 4,
   "metadata": {},
   "outputs": [
    {
     "data": {
      "text/plain": [
       "(8366, 22)"
      ]
     },
     "execution_count": 4,
     "metadata": {},
     "output_type": "execute_result"
    }
   ],
   "source": [
    "# Conhecendo as dimensões do dataset: 8.366 instâncias e 22 atributos\n",
    "\n",
    "df.shape"
   ]
  },
  {
   "cell_type": "code",
   "execution_count": 5,
   "metadata": {},
   "outputs": [
    {
     "data": {
      "text/plain": [
       "['SEQN',\n",
       " 'LBXWBCSI',\n",
       " 'LBXLYPCT',\n",
       " 'LBXMOPCT',\n",
       " 'LBXNEPCT',\n",
       " 'LBXEOPCT',\n",
       " 'LBXBAPCT',\n",
       " 'LBDLYMNO',\n",
       " 'LBDMONO',\n",
       " 'LBDNENO',\n",
       " 'LBDEONO',\n",
       " 'LBDBANO',\n",
       " 'LBXRBCSI',\n",
       " 'LBXHGB',\n",
       " 'LBXHCT',\n",
       " 'LBXMCVSI',\n",
       " 'LBXMCHSI',\n",
       " 'LBXMC',\n",
       " 'LBXRDW',\n",
       " 'LBXPLTSI',\n",
       " 'LBXMPSI',\n",
       " 'LBXNRBC']"
      ]
     },
     "execution_count": 5,
     "metadata": {},
     "output_type": "execute_result"
    }
   ],
   "source": [
    "# Visualizando todos os atributos do dataset:\n",
    "\n",
    "df.columns.tolist()"
   ]
  },
  {
   "cell_type": "code",
   "execution_count": null,
   "metadata": {},
   "outputs": [],
   "source": [
    "# A fim de facilitar o entendimento das análises, segue abaixo a descrição dos atributos:\n",
    "\n",
    "# SEQN: Sequencial do respondente\n",
    "# LBXWBCSI: Contagem de glóbulos brancos (1000 células/uL)\n",
    "# LBXLYPCT: Porcentagem de linfócitos (%)\n",
    "# LBXMOPCT: Porcentagem de monócitos (%)\n",
    "# LBXNEPCT: Porcentagem de neutrófilos segmentados (%)\n",
    "# LBXEOPCT: Porcentagem de eosinófilos (%)\n",
    "# LBXBAPCT: Porcentagem de basófilos (%)\n",
    "# LBDLYMNO: Número de linfócitos (1000 células/uL)\n",
    "# LBDMONO: Número de monócitos (1000 células/uL)\n",
    "# LBDNENO: Número de neutrófilos segmentados (1000 células/uL)\n",
    "# LBDEONO: Número de eosinófilos (1000 células/uL)\n",
    "# LBDBANO: Número de basófilos (1000 células/uL)\n",
    "# LBXRBCSI: Contagem de glóbulos vermelhos (milhões de células/uL)\n",
    "# LBXHGB: Hemoglobina (g/dL)\n",
    "# LBXHCT: Hematócrito (%)\n",
    "# LBXMCVSI: Volume celular médio (fL)\n",
    "# LBXMCHSI: Hemoglobina celular média (pg)\n",
    "# LBXMC: Concentração de Hemoglobina Média da Célula. (g/dL)\n",
    "# LBXRDW: Largura de distribuição de células vermelhas (%)\n",
    "# LBXPLTSI: Contagem de plaquetas (1000 células/uL)\n",
    "# LBXMPSI: Volume plaquetário médio (fL)\n",
    "# LBXNRBC: Glóbulos vermelhos nucleados"
   ]
  },
  {
   "cell_type": "code",
   "execution_count": 6,
   "metadata": {},
   "outputs": [
    {
     "name": "stdout",
     "output_type": "stream",
     "text": [
      "<class 'pandas.core.frame.DataFrame'>\n",
      "RangeIndex: 8366 entries, 0 to 8365\n",
      "Data columns (total 22 columns):\n",
      " #   Column    Non-Null Count  Dtype  \n",
      "---  ------    --------------  -----  \n",
      " 0   SEQN      8366 non-null   float64\n",
      " 1   LBXWBCSI  7528 non-null   float64\n",
      " 2   LBXLYPCT  7523 non-null   float64\n",
      " 3   LBXMOPCT  7523 non-null   float64\n",
      " 4   LBXNEPCT  7523 non-null   float64\n",
      " 5   LBXEOPCT  7523 non-null   float64\n",
      " 6   LBXBAPCT  7523 non-null   float64\n",
      " 7   LBDLYMNO  7523 non-null   float64\n",
      " 8   LBDMONO   7523 non-null   float64\n",
      " 9   LBDNENO   7523 non-null   float64\n",
      " 10  LBDEONO   7523 non-null   float64\n",
      " 11  LBDBANO   7523 non-null   float64\n",
      " 12  LBXRBCSI  7528 non-null   float64\n",
      " 13  LBXHGB    7528 non-null   float64\n",
      " 14  LBXHCT    7528 non-null   float64\n",
      " 15  LBXMCVSI  7528 non-null   float64\n",
      " 16  LBXMCHSI  7528 non-null   float64\n",
      " 17  LBXMC     7528 non-null   float64\n",
      " 18  LBXRDW    7528 non-null   float64\n",
      " 19  LBXPLTSI  7528 non-null   float64\n",
      " 20  LBXMPSI   7528 non-null   float64\n",
      " 21  LBXNRBC   7523 non-null   float64\n",
      "dtypes: float64(22)\n",
      "memory usage: 1.4 MB\n"
     ]
    }
   ],
   "source": [
    "# Verificando os tipos dos parâmetros e a existência de dados faltantes na base completa:\n",
    "\n",
    "df.info()"
   ]
  },
  {
   "cell_type": "code",
   "execution_count": 7,
   "metadata": {},
   "outputs": [
    {
     "data": {
      "text/html": [
       "<div>\n",
       "<style scoped>\n",
       "    .dataframe tbody tr th:only-of-type {\n",
       "        vertical-align: middle;\n",
       "    }\n",
       "\n",
       "    .dataframe tbody tr th {\n",
       "        vertical-align: top;\n",
       "    }\n",
       "\n",
       "    .dataframe thead th {\n",
       "        text-align: right;\n",
       "    }\n",
       "</style>\n",
       "<table border=\"1\" class=\"dataframe\">\n",
       "  <thead>\n",
       "    <tr style=\"text-align: right;\">\n",
       "      <th></th>\n",
       "      <th>LBXWBCSI</th>\n",
       "      <th>LBXLYPCT</th>\n",
       "      <th>LBXMOPCT</th>\n",
       "      <th>LBXNEPCT</th>\n",
       "      <th>LBXEOPCT</th>\n",
       "      <th>LBXBAPCT</th>\n",
       "      <th>LBXRBCSI</th>\n",
       "      <th>LBXHGB</th>\n",
       "      <th>LBXHCT</th>\n",
       "      <th>LBXMCVSI</th>\n",
       "      <th>LBXMCHSI</th>\n",
       "      <th>LBXMC</th>\n",
       "      <th>LBXRDW</th>\n",
       "      <th>LBXPLTSI</th>\n",
       "      <th>LBXMPSI</th>\n",
       "    </tr>\n",
       "  </thead>\n",
       "  <tbody>\n",
       "    <tr>\n",
       "      <th>0</th>\n",
       "      <td>3.9</td>\n",
       "      <td>14.1</td>\n",
       "      <td>3.8</td>\n",
       "      <td>37.8</td>\n",
       "      <td>0.6</td>\n",
       "      <td>0.1</td>\n",
       "      <td>3.64</td>\n",
       "      <td>10.6</td>\n",
       "      <td>32.0</td>\n",
       "      <td>74.6</td>\n",
       "      <td>24.3</td>\n",
       "      <td>32.1</td>\n",
       "      <td>11.4</td>\n",
       "      <td>152</td>\n",
       "      <td>6.8</td>\n",
       "    </tr>\n",
       "    <tr>\n",
       "      <th>1</th>\n",
       "      <td>12.9</td>\n",
       "      <td>47.9</td>\n",
       "      <td>13.5</td>\n",
       "      <td>78.1</td>\n",
       "      <td>8.5</td>\n",
       "      <td>1.7</td>\n",
       "      <td>5.86</td>\n",
       "      <td>17.5</td>\n",
       "      <td>51.4</td>\n",
       "      <td>99.1</td>\n",
       "      <td>34.0</td>\n",
       "      <td>35.3</td>\n",
       "      <td>16.3</td>\n",
       "      <td>441</td>\n",
       "      <td>10.2</td>\n",
       "    </tr>\n",
       "  </tbody>\n",
       "</table>\n",
       "</div>"
      ],
      "text/plain": [
       "   LBXWBCSI  LBXLYPCT  LBXMOPCT  LBXNEPCT  LBXEOPCT  LBXBAPCT  LBXRBCSI  \\\n",
       "0       3.9      14.1       3.8      37.8       0.6       0.1      3.64   \n",
       "1      12.9      47.9      13.5      78.1       8.5       1.7      5.86   \n",
       "\n",
       "   LBXHGB  LBXHCT  LBXMCVSI  LBXMCHSI  LBXMC  LBXRDW  LBXPLTSI  LBXMPSI  \n",
       "0    10.6    32.0      74.6      24.3   32.1    11.4       152      6.8  \n",
       "1    17.5    51.4      99.1      34.0   35.3    16.3       441     10.2  "
      ]
     },
     "execution_count": 7,
     "metadata": {},
     "output_type": "execute_result"
    }
   ],
   "source": [
    "# Reconhecendo os novos valores de referência\n",
    "\n",
    "valores_referencia = pd.read_csv('valores_de_referencia.csv')\n",
    "valores_referencia.head(10)"
   ]
  },
  {
   "cell_type": "code",
   "execution_count": 8,
   "metadata": {},
   "outputs": [
    {
     "name": "stdout",
     "output_type": "stream",
     "text": [
      "<class 'pandas.core.frame.DataFrame'>\n",
      "Int64Index: 2 entries, 0 to 1\n",
      "Data columns (total 15 columns):\n",
      " #   Column    Non-Null Count  Dtype  \n",
      "---  ------    --------------  -----  \n",
      " 0   LBXWBCSI  2 non-null      float64\n",
      " 1   LBXLYPCT  2 non-null      float64\n",
      " 2   LBXMOPCT  2 non-null      float64\n",
      " 3   LBXNEPCT  2 non-null      float64\n",
      " 4   LBXEOPCT  2 non-null      float64\n",
      " 5   LBXBAPCT  2 non-null      float64\n",
      " 6   LBXRBCSI  2 non-null      float64\n",
      " 7   LBXHGB    2 non-null      float64\n",
      " 8   LBXHCT    2 non-null      float64\n",
      " 9   LBXMCVSI  2 non-null      float64\n",
      " 10  LBXMCHSI  2 non-null      float64\n",
      " 11  LBXMC     2 non-null      float64\n",
      " 12  LBXRDW    2 non-null      float64\n",
      " 13  LBXPLTSI  2 non-null      int64  \n",
      " 14  LBXMPSI   2 non-null      float64\n",
      "dtypes: float64(14), int64(1)\n",
      "memory usage: 256.0 bytes\n"
     ]
    }
   ],
   "source": [
    "valores_referencia.info()"
   ]
  },
  {
   "cell_type": "code",
   "execution_count": 10,
   "metadata": {},
   "outputs": [],
   "source": [
    "\n",
    "\n",
    "df_2 = df.dropna()"
   ]
  },
  {
   "cell_type": "code",
   "execution_count": 11,
   "metadata": {},
   "outputs": [],
   "source": [
    "# Para seguir com a análise, vamos manter apenas as variáveis que estão mencionadas no arquivo valores_de_referência.csv,\n",
    "# retirando os demais parãmetros do dataframe.\n",
    "\n",
    "df_2 = df.drop([\"LBDLYMNO\", \"LBDMONO\", \"LBDNENO\", \"LBDEONO\", \"LBDBANO\", \"LBXNRBC\",], axis=1)"
   ]
  },
  {
   "cell_type": "code",
   "execution_count": 13,
   "metadata": {},
   "outputs": [],
   "source": [
    "# Retirando os dados faltantes do dataframe para seguir com as análises descritivas\n",
    "\n",
    "df_2 = df_2.dropna()"
   ]
  },
  {
   "cell_type": "code",
   "execution_count": 14,
   "metadata": {},
   "outputs": [
    {
     "data": {
      "text/html": [
       "<div>\n",
       "<style scoped>\n",
       "    .dataframe tbody tr th:only-of-type {\n",
       "        vertical-align: middle;\n",
       "    }\n",
       "\n",
       "    .dataframe tbody tr th {\n",
       "        vertical-align: top;\n",
       "    }\n",
       "\n",
       "    .dataframe thead th {\n",
       "        text-align: right;\n",
       "    }\n",
       "</style>\n",
       "<table border=\"1\" class=\"dataframe\">\n",
       "  <thead>\n",
       "    <tr style=\"text-align: right;\">\n",
       "      <th></th>\n",
       "      <th>SEQN</th>\n",
       "      <th>LBXWBCSI</th>\n",
       "      <th>LBXLYPCT</th>\n",
       "      <th>LBXMOPCT</th>\n",
       "      <th>LBXNEPCT</th>\n",
       "      <th>LBXEOPCT</th>\n",
       "      <th>LBXBAPCT</th>\n",
       "      <th>LBXRBCSI</th>\n",
       "      <th>LBXHGB</th>\n",
       "      <th>LBXHCT</th>\n",
       "      <th>LBXMCVSI</th>\n",
       "      <th>LBXMCHSI</th>\n",
       "      <th>LBXMC</th>\n",
       "      <th>LBXRDW</th>\n",
       "      <th>LBXPLTSI</th>\n",
       "      <th>LBXMPSI</th>\n",
       "    </tr>\n",
       "  </thead>\n",
       "  <tbody>\n",
       "    <tr>\n",
       "      <th>1</th>\n",
       "      <td>93704.0</td>\n",
       "      <td>7.4</td>\n",
       "      <td>47.8</td>\n",
       "      <td>8.0</td>\n",
       "      <td>42.6</td>\n",
       "      <td>1.0</td>\n",
       "      <td>0.7</td>\n",
       "      <td>4.25</td>\n",
       "      <td>13.1</td>\n",
       "      <td>37.0</td>\n",
       "      <td>87.0</td>\n",
       "      <td>30.8</td>\n",
       "      <td>35.4</td>\n",
       "      <td>12.8</td>\n",
       "      <td>239.0</td>\n",
       "      <td>8.6</td>\n",
       "    </tr>\n",
       "    <tr>\n",
       "      <th>2</th>\n",
       "      <td>93705.0</td>\n",
       "      <td>8.6</td>\n",
       "      <td>40.0</td>\n",
       "      <td>7.4</td>\n",
       "      <td>48.8</td>\n",
       "      <td>2.9</td>\n",
       "      <td>1.0</td>\n",
       "      <td>5.48</td>\n",
       "      <td>11.9</td>\n",
       "      <td>36.7</td>\n",
       "      <td>67.0</td>\n",
       "      <td>21.7</td>\n",
       "      <td>32.4</td>\n",
       "      <td>15.6</td>\n",
       "      <td>309.0</td>\n",
       "      <td>7.9</td>\n",
       "    </tr>\n",
       "    <tr>\n",
       "      <th>3</th>\n",
       "      <td>93706.0</td>\n",
       "      <td>6.1</td>\n",
       "      <td>24.6</td>\n",
       "      <td>9.1</td>\n",
       "      <td>61.4</td>\n",
       "      <td>4.3</td>\n",
       "      <td>0.8</td>\n",
       "      <td>5.24</td>\n",
       "      <td>16.3</td>\n",
       "      <td>47.0</td>\n",
       "      <td>89.7</td>\n",
       "      <td>31.1</td>\n",
       "      <td>34.7</td>\n",
       "      <td>12.2</td>\n",
       "      <td>233.0</td>\n",
       "      <td>6.6</td>\n",
       "    </tr>\n",
       "    <tr>\n",
       "      <th>4</th>\n",
       "      <td>93707.0</td>\n",
       "      <td>11.2</td>\n",
       "      <td>37.1</td>\n",
       "      <td>6.2</td>\n",
       "      <td>54.7</td>\n",
       "      <td>1.6</td>\n",
       "      <td>0.5</td>\n",
       "      <td>5.02</td>\n",
       "      <td>14.5</td>\n",
       "      <td>42.1</td>\n",
       "      <td>83.9</td>\n",
       "      <td>28.9</td>\n",
       "      <td>34.4</td>\n",
       "      <td>13.6</td>\n",
       "      <td>348.0</td>\n",
       "      <td>8.5</td>\n",
       "    </tr>\n",
       "    <tr>\n",
       "      <th>5</th>\n",
       "      <td>93708.0</td>\n",
       "      <td>6.0</td>\n",
       "      <td>31.3</td>\n",
       "      <td>6.8</td>\n",
       "      <td>59.4</td>\n",
       "      <td>2.0</td>\n",
       "      <td>0.7</td>\n",
       "      <td>4.59</td>\n",
       "      <td>13.2</td>\n",
       "      <td>39.9</td>\n",
       "      <td>86.8</td>\n",
       "      <td>28.8</td>\n",
       "      <td>33.1</td>\n",
       "      <td>13.4</td>\n",
       "      <td>226.0</td>\n",
       "      <td>9.1</td>\n",
       "    </tr>\n",
       "    <tr>\n",
       "      <th>...</th>\n",
       "      <td>...</td>\n",
       "      <td>...</td>\n",
       "      <td>...</td>\n",
       "      <td>...</td>\n",
       "      <td>...</td>\n",
       "      <td>...</td>\n",
       "      <td>...</td>\n",
       "      <td>...</td>\n",
       "      <td>...</td>\n",
       "      <td>...</td>\n",
       "      <td>...</td>\n",
       "      <td>...</td>\n",
       "      <td>...</td>\n",
       "      <td>...</td>\n",
       "      <td>...</td>\n",
       "      <td>...</td>\n",
       "    </tr>\n",
       "    <tr>\n",
       "      <th>8361</th>\n",
       "      <td>102952.0</td>\n",
       "      <td>5.1</td>\n",
       "      <td>34.9</td>\n",
       "      <td>7.1</td>\n",
       "      <td>56.2</td>\n",
       "      <td>1.3</td>\n",
       "      <td>0.6</td>\n",
       "      <td>4.64</td>\n",
       "      <td>13.4</td>\n",
       "      <td>40.6</td>\n",
       "      <td>87.7</td>\n",
       "      <td>29.0</td>\n",
       "      <td>33.1</td>\n",
       "      <td>13.3</td>\n",
       "      <td>161.0</td>\n",
       "      <td>9.1</td>\n",
       "    </tr>\n",
       "    <tr>\n",
       "      <th>8362</th>\n",
       "      <td>102953.0</td>\n",
       "      <td>8.3</td>\n",
       "      <td>28.3</td>\n",
       "      <td>6.8</td>\n",
       "      <td>60.8</td>\n",
       "      <td>3.6</td>\n",
       "      <td>0.6</td>\n",
       "      <td>5.01</td>\n",
       "      <td>15.5</td>\n",
       "      <td>44.4</td>\n",
       "      <td>88.8</td>\n",
       "      <td>30.9</td>\n",
       "      <td>34.8</td>\n",
       "      <td>13.6</td>\n",
       "      <td>227.0</td>\n",
       "      <td>8.7</td>\n",
       "    </tr>\n",
       "    <tr>\n",
       "      <th>8363</th>\n",
       "      <td>102954.0</td>\n",
       "      <td>5.1</td>\n",
       "      <td>43.5</td>\n",
       "      <td>11.8</td>\n",
       "      <td>39.9</td>\n",
       "      <td>3.5</td>\n",
       "      <td>1.4</td>\n",
       "      <td>3.72</td>\n",
       "      <td>6.4</td>\n",
       "      <td>23.1</td>\n",
       "      <td>61.9</td>\n",
       "      <td>17.3</td>\n",
       "      <td>27.9</td>\n",
       "      <td>19.6</td>\n",
       "      <td>145.0</td>\n",
       "      <td>9.7</td>\n",
       "    </tr>\n",
       "    <tr>\n",
       "      <th>8364</th>\n",
       "      <td>102955.0</td>\n",
       "      <td>11.4</td>\n",
       "      <td>33.4</td>\n",
       "      <td>7.3</td>\n",
       "      <td>57.5</td>\n",
       "      <td>1.1</td>\n",
       "      <td>0.9</td>\n",
       "      <td>4.93</td>\n",
       "      <td>11.4</td>\n",
       "      <td>33.7</td>\n",
       "      <td>68.4</td>\n",
       "      <td>23.1</td>\n",
       "      <td>33.7</td>\n",
       "      <td>17.4</td>\n",
       "      <td>382.0</td>\n",
       "      <td>7.7</td>\n",
       "    </tr>\n",
       "    <tr>\n",
       "      <th>8365</th>\n",
       "      <td>102956.0</td>\n",
       "      <td>9.0</td>\n",
       "      <td>29.4</td>\n",
       "      <td>6.9</td>\n",
       "      <td>58.8</td>\n",
       "      <td>4.0</td>\n",
       "      <td>1.0</td>\n",
       "      <td>5.46</td>\n",
       "      <td>17.4</td>\n",
       "      <td>50.1</td>\n",
       "      <td>91.8</td>\n",
       "      <td>31.9</td>\n",
       "      <td>34.7</td>\n",
       "      <td>13.3</td>\n",
       "      <td>159.0</td>\n",
       "      <td>8.5</td>\n",
       "    </tr>\n",
       "  </tbody>\n",
       "</table>\n",
       "<p>7523 rows × 16 columns</p>\n",
       "</div>"
      ],
      "text/plain": [
       "          SEQN  LBXWBCSI  LBXLYPCT  LBXMOPCT  LBXNEPCT  LBXEOPCT  LBXBAPCT  \\\n",
       "1      93704.0       7.4      47.8       8.0      42.6       1.0       0.7   \n",
       "2      93705.0       8.6      40.0       7.4      48.8       2.9       1.0   \n",
       "3      93706.0       6.1      24.6       9.1      61.4       4.3       0.8   \n",
       "4      93707.0      11.2      37.1       6.2      54.7       1.6       0.5   \n",
       "5      93708.0       6.0      31.3       6.8      59.4       2.0       0.7   \n",
       "...        ...       ...       ...       ...       ...       ...       ...   \n",
       "8361  102952.0       5.1      34.9       7.1      56.2       1.3       0.6   \n",
       "8362  102953.0       8.3      28.3       6.8      60.8       3.6       0.6   \n",
       "8363  102954.0       5.1      43.5      11.8      39.9       3.5       1.4   \n",
       "8364  102955.0      11.4      33.4       7.3      57.5       1.1       0.9   \n",
       "8365  102956.0       9.0      29.4       6.9      58.8       4.0       1.0   \n",
       "\n",
       "      LBXRBCSI  LBXHGB  LBXHCT  LBXMCVSI  LBXMCHSI  LBXMC  LBXRDW  LBXPLTSI  \\\n",
       "1         4.25    13.1    37.0      87.0      30.8   35.4    12.8     239.0   \n",
       "2         5.48    11.9    36.7      67.0      21.7   32.4    15.6     309.0   \n",
       "3         5.24    16.3    47.0      89.7      31.1   34.7    12.2     233.0   \n",
       "4         5.02    14.5    42.1      83.9      28.9   34.4    13.6     348.0   \n",
       "5         4.59    13.2    39.9      86.8      28.8   33.1    13.4     226.0   \n",
       "...        ...     ...     ...       ...       ...    ...     ...       ...   \n",
       "8361      4.64    13.4    40.6      87.7      29.0   33.1    13.3     161.0   \n",
       "8362      5.01    15.5    44.4      88.8      30.9   34.8    13.6     227.0   \n",
       "8363      3.72     6.4    23.1      61.9      17.3   27.9    19.6     145.0   \n",
       "8364      4.93    11.4    33.7      68.4      23.1   33.7    17.4     382.0   \n",
       "8365      5.46    17.4    50.1      91.8      31.9   34.7    13.3     159.0   \n",
       "\n",
       "      LBXMPSI  \n",
       "1         8.6  \n",
       "2         7.9  \n",
       "3         6.6  \n",
       "4         8.5  \n",
       "5         9.1  \n",
       "...       ...  \n",
       "8361      9.1  \n",
       "8362      8.7  \n",
       "8363      9.7  \n",
       "8364      7.7  \n",
       "8365      8.5  \n",
       "\n",
       "[7523 rows x 16 columns]"
      ]
     },
     "execution_count": 14,
     "metadata": {},
     "output_type": "execute_result"
    }
   ],
   "source": [
    "df_2"
   ]
  },
  {
   "cell_type": "code",
   "execution_count": 15,
   "metadata": {},
   "outputs": [],
   "source": [
    "# Realizando amostragem de 30% da database:\n",
    "# Por se tratar de uma base sem classificação, foi realizada uma amostragem aleatória simples.\n",
    "\n",
    "df_2 = df_2.sample(n=2256)"
   ]
  },
  {
   "cell_type": "code",
   "execution_count": 16,
   "metadata": {},
   "outputs": [
    {
     "data": {
      "text/html": [
       "<div>\n",
       "<style scoped>\n",
       "    .dataframe tbody tr th:only-of-type {\n",
       "        vertical-align: middle;\n",
       "    }\n",
       "\n",
       "    .dataframe tbody tr th {\n",
       "        vertical-align: top;\n",
       "    }\n",
       "\n",
       "    .dataframe thead th {\n",
       "        text-align: right;\n",
       "    }\n",
       "</style>\n",
       "<table border=\"1\" class=\"dataframe\">\n",
       "  <thead>\n",
       "    <tr style=\"text-align: right;\">\n",
       "      <th></th>\n",
       "      <th>SEQN</th>\n",
       "      <th>LBXWBCSI</th>\n",
       "      <th>LBXLYPCT</th>\n",
       "      <th>LBXMOPCT</th>\n",
       "      <th>LBXNEPCT</th>\n",
       "      <th>LBXEOPCT</th>\n",
       "      <th>LBXBAPCT</th>\n",
       "      <th>LBXRBCSI</th>\n",
       "      <th>LBXHGB</th>\n",
       "      <th>LBXHCT</th>\n",
       "      <th>LBXMCVSI</th>\n",
       "      <th>LBXMCHSI</th>\n",
       "      <th>LBXMC</th>\n",
       "      <th>LBXRDW</th>\n",
       "      <th>LBXPLTSI</th>\n",
       "      <th>LBXMPSI</th>\n",
       "    </tr>\n",
       "  </thead>\n",
       "  <tbody>\n",
       "    <tr>\n",
       "      <th>7169</th>\n",
       "      <td>101618.0</td>\n",
       "      <td>6.8</td>\n",
       "      <td>36.1</td>\n",
       "      <td>10.9</td>\n",
       "      <td>47.2</td>\n",
       "      <td>4.9</td>\n",
       "      <td>1.0</td>\n",
       "      <td>4.50</td>\n",
       "      <td>12.7</td>\n",
       "      <td>36.8</td>\n",
       "      <td>81.7</td>\n",
       "      <td>28.2</td>\n",
       "      <td>34.4</td>\n",
       "      <td>13.2</td>\n",
       "      <td>305.0</td>\n",
       "      <td>8.9</td>\n",
       "    </tr>\n",
       "    <tr>\n",
       "      <th>8097</th>\n",
       "      <td>102659.0</td>\n",
       "      <td>5.9</td>\n",
       "      <td>33.7</td>\n",
       "      <td>12.9</td>\n",
       "      <td>47.2</td>\n",
       "      <td>5.4</td>\n",
       "      <td>0.9</td>\n",
       "      <td>4.10</td>\n",
       "      <td>13.1</td>\n",
       "      <td>38.2</td>\n",
       "      <td>93.1</td>\n",
       "      <td>31.9</td>\n",
       "      <td>34.3</td>\n",
       "      <td>13.0</td>\n",
       "      <td>226.0</td>\n",
       "      <td>6.6</td>\n",
       "    </tr>\n",
       "    <tr>\n",
       "      <th>2058</th>\n",
       "      <td>95969.0</td>\n",
       "      <td>6.2</td>\n",
       "      <td>43.9</td>\n",
       "      <td>8.1</td>\n",
       "      <td>44.6</td>\n",
       "      <td>3.2</td>\n",
       "      <td>0.3</td>\n",
       "      <td>4.98</td>\n",
       "      <td>14.9</td>\n",
       "      <td>43.3</td>\n",
       "      <td>87.1</td>\n",
       "      <td>30.0</td>\n",
       "      <td>34.4</td>\n",
       "      <td>13.7</td>\n",
       "      <td>212.0</td>\n",
       "      <td>8.4</td>\n",
       "    </tr>\n",
       "    <tr>\n",
       "      <th>7937</th>\n",
       "      <td>102478.0</td>\n",
       "      <td>4.3</td>\n",
       "      <td>43.4</td>\n",
       "      <td>11.3</td>\n",
       "      <td>43.4</td>\n",
       "      <td>1.5</td>\n",
       "      <td>0.5</td>\n",
       "      <td>5.04</td>\n",
       "      <td>14.6</td>\n",
       "      <td>43.6</td>\n",
       "      <td>86.6</td>\n",
       "      <td>29.0</td>\n",
       "      <td>33.4</td>\n",
       "      <td>14.1</td>\n",
       "      <td>213.0</td>\n",
       "      <td>7.8</td>\n",
       "    </tr>\n",
       "    <tr>\n",
       "      <th>3595</th>\n",
       "      <td>97671.0</td>\n",
       "      <td>14.8</td>\n",
       "      <td>25.4</td>\n",
       "      <td>7.2</td>\n",
       "      <td>64.3</td>\n",
       "      <td>2.1</td>\n",
       "      <td>1.1</td>\n",
       "      <td>4.41</td>\n",
       "      <td>12.0</td>\n",
       "      <td>35.9</td>\n",
       "      <td>81.5</td>\n",
       "      <td>27.3</td>\n",
       "      <td>33.6</td>\n",
       "      <td>15.7</td>\n",
       "      <td>360.0</td>\n",
       "      <td>7.3</td>\n",
       "    </tr>\n",
       "  </tbody>\n",
       "</table>\n",
       "</div>"
      ],
      "text/plain": [
       "          SEQN  LBXWBCSI  LBXLYPCT  LBXMOPCT  LBXNEPCT  LBXEOPCT  LBXBAPCT  \\\n",
       "7169  101618.0       6.8      36.1      10.9      47.2       4.9       1.0   \n",
       "8097  102659.0       5.9      33.7      12.9      47.2       5.4       0.9   \n",
       "2058   95969.0       6.2      43.9       8.1      44.6       3.2       0.3   \n",
       "7937  102478.0       4.3      43.4      11.3      43.4       1.5       0.5   \n",
       "3595   97671.0      14.8      25.4       7.2      64.3       2.1       1.1   \n",
       "\n",
       "      LBXRBCSI  LBXHGB  LBXHCT  LBXMCVSI  LBXMCHSI  LBXMC  LBXRDW  LBXPLTSI  \\\n",
       "7169      4.50    12.7    36.8      81.7      28.2   34.4    13.2     305.0   \n",
       "8097      4.10    13.1    38.2      93.1      31.9   34.3    13.0     226.0   \n",
       "2058      4.98    14.9    43.3      87.1      30.0   34.4    13.7     212.0   \n",
       "7937      5.04    14.6    43.6      86.6      29.0   33.4    14.1     213.0   \n",
       "3595      4.41    12.0    35.9      81.5      27.3   33.6    15.7     360.0   \n",
       "\n",
       "      LBXMPSI  \n",
       "7169      8.9  \n",
       "8097      6.6  \n",
       "2058      8.4  \n",
       "7937      7.8  \n",
       "3595      7.3  "
      ]
     },
     "execution_count": 16,
     "metadata": {},
     "output_type": "execute_result"
    }
   ],
   "source": [
    "df_2.head()"
   ]
  },
  {
   "cell_type": "code",
   "execution_count": null,
   "metadata": {},
   "outputs": [],
   "source": [
    "# Análise descritiva de todos os parâmetros"
   ]
  },
  {
   "cell_type": "markdown",
   "metadata": {},
   "source": [
    "### LBXWBCSI: Contagem de glóbulos brancos (1000 células/uL)\n",
    "Faixa de valor 3,9 a 12,9"
   ]
  },
  {
   "cell_type": "code",
   "execution_count": 23,
   "metadata": {},
   "outputs": [
    {
     "data": {
      "text/plain": [
       "count    7528.000000\n",
       "mean        7.383103\n",
       "std         5.106263\n",
       "min         1.900000\n",
       "25%         5.800000\n",
       "50%         7.000000\n",
       "75%         8.500000\n",
       "max       400.000000\n",
       "Name: LBXWBCSI, dtype: float64"
      ]
     },
     "execution_count": 23,
     "metadata": {},
     "output_type": "execute_result"
    }
   ],
   "source": [
    "# Análise descritiva da base completa, a fim de identificar a existência ou não de pontos fora dos limites\n",
    "# estabelecidos pelo arquivo valores_de_referencia.csv\n",
    "\n",
    "df.LBXWBCSI.describe() # geral"
   ]
  },
  {
   "cell_type": "code",
   "execution_count": 24,
   "metadata": {},
   "outputs": [
    {
     "data": {
      "text/plain": [
       "count    2256.000000\n",
       "mean        7.327349\n",
       "std         2.300890\n",
       "min         1.900000\n",
       "25%         5.700000\n",
       "50%         7.000000\n",
       "75%         8.500000\n",
       "max        41.900000\n",
       "Name: LBXWBCSI, dtype: float64"
      ]
     },
     "execution_count": 24,
     "metadata": {},
     "output_type": "execute_result"
    }
   ],
   "source": [
    "df_2.LBXWBCSI.describe() # amostra"
   ]
  },
  {
   "cell_type": "markdown",
   "metadata": {},
   "source": [
    "Para este parâmetro existe ocorrência de pacientes que extrapolam tanto os limites superior quanto inferior."
   ]
  },
  {
   "cell_type": "code",
   "execution_count": 22,
   "metadata": {},
   "outputs": [
    {
     "data": {
      "image/png": "[encoded data removed]",
      "text/plain": [
       "<Figure size 432x576 with 1 Axes>"
      ]
     },
     "metadata": {
      "needs_background": "light"
     },
     "output_type": "display_data"
    }
   ],
   "source": [
    "plt.figure(figsize=(6, 8))\n",
    "plt.boxplot(df_2['LBXWBCSI'])\n",
    "plt.title(\"Contagem de glóbulos brancos\")\n",
    "plt.show()"
   ]
  },
  {
   "cell_type": "markdown",
   "metadata": {},
   "source": [
    "### LBXLYPCT: Porcentagem de linfócitos\n",
    "Faixa de valor 14,1 a 47,9"
   ]
  },
  {
   "cell_type": "code",
   "execution_count": 20,
   "metadata": {},
   "outputs": [
    {
     "data": {
      "text/plain": [
       "count    7523.000000\n",
       "mean       34.105982\n",
       "std        10.660190\n",
       "min         4.400000\n",
       "25%        26.700000\n",
       "50%        33.100000\n",
       "75%        40.200000\n",
       "max        89.700000\n",
       "Name: LBXLYPCT, dtype: float64"
      ]
     },
     "execution_count": 20,
     "metadata": {},
     "output_type": "execute_result"
    }
   ],
   "source": [
    "df.LBXLYPCT.describe()"
   ]
  },
  {
   "cell_type": "code",
   "execution_count": 21,
   "metadata": {},
   "outputs": [
    {
     "data": {
      "text/plain": [
       "count    2256.000000\n",
       "mean       34.196809\n",
       "std        10.695820\n",
       "min         8.000000\n",
       "25%        26.800000\n",
       "50%        33.250000\n",
       "75%        40.200000\n",
       "max        89.500000\n",
       "Name: LBXLYPCT, dtype: float64"
      ]
     },
     "execution_count": 21,
     "metadata": {},
     "output_type": "execute_result"
    }
   ],
   "source": [
    "df_2.LBXLYPCT.describe()"
   ]
  },
  {
   "cell_type": "markdown",
   "metadata": {},
   "source": [
    "Para este parâmetro existe ocorrência de pacientes que extrapolam tanto os limites superior quanto inferior."
   ]
  },
  {
   "cell_type": "code",
   "execution_count": 25,
   "metadata": {},
   "outputs": [
    {
     "data": {
      "image/png": "[encoded data removed]",
      "text/plain": [
       "<Figure size 432x576 with 1 Axes>"
      ]
     },
     "metadata": {
      "needs_background": "light"
     },
     "output_type": "display_data"
    }
   ],
   "source": [
    "plt.figure(figsize=(6, 8))\n",
    "plt.boxplot(df_2['LBXLYPCT'])\n",
    "plt.title(\"Porcentagem de linfócitos\")\n",
    "plt.show()"
   ]
  },
  {
   "cell_type": "markdown",
   "metadata": {},
   "source": [
    "### LBXMOPCT: Porcentagem de monócitos\n",
    "Faixa de valor 3,8 a 13,5"
   ]
  },
  {
   "cell_type": "code",
   "execution_count": 26,
   "metadata": {},
   "outputs": [
    {
     "data": {
      "text/plain": [
       "count    7523.000000\n",
       "mean        8.199521\n",
       "std         2.232815\n",
       "min         0.700000\n",
       "25%         6.700000\n",
       "50%         7.900000\n",
       "75%         9.300000\n",
       "max        57.200000\n",
       "Name: LBXMOPCT, dtype: float64"
      ]
     },
     "execution_count": 26,
     "metadata": {},
     "output_type": "execute_result"
    }
   ],
   "source": [
    "df.LBXMOPCT.describe()"
   ]
  },
  {
   "cell_type": "code",
   "execution_count": 27,
   "metadata": {},
   "outputs": [
    {
     "data": {
      "text/plain": [
       "count    2256.000000\n",
       "mean        8.213963\n",
       "std         2.178061\n",
       "min         1.100000\n",
       "25%         6.700000\n",
       "50%         8.000000\n",
       "75%         9.300000\n",
       "max        22.500000\n",
       "Name: LBXMOPCT, dtype: float64"
      ]
     },
     "execution_count": 27,
     "metadata": {},
     "output_type": "execute_result"
    }
   ],
   "source": [
    "df_2.LBXMOPCT.describe()"
   ]
  },
  {
   "cell_type": "markdown",
   "metadata": {},
   "source": [
    "Para este parâmetro existe ocorrência de pacientes que extrapolam tanto os limites superior quanto inferior"
   ]
  },
  {
   "cell_type": "code",
   "execution_count": 28,
   "metadata": {},
   "outputs": [
    {
     "data": {
      "image/png": "[encoded data removed]",
      "text/plain": [
       "<Figure size 432x576 with 1 Axes>"
      ]
     },
     "metadata": {
      "needs_background": "light"
     },
     "output_type": "display_data"
    }
   ],
   "source": [
    "plt.figure(figsize=(6, 8))\n",
    "plt.boxplot(df_2['LBXMOPCT'])\n",
    "plt.title(\"Porcentagem de monócitos\")\n",
    "plt.show()"
   ]
  },
  {
   "cell_type": "markdown",
   "metadata": {},
   "source": [
    "### LBXNEPCT: Porcentagem de neutrofilos segmentados\n",
    "Faixa de valor 37,8 a 78,1"
   ]
  },
  {
   "cell_type": "code",
   "execution_count": 29,
   "metadata": {},
   "outputs": [
    {
     "data": {
      "text/plain": [
       "count    7523.000000\n",
       "mean       54.089273\n",
       "std        11.345314\n",
       "min         8.400000\n",
       "25%        47.400000\n",
       "50%        55.100000\n",
       "75%        61.900000\n",
       "max        92.800000\n",
       "Name: LBXNEPCT, dtype: float64"
      ]
     },
     "execution_count": 29,
     "metadata": {},
     "output_type": "execute_result"
    }
   ],
   "source": [
    "df.LBXNEPCT.describe()"
   ]
  },
  {
   "cell_type": "code",
   "execution_count": 30,
   "metadata": {},
   "outputs": [
    {
     "data": {
      "text/plain": [
       "count    2256.000000\n",
       "mean       53.924557\n",
       "std        11.360216\n",
       "min         8.400000\n",
       "25%        47.300000\n",
       "50%        54.900000\n",
       "75%        61.625000\n",
       "max        89.200000\n",
       "Name: LBXNEPCT, dtype: float64"
      ]
     },
     "execution_count": 30,
     "metadata": {},
     "output_type": "execute_result"
    }
   ],
   "source": [
    "df_2.LBXNEPCT.describe()"
   ]
  },
  {
   "cell_type": "code",
   "execution_count": 31,
   "metadata": {},
   "outputs": [
    {
     "data": {
      "image/png": "[encoded data removed]",
      "text/plain": [
       "<Figure size 432x576 with 1 Axes>"
      ]
     },
     "metadata": {
      "needs_background": "light"
     },
     "output_type": "display_data"
    }
   ],
   "source": [
    "plt.figure(figsize=(6, 8))\n",
    "plt.boxplot(df_2['LBXNEPCT'])\n",
    "plt.title(\"Porcentagem de neutrófilos segmentados\")\n",
    "plt.show()"
   ]
  },
  {
   "cell_type": "markdown",
   "metadata": {},
   "source": [
    "### LBXEOPCT: Porcentagem de eosinófilo\n",
    "Faixa de valor 0,6 a 8,5"
   ]
  },
  {
   "cell_type": "code",
   "execution_count": 32,
   "metadata": {},
   "outputs": [
    {
     "data": {
      "text/plain": [
       "count    7523.0000\n",
       "mean        2.9747\n",
       "std         2.3330\n",
       "min         0.0000\n",
       "25%         1.5000\n",
       "50%         2.4000\n",
       "75%         3.7000\n",
       "max        29.1000\n",
       "Name: LBXEOPCT, dtype: float64"
      ]
     },
     "execution_count": 32,
     "metadata": {},
     "output_type": "execute_result"
    }
   ],
   "source": [
    "df.LBXEOPCT.describe().round(4)"
   ]
  },
  {
   "cell_type": "code",
   "execution_count": 33,
   "metadata": {},
   "outputs": [
    {
     "data": {
      "text/plain": [
       "count    2256.0000\n",
       "mean        3.0357\n",
       "std         2.4275\n",
       "min         0.0000\n",
       "25%         1.5000\n",
       "50%         2.4000\n",
       "75%         3.8250\n",
       "max        29.1000\n",
       "Name: LBXEOPCT, dtype: float64"
      ]
     },
     "execution_count": 33,
     "metadata": {},
     "output_type": "execute_result"
    }
   ],
   "source": [
    "df_2.LBXEOPCT.describe().round(4)"
   ]
  },
  {
   "cell_type": "markdown",
   "metadata": {},
   "source": [
    "Para este parâmetro existe ocorrência de pacientes que extrapolam tanto os limites superior quanto inferior"
   ]
  },
  {
   "cell_type": "code",
   "execution_count": 34,
   "metadata": {},
   "outputs": [
    {
     "data": {
      "image/png": "[encoded data removed]",
      "text/plain": [
       "<Figure size 432x576 with 1 Axes>"
      ]
     },
     "metadata": {
      "needs_background": "light"
     },
     "output_type": "display_data"
    }
   ],
   "source": [
    "plt.figure(figsize=(6, 8))\n",
    "plt.boxplot(df_2['LBXEOPCT'])\n",
    "plt.title(\"Porcentagem de eosinófilo\")\n",
    "plt.show()"
   ]
  },
  {
   "cell_type": "markdown",
   "metadata": {},
   "source": [
    "### LBXBAPCT: Porcentagem de basófilo\n",
    "Faixa de valor 0,1 a 1,7"
   ]
  },
  {
   "cell_type": "code",
   "execution_count": 35,
   "metadata": {},
   "outputs": [
    {
     "data": {
      "text/plain": [
       "count    7523.000000\n",
       "mean        0.755045\n",
       "std         0.329833\n",
       "min         0.100000\n",
       "25%         0.500000\n",
       "50%         0.700000\n",
       "75%         0.900000\n",
       "max         4.800000\n",
       "Name: LBXBAPCT, dtype: float64"
      ]
     },
     "execution_count": 35,
     "metadata": {},
     "output_type": "execute_result"
    }
   ],
   "source": [
    "df.LBXBAPCT.describe()"
   ]
  },
  {
   "cell_type": "code",
   "execution_count": 36,
   "metadata": {},
   "outputs": [
    {
     "data": {
      "text/plain": [
       "count    2256.000000\n",
       "mean        0.753812\n",
       "std         0.312253\n",
       "min         0.100000\n",
       "25%         0.500000\n",
       "50%         0.700000\n",
       "75%         0.900000\n",
       "max         3.000000\n",
       "Name: LBXBAPCT, dtype: float64"
      ]
     },
     "execution_count": 36,
     "metadata": {},
     "output_type": "execute_result"
    }
   ],
   "source": [
    "df_2.LBXBAPCT.describe()"
   ]
  },
  {
   "cell_type": "markdown",
   "metadata": {},
   "source": [
    "Para este parâmetro existe ocorrência de pacientes que extrapolam o limite superior estabelecido."
   ]
  },
  {
   "cell_type": "code",
   "execution_count": 37,
   "metadata": {},
   "outputs": [
    {
     "data": {
      "image/png": "[encoded data removed]",
      "text/plain": [
       "<Figure size 432x576 with 1 Axes>"
      ]
     },
     "metadata": {
      "needs_background": "light"
     },
     "output_type": "display_data"
    }
   ],
   "source": [
    "plt.figure(figsize=(6, 8))\n",
    "plt.boxplot(df_2['LBXBAPCT'])\n",
    "plt.title(\"Porcentagem de basófilo\")\n",
    "plt.show()"
   ]
  },
  {
   "cell_type": "markdown",
   "metadata": {},
   "source": [
    "### LBXRBCSI: Contagem de glóbulos vermelhos\n",
    "Faixa de valor 3,64 a 5,68"
   ]
  },
  {
   "cell_type": "code",
   "execution_count": 45,
   "metadata": {},
   "outputs": [
    {
     "data": {
      "text/plain": [
       "count    7528.000000\n",
       "mean        4.733653\n",
       "std         0.480037\n",
       "min         2.320000\n",
       "25%         4.420000\n",
       "50%         4.710000\n",
       "75%         5.030000\n",
       "max         7.840000\n",
       "Name: LBXRBCSI, dtype: float64"
      ]
     },
     "execution_count": 45,
     "metadata": {},
     "output_type": "execute_result"
    }
   ],
   "source": [
    "df.LBXRBCSI.describe()"
   ]
  },
  {
   "cell_type": "code",
   "execution_count": 46,
   "metadata": {},
   "outputs": [
    {
     "data": {
      "text/plain": [
       "count    2256.000000\n",
       "mean        4.729725\n",
       "std         0.469877\n",
       "min         2.320000\n",
       "25%         4.420000\n",
       "50%         4.720000\n",
       "75%         5.020000\n",
       "max         6.990000\n",
       "Name: LBXRBCSI, dtype: float64"
      ]
     },
     "execution_count": 46,
     "metadata": {},
     "output_type": "execute_result"
    }
   ],
   "source": [
    "df_2.LBXRBCSI.describe()"
   ]
  },
  {
   "cell_type": "markdown",
   "metadata": {},
   "source": [
    "Para este parâmetro existe ocorrência de pacientes que extrapolam tanto os limites superior quanto inferior."
   ]
  },
  {
   "cell_type": "code",
   "execution_count": 47,
   "metadata": {},
   "outputs": [
    {
     "data": {
      "image/png": "[encoded data removed]",
      "text/plain": [
       "<Figure size 432x576 with 1 Axes>"
      ]
     },
     "metadata": {
      "needs_background": "light"
     },
     "output_type": "display_data"
    }
   ],
   "source": [
    "plt.figure(figsize=(6, 8))\n",
    "plt.boxplot(df_2['LBXRBCSI'])\n",
    "plt.title(\"Contagem de glóbulos vermelhos\")\n",
    "plt.show()"
   ]
  },
  {
   "cell_type": "markdown",
   "metadata": {},
   "source": [
    "### LBXHGB: Hemoglobina\n",
    "Faixa de valor 10,6 a 17,5"
   ]
  },
  {
   "cell_type": "code",
   "execution_count": 48,
   "metadata": {},
   "outputs": [
    {
     "data": {
      "text/plain": [
       "count    7528.000000\n",
       "mean       13.726275\n",
       "std         1.510789\n",
       "min         6.400000\n",
       "25%        12.800000\n",
       "50%        13.700000\n",
       "75%        14.700000\n",
       "max        19.900000\n",
       "Name: LBXHGB, dtype: float64"
      ]
     },
     "execution_count": 48,
     "metadata": {},
     "output_type": "execute_result"
    }
   ],
   "source": [
    "df.LBXHGB.describe()"
   ]
  },
  {
   "cell_type": "code",
   "execution_count": 49,
   "metadata": {},
   "outputs": [
    {
     "data": {
      "text/plain": [
       "count    2256.000000\n",
       "mean       13.730452\n",
       "std         1.504326\n",
       "min         7.500000\n",
       "25%        12.800000\n",
       "50%        13.700000\n",
       "75%        14.700000\n",
       "max        19.900000\n",
       "Name: LBXHGB, dtype: float64"
      ]
     },
     "execution_count": 49,
     "metadata": {},
     "output_type": "execute_result"
    }
   ],
   "source": [
    "df_2.LBXHGB.describe()"
   ]
  },
  {
   "cell_type": "markdown",
   "metadata": {},
   "source": [
    "Para este parâmetro existe ocorrência de pacientes que extrapolam tanto os limites superior quanto inferior."
   ]
  },
  {
   "cell_type": "code",
   "execution_count": 50,
   "metadata": {},
   "outputs": [
    {
     "data": {
      "image/png": "[encoded data removed]",
      "text/plain": [
       "<Figure size 432x576 with 1 Axes>"
      ]
     },
     "metadata": {
      "needs_background": "light"
     },
     "output_type": "display_data"
    }
   ],
   "source": [
    "plt.figure(figsize=(6, 8))\n",
    "plt.boxplot(df_2['LBXHGB'])\n",
    "plt.title(\"Hemoglobina\")\n",
    "plt.show()"
   ]
  },
  {
   "cell_type": "markdown",
   "metadata": {},
   "source": [
    "Um gráfico de dispersão ajuda a observar a distribuição das leituras do parâmetro, a fim de ter noção da concentração de valores no nível mais baixo, nível central e nível superior."
   ]
  },
  {
   "cell_type": "code",
   "execution_count": 51,
   "metadata": {},
   "outputs": [
    {
     "data": {
      "image/png": "[encoded data removed]",
      "text/plain": [
       "<Figure size 432x288 with 1 Axes>"
      ]
     },
     "metadata": {
      "needs_background": "light"
     },
     "output_type": "display_data"
    }
   ],
   "source": [
    "plt.scatter(df_2['SEQN'], df_2['LBXHGB'], marker='.')\n",
    "plt.ylabel('Hemoglobina')\n",
    "plt.show()"
   ]
  },
  {
   "cell_type": "markdown",
   "metadata": {},
   "source": [
    "### LBXHCT: Hematrócrito\n",
    "Faixa de valor 32 a 51,4"
   ]
  },
  {
   "cell_type": "code",
   "execution_count": 52,
   "metadata": {},
   "outputs": [
    {
     "data": {
      "text/plain": [
       "count    7528.000000\n",
       "mean       40.849601\n",
       "std         4.169070\n",
       "min        23.000000\n",
       "25%        38.000000\n",
       "50%        40.700000\n",
       "75%        43.600000\n",
       "max        58.800000\n",
       "Name: LBXHCT, dtype: float64"
      ]
     },
     "execution_count": 52,
     "metadata": {},
     "output_type": "execute_result"
    }
   ],
   "source": [
    "df.LBXHCT.describe()"
   ]
  },
  {
   "cell_type": "code",
   "execution_count": 53,
   "metadata": {},
   "outputs": [
    {
     "data": {
      "text/plain": [
       "count    2256.000000\n",
       "mean       40.857181\n",
       "std         4.167927\n",
       "min        23.000000\n",
       "25%        38.100000\n",
       "50%        40.800000\n",
       "75%        43.700000\n",
       "max        58.800000\n",
       "Name: LBXHCT, dtype: float64"
      ]
     },
     "execution_count": 53,
     "metadata": {},
     "output_type": "execute_result"
    }
   ],
   "source": [
    "df_2.LBXHCT.describe()"
   ]
  },
  {
   "cell_type": "markdown",
   "metadata": {},
   "source": [
    "Para este parâmetro existe ocorrência de pacientes que extrapolam tanto os limites superior quanto inferior."
   ]
  },
  {
   "cell_type": "code",
   "execution_count": 54,
   "metadata": {},
   "outputs": [
    {
     "data": {
      "image/png": "[encoded data removed]",
      "text/plain": [
       "<Figure size 432x576 with 1 Axes>"
      ]
     },
     "metadata": {
      "needs_background": "light"
     },
     "output_type": "display_data"
    }
   ],
   "source": [
    "plt.figure(figsize=(6, 8))\n",
    "plt.boxplot(df_2['LBXHCT'])\n",
    "plt.title(\"Hematócrito\")\n",
    "plt.show()"
   ]
  },
  {
   "cell_type": "markdown",
   "metadata": {},
   "source": [
    "Por se tratar de um parâmetro de alta imporância, um gráfico de dispersão foi gerado a fim de verificar a distribuição dos valores, e avaliar visualmente a concentração em níveis mais baixos, na área central, e no nível superior."
   ]
  },
  {
   "cell_type": "code",
   "execution_count": 55,
   "metadata": {},
   "outputs": [
    {
     "data": {
      "image/png": "[encoded data removed]",
      "text/plain": [
       "<Figure size 432x288 with 1 Axes>"
      ]
     },
     "metadata": {
      "needs_background": "light"
     },
     "output_type": "display_data"
    }
   ],
   "source": [
    "plt.scatter(df_2['SEQN'], df_2['LBXHCT'], marker='.')\n",
    "plt.ylabel('Hematócrito')\n",
    "plt.show()"
   ]
  },
  {
   "cell_type": "markdown",
   "metadata": {},
   "source": [
    "### LBXMCVSI: Volume celular médio (fL)\n",
    "Faixa de valor 74,6 a 99,1"
   ]
  },
  {
   "cell_type": "code",
   "execution_count": 56,
   "metadata": {},
   "outputs": [
    {
     "data": {
      "text/plain": [
       "count    7528.000000\n",
       "mean       86.563470\n",
       "std         6.594074\n",
       "min        35.400000\n",
       "25%        82.900000\n",
       "50%        87.100000\n",
       "75%        90.900000\n",
       "max       114.600000\n",
       "Name: LBXMCVSI, dtype: float64"
      ]
     },
     "execution_count": 56,
     "metadata": {},
     "output_type": "execute_result"
    }
   ],
   "source": [
    "df.LBXMCVSI.describe()"
   ]
  },
  {
   "cell_type": "code",
   "execution_count": 57,
   "metadata": {},
   "outputs": [
    {
     "data": {
      "text/plain": [
       "count    2256.000000\n",
       "mean       86.619902\n",
       "std         6.317923\n",
       "min        50.800000\n",
       "25%        83.000000\n",
       "50%        87.100000\n",
       "75%        90.800000\n",
       "max       113.100000\n",
       "Name: LBXMCVSI, dtype: float64"
      ]
     },
     "execution_count": 57,
     "metadata": {},
     "output_type": "execute_result"
    }
   ],
   "source": [
    "df_2.LBXMCVSI.describe()"
   ]
  },
  {
   "cell_type": "markdown",
   "metadata": {},
   "source": [
    "Para este parâmetro existe ocorrência de pacientes que extrapolam tanto os limites superior quanto inferior."
   ]
  },
  {
   "cell_type": "code",
   "execution_count": 59,
   "metadata": {},
   "outputs": [
    {
     "data": {
      "image/png": "[encoded data removed]",
      "text/plain": [
       "<Figure size 432x576 with 1 Axes>"
      ]
     },
     "metadata": {
      "needs_background": "light"
     },
     "output_type": "display_data"
    }
   ],
   "source": [
    "plt.figure(figsize=(6, 8))\n",
    "plt.boxplot(df_2['LBXMCVSI'])\n",
    "plt.title(\"Volume celular médio\")\n",
    "plt.show()"
   ]
  },
  {
   "cell_type": "markdown",
   "metadata": {},
   "source": [
    "### LBXMCHSI: Hemoglobina celular média (pg)\n",
    "Faixa de valor 24,3 a 34"
   ]
  },
  {
   "cell_type": "code",
   "execution_count": 60,
   "metadata": {},
   "outputs": [
    {
     "data": {
      "text/plain": [
       "count    7528.000000\n",
       "mean       29.074110\n",
       "std         2.538204\n",
       "min        12.400000\n",
       "25%        27.775000\n",
       "50%        29.300000\n",
       "75%        30.700000\n",
       "max        39.200000\n",
       "Name: LBXMCHSI, dtype: float64"
      ]
     },
     "execution_count": 60,
     "metadata": {},
     "output_type": "execute_result"
    }
   ],
   "source": [
    "df.LBXMCHSI.describe()"
   ]
  },
  {
   "cell_type": "code",
   "execution_count": 61,
   "metadata": {},
   "outputs": [
    {
     "data": {
      "text/plain": [
       "count    2256.000000\n",
       "mean       29.094637\n",
       "std         2.429410\n",
       "min        14.300000\n",
       "25%        27.800000\n",
       "50%        29.300000\n",
       "75%        30.700000\n",
       "max        39.200000\n",
       "Name: LBXMCHSI, dtype: float64"
      ]
     },
     "execution_count": 61,
     "metadata": {},
     "output_type": "execute_result"
    }
   ],
   "source": [
    "df_2.LBXMCHSI.describe()"
   ]
  },
  {
   "cell_type": "markdown",
   "metadata": {},
   "source": [
    "Para este parâmetro existe ocorrência de pacientes que extrapolam tanto os limites superior quanto inferior."
   ]
  },
  {
   "cell_type": "code",
   "execution_count": 62,
   "metadata": {},
   "outputs": [
    {
     "data": {
      "image/png": "[encoded data removed]",
      "text/plain": [
       "<Figure size 432x576 with 1 Axes>"
      ]
     },
     "metadata": {
      "needs_background": "light"
     },
     "output_type": "display_data"
    }
   ],
   "source": [
    "plt.figure(figsize=(6, 8))\n",
    "plt.boxplot(df_2['LBXMCHSI'])\n",
    "plt.title(\"Hemoblobina celular média\")\n",
    "plt.show()"
   ]
  },
  {
   "cell_type": "markdown",
   "metadata": {},
   "source": [
    "### LBXMC: Concentração de Hemoglobina Média da Célula. (g/dL)\n",
    "Faixa de valor 32,1 a 35,3"
   ]
  },
  {
   "cell_type": "code",
   "execution_count": 63,
   "metadata": {},
   "outputs": [
    {
     "data": {
      "text/plain": [
       "count    7528.000000\n",
       "mean       33.569075\n",
       "std         0.932988\n",
       "min        25.200000\n",
       "25%        33.000000\n",
       "50%        33.600000\n",
       "75%        34.200000\n",
       "max        38.300000\n",
       "Name: LBXMC, dtype: float64"
      ]
     },
     "execution_count": 63,
     "metadata": {},
     "output_type": "execute_result"
    }
   ],
   "source": [
    "df.LBXMC.describe()"
   ]
  },
  {
   "cell_type": "code",
   "execution_count": 64,
   "metadata": {},
   "outputs": [
    {
     "data": {
      "text/plain": [
       "count    2256.000000\n",
       "mean       33.575532\n",
       "std         0.911092\n",
       "min        28.100000\n",
       "25%        33.000000\n",
       "50%        33.600000\n",
       "75%        34.200000\n",
       "max        38.300000\n",
       "Name: LBXMC, dtype: float64"
      ]
     },
     "execution_count": 64,
     "metadata": {},
     "output_type": "execute_result"
    }
   ],
   "source": [
    "df_2.LBXMC.describe()"
   ]
  },
  {
   "cell_type": "markdown",
   "metadata": {},
   "source": [
    "Para este parâmetro existe ocorrência de pacientes que extrapolam tanto os limites superior quanto inferior."
   ]
  },
  {
   "cell_type": "code",
   "execution_count": 65,
   "metadata": {},
   "outputs": [
    {
     "data": {
      "image/png": "[encoded data removed]",
      "text/plain": [
       "<Figure size 432x576 with 1 Axes>"
      ]
     },
     "metadata": {
      "needs_background": "light"
     },
     "output_type": "display_data"
    }
   ],
   "source": [
    "plt.figure(figsize=(6, 8))\n",
    "plt.boxplot(df_2['LBXMC'])\n",
    "plt.title(\"Concentração de hemoglobina média da célula\")\n",
    "plt.show()"
   ]
  },
  {
   "cell_type": "markdown",
   "metadata": {},
   "source": [
    "### LBXRDW: Largura de distribuição de células vermelhas (%)\n",
    "Faixa de valor 11,4 a 15,3"
   ]
  },
  {
   "cell_type": "code",
   "execution_count": 66,
   "metadata": {},
   "outputs": [
    {
     "data": {
      "text/plain": [
       "count    7528.000000\n",
       "mean       13.775319\n",
       "std         1.271054\n",
       "min        11.300000\n",
       "25%        13.000000\n",
       "50%        13.500000\n",
       "75%        14.200000\n",
       "max        29.200000\n",
       "Name: LBXRDW, dtype: float64"
      ]
     },
     "execution_count": 66,
     "metadata": {},
     "output_type": "execute_result"
    }
   ],
   "source": [
    "df.LBXRDW.describe()"
   ]
  },
  {
   "cell_type": "code",
   "execution_count": 67,
   "metadata": {},
   "outputs": [
    {
     "data": {
      "text/plain": [
       "count    2256.000000\n",
       "mean       13.743440\n",
       "std         1.192181\n",
       "min        11.400000\n",
       "25%        13.000000\n",
       "50%        13.500000\n",
       "75%        14.100000\n",
       "max        23.100000\n",
       "Name: LBXRDW, dtype: float64"
      ]
     },
     "execution_count": 67,
     "metadata": {},
     "output_type": "execute_result"
    }
   ],
   "source": [
    "df_2.LBXRDW.describe()"
   ]
  },
  {
   "cell_type": "markdown",
   "metadata": {},
   "source": [
    "Para este parâmetro existe ocorrência de pacientes que extrapolam o limite superior."
   ]
  },
  {
   "cell_type": "code",
   "execution_count": 68,
   "metadata": {},
   "outputs": [
    {
     "data": {
      "image/png": "[encoded data removed]",
      "text/plain": [
       "<Figure size 432x576 with 1 Axes>"
      ]
     },
     "metadata": {
      "needs_background": "light"
     },
     "output_type": "display_data"
    }
   ],
   "source": [
    "plt.figure(figsize=(6, 8))\n",
    "plt.boxplot(df_2['LBXRDW'])\n",
    "plt.title(\"Largura de distribuição de células vermelhas (%)\")\n",
    "plt.show()"
   ]
  },
  {
   "cell_type": "markdown",
   "metadata": {},
   "source": [
    "### LBXPLTSI: Contagem de plaquetas (1000 células/uL)\n",
    "Faixa de valor 152 a 441"
   ]
  },
  {
   "cell_type": "code",
   "execution_count": 69,
   "metadata": {},
   "outputs": [
    {
     "data": {
      "text/plain": [
       "count    7528.000000\n",
       "mean      259.250133\n",
       "std        70.689106\n",
       "min         8.000000\n",
       "25%       211.000000\n",
       "50%       251.000000\n",
       "75%       300.000000\n",
       "max       818.000000\n",
       "Name: LBXPLTSI, dtype: float64"
      ]
     },
     "execution_count": 69,
     "metadata": {},
     "output_type": "execute_result"
    }
   ],
   "source": [
    "df.LBXPLTSI.describe()"
   ]
  },
  {
   "cell_type": "code",
   "execution_count": 70,
   "metadata": {},
   "outputs": [
    {
     "data": {
      "text/plain": [
       "count    2256.000000\n",
       "mean      260.537234\n",
       "std        70.714864\n",
       "min        61.000000\n",
       "25%       211.000000\n",
       "50%       253.000000\n",
       "75%       302.000000\n",
       "max       696.000000\n",
       "Name: LBXPLTSI, dtype: float64"
      ]
     },
     "execution_count": 70,
     "metadata": {},
     "output_type": "execute_result"
    }
   ],
   "source": [
    "df_2.LBXPLTSI.describe()"
   ]
  },
  {
   "cell_type": "markdown",
   "metadata": {},
   "source": [
    "Para este parâmetro existe ocorrência de pacientes que extrapolam tanto os limites superior quanto inferior."
   ]
  },
  {
   "cell_type": "code",
   "execution_count": 71,
   "metadata": {},
   "outputs": [
    {
     "data": {
      "image/png": "[encoded data removed]",
      "text/plain": [
       "<Figure size 432x576 with 1 Axes>"
      ]
     },
     "metadata": {
      "needs_background": "light"
     },
     "output_type": "display_data"
    }
   ],
   "source": [
    "plt.figure(figsize=(6, 8))\n",
    "plt.boxplot(df_2['LBXPLTSI'])\n",
    "plt.title(\"Contagem de plaquetas (%)\")\n",
    "plt.show()"
   ]
  },
  {
   "cell_type": "markdown",
   "metadata": {},
   "source": [
    "### LBXMPSI: Volume plaquetário médio (fL)\n",
    "Faixa de valor 6,8 a 10,2"
   ]
  },
  {
   "cell_type": "code",
   "execution_count": 72,
   "metadata": {},
   "outputs": [
    {
     "data": {
      "text/plain": [
       "count    7528.000000\n",
       "mean        8.093876\n",
       "std         0.911377\n",
       "min         5.400000\n",
       "25%         7.500000\n",
       "50%         8.000000\n",
       "75%         8.700000\n",
       "max        13.000000\n",
       "Name: LBXMPSI, dtype: float64"
      ]
     },
     "execution_count": 72,
     "metadata": {},
     "output_type": "execute_result"
    }
   ],
   "source": [
    "df.LBXMPSI.describe()"
   ]
  },
  {
   "cell_type": "code",
   "execution_count": 73,
   "metadata": {},
   "outputs": [
    {
     "data": {
      "text/plain": [
       "count    2256.000000\n",
       "mean        8.097828\n",
       "std         0.923134\n",
       "min         5.400000\n",
       "25%         7.400000\n",
       "50%         8.000000\n",
       "75%         8.700000\n",
       "max        11.900000\n",
       "Name: LBXMPSI, dtype: float64"
      ]
     },
     "execution_count": 73,
     "metadata": {},
     "output_type": "execute_result"
    }
   ],
   "source": [
    "df_2.LBXMPSI.describe()"
   ]
  },
  {
   "cell_type": "markdown",
   "metadata": {},
   "source": [
    "Para este parâmetro existe ocorrência de pacientes que extrapolam tanto os limites superior quanto inferior"
   ]
  },
  {
   "cell_type": "code",
   "execution_count": 74,
   "metadata": {},
   "outputs": [
    {
     "data": {
      "image/png": "[encoded data removed]",
      "text/plain": [
       "<Figure size 432x576 with 1 Axes>"
      ]
     },
     "metadata": {
      "needs_background": "light"
     },
     "output_type": "display_data"
    }
   ],
   "source": [
    "plt.figure(figsize=(6, 8))\n",
    "plt.boxplot(df_2['LBXMPSI'])\n",
    "plt.title(\"Volume plaquetário médio\")\n",
    "plt.show()"
   ]
  },
  {
   "cell_type": "code",
   "execution_count": 75,
   "metadata": {},
   "outputs": [],
   "source": [
    "# Avaliar quantos pacientes estão extrapolando cada um dos parâmetros"
   ]
  },
  {
   "cell_type": "code",
   "execution_count": 422,
   "metadata": {},
   "outputs": [
    {
     "name": "stdout",
     "output_type": "stream",
     "text": [
      "(44, 16)\n",
      "(65, 16)\n"
     ]
    },
    {
     "name": "stderr",
     "output_type": "stream",
     "text": [
      "<ipython-input-422-aa5a67ee385b>:7: SettingWithCopyWarning: \n",
      "A value is trying to be set on a copy of a slice from a DataFrame.\n",
      "Try using .loc[row_indexer,col_indexer] = value instead\n",
      "\n",
      "See the caveats in the documentation: https://pandas.pydata.org/pandas-docs/stable/user_guide/indexing.html#returning-a-view-versus-a-copy\n",
      "  selecao1_sup['count1'] = 1\n",
      "<ipython-input-422-aa5a67ee385b>:8: SettingWithCopyWarning: \n",
      "A value is trying to be set on a copy of a slice from a DataFrame.\n",
      "Try using .loc[row_indexer,col_indexer] = value instead\n",
      "\n",
      "See the caveats in the documentation: https://pandas.pydata.org/pandas-docs/stable/user_guide/indexing.html#returning-a-view-versus-a-copy\n",
      "  selecao1_inf['count1'] = 1\n"
     ]
    }
   ],
   "source": [
    "selecao1_sup = df_2[(df_2['LBXWBCSI'] >= 12.9)]\n",
    "selecao1_inf = df_2[(df_2['LBXWBCSI'] <= 3.9)]\n",
    "\n",
    "print(selecao1_sup.shape)\n",
    "print(selecao1_inf.shape)\n",
    "\n",
    "selecao1_sup['count1'] = 1\n",
    "selecao1_inf['count1'] = 1"
   ]
  },
  {
   "cell_type": "code",
   "execution_count": 423,
   "metadata": {},
   "outputs": [
    {
     "name": "stdout",
     "output_type": "stream",
     "text": [
      "(231, 16)\n",
      "(35, 16)\n"
     ]
    },
    {
     "name": "stderr",
     "output_type": "stream",
     "text": [
      "<ipython-input-423-589a1a94f81f>:7: SettingWithCopyWarning: \n",
      "A value is trying to be set on a copy of a slice from a DataFrame.\n",
      "Try using .loc[row_indexer,col_indexer] = value instead\n",
      "\n",
      "See the caveats in the documentation: https://pandas.pydata.org/pandas-docs/stable/user_guide/indexing.html#returning-a-view-versus-a-copy\n",
      "  selecao2_sup['count2'] = 1\n",
      "<ipython-input-423-589a1a94f81f>:8: SettingWithCopyWarning: \n",
      "A value is trying to be set on a copy of a slice from a DataFrame.\n",
      "Try using .loc[row_indexer,col_indexer] = value instead\n",
      "\n",
      "See the caveats in the documentation: https://pandas.pydata.org/pandas-docs/stable/user_guide/indexing.html#returning-a-view-versus-a-copy\n",
      "  selecao2_inf['count2'] = 1\n"
     ]
    }
   ],
   "source": [
    "selecao2_sup = df_2[(df_2['LBXLYPCT'] >= 47.9)]\n",
    "selecao2_inf = df_2[(df_2['LBXLYPCT'] <= 14.1)]\n",
    "\n",
    "print(selecao2_sup.shape)\n",
    "print(selecao2_inf.shape)\n",
    "\n",
    "selecao2_sup['count2'] = 1\n",
    "selecao2_inf['count2'] = 1"
   ]
  },
  {
   "cell_type": "code",
   "execution_count": 424,
   "metadata": {},
   "outputs": [
    {
     "name": "stdout",
     "output_type": "stream",
     "text": [
      "(55, 16)\n",
      "(11, 16)\n"
     ]
    },
    {
     "name": "stderr",
     "output_type": "stream",
     "text": [
      "<ipython-input-424-86e6f61b725a>:7: SettingWithCopyWarning: \n",
      "A value is trying to be set on a copy of a slice from a DataFrame.\n",
      "Try using .loc[row_indexer,col_indexer] = value instead\n",
      "\n",
      "See the caveats in the documentation: https://pandas.pydata.org/pandas-docs/stable/user_guide/indexing.html#returning-a-view-versus-a-copy\n",
      "  selecao3_sup['count3'] = 1\n",
      "<ipython-input-424-86e6f61b725a>:8: SettingWithCopyWarning: \n",
      "A value is trying to be set on a copy of a slice from a DataFrame.\n",
      "Try using .loc[row_indexer,col_indexer] = value instead\n",
      "\n",
      "See the caveats in the documentation: https://pandas.pydata.org/pandas-docs/stable/user_guide/indexing.html#returning-a-view-versus-a-copy\n",
      "  selecao3_inf['count3'] = 1\n"
     ]
    }
   ],
   "source": [
    "selecao3_sup = df_2[(df_2['LBXMOPCT'] >= 13.5)]\n",
    "selecao3_inf = df_2[(df_2['LBXMOPCT'] <= 3.8)]\n",
    "\n",
    "print(selecao3_sup.shape)\n",
    "print(selecao3_inf.shape)\n",
    "\n",
    "selecao3_sup['count3'] = 1\n",
    "selecao3_inf['count3'] = 1"
   ]
  },
  {
   "cell_type": "code",
   "execution_count": 425,
   "metadata": {},
   "outputs": [
    {
     "name": "stdout",
     "output_type": "stream",
     "text": [
      "(20, 16)\n",
      "(214, 16)\n"
     ]
    },
    {
     "name": "stderr",
     "output_type": "stream",
     "text": [
      "<ipython-input-425-5b7e134335a8>:7: SettingWithCopyWarning: \n",
      "A value is trying to be set on a copy of a slice from a DataFrame.\n",
      "Try using .loc[row_indexer,col_indexer] = value instead\n",
      "\n",
      "See the caveats in the documentation: https://pandas.pydata.org/pandas-docs/stable/user_guide/indexing.html#returning-a-view-versus-a-copy\n",
      "  selecao4_sup['count4'] = 1\n",
      "<ipython-input-425-5b7e134335a8>:8: SettingWithCopyWarning: \n",
      "A value is trying to be set on a copy of a slice from a DataFrame.\n",
      "Try using .loc[row_indexer,col_indexer] = value instead\n",
      "\n",
      "See the caveats in the documentation: https://pandas.pydata.org/pandas-docs/stable/user_guide/indexing.html#returning-a-view-versus-a-copy\n",
      "  selecao4_inf['count4'] = 1\n"
     ]
    }
   ],
   "source": [
    "selecao4_sup = df_2[(df_2['LBXNEPCT'] >= 78.1)]\n",
    "selecao4_inf = df_2[(df_2['LBXNEPCT'] <= 37.8)]\n",
    "\n",
    "print(selecao4_sup.shape)\n",
    "print(selecao4_inf.shape)\n",
    "\n",
    "selecao4_sup['count4'] = 1\n",
    "selecao4_inf['count4'] = 1"
   ]
  },
  {
   "cell_type": "code",
   "execution_count": 426,
   "metadata": {},
   "outputs": [
    {
     "name": "stdout",
     "output_type": "stream",
     "text": [
      "(77, 16)\n",
      "(95, 16)\n"
     ]
    },
    {
     "name": "stderr",
     "output_type": "stream",
     "text": [
      "<ipython-input-426-22019eebaf10>:7: SettingWithCopyWarning: \n",
      "A value is trying to be set on a copy of a slice from a DataFrame.\n",
      "Try using .loc[row_indexer,col_indexer] = value instead\n",
      "\n",
      "See the caveats in the documentation: https://pandas.pydata.org/pandas-docs/stable/user_guide/indexing.html#returning-a-view-versus-a-copy\n",
      "  selecao5_sup['count5'] = 1\n",
      "<ipython-input-426-22019eebaf10>:8: SettingWithCopyWarning: \n",
      "A value is trying to be set on a copy of a slice from a DataFrame.\n",
      "Try using .loc[row_indexer,col_indexer] = value instead\n",
      "\n",
      "See the caveats in the documentation: https://pandas.pydata.org/pandas-docs/stable/user_guide/indexing.html#returning-a-view-versus-a-copy\n",
      "  selecao5_inf['count5'] = 1\n"
     ]
    }
   ],
   "source": [
    "selecao5_sup = df_2[(df_2['LBXEOPCT'] >= 8.5)]\n",
    "selecao5_inf = df_2[(df_2['LBXEOPCT'] <= 0.6)]\n",
    "\n",
    "print(selecao5_sup.shape)\n",
    "print(selecao5_inf.shape)\n",
    "\n",
    "selecao5_sup['count5'] = 1\n",
    "selecao5_inf['count5'] = 1"
   ]
  },
  {
   "cell_type": "code",
   "execution_count": 427,
   "metadata": {},
   "outputs": [
    {
     "name": "stdout",
     "output_type": "stream",
     "text": [
      "(26, 16)\n",
      "(4, 16)\n"
     ]
    },
    {
     "name": "stderr",
     "output_type": "stream",
     "text": [
      "<ipython-input-427-b5e60e022cc6>:7: SettingWithCopyWarning: \n",
      "A value is trying to be set on a copy of a slice from a DataFrame.\n",
      "Try using .loc[row_indexer,col_indexer] = value instead\n",
      "\n",
      "See the caveats in the documentation: https://pandas.pydata.org/pandas-docs/stable/user_guide/indexing.html#returning-a-view-versus-a-copy\n",
      "  selecao6_sup['count6'] = 1\n",
      "<ipython-input-427-b5e60e022cc6>:8: SettingWithCopyWarning: \n",
      "A value is trying to be set on a copy of a slice from a DataFrame.\n",
      "Try using .loc[row_indexer,col_indexer] = value instead\n",
      "\n",
      "See the caveats in the documentation: https://pandas.pydata.org/pandas-docs/stable/user_guide/indexing.html#returning-a-view-versus-a-copy\n",
      "  selecao6_inf['count6'] = 1\n"
     ]
    }
   ],
   "source": [
    "selecao6_sup = df_2[(df_2['LBXBAPCT'] >= 1.7)]\n",
    "selecao6_inf = df_2[(df_2['LBXBAPCT'] <= 0.1)]\n",
    "\n",
    "print(selecao6_sup.shape)\n",
    "print(selecao6_inf.shape)\n",
    "\n",
    "selecao6_sup['count6'] = 1\n",
    "selecao6_inf['count6'] = 1"
   ]
  },
  {
   "cell_type": "code",
   "execution_count": 428,
   "metadata": {},
   "outputs": [
    {
     "name": "stdout",
     "output_type": "stream",
     "text": [
      "(26, 16)\n",
      "(25, 16)\n"
     ]
    },
    {
     "name": "stderr",
     "output_type": "stream",
     "text": [
      "<ipython-input-428-d4c985bcd9ec>:7: SettingWithCopyWarning: \n",
      "A value is trying to be set on a copy of a slice from a DataFrame.\n",
      "Try using .loc[row_indexer,col_indexer] = value instead\n",
      "\n",
      "See the caveats in the documentation: https://pandas.pydata.org/pandas-docs/stable/user_guide/indexing.html#returning-a-view-versus-a-copy\n",
      "  selecao7_sup['count7'] = 1\n",
      "<ipython-input-428-d4c985bcd9ec>:8: SettingWithCopyWarning: \n",
      "A value is trying to be set on a copy of a slice from a DataFrame.\n",
      "Try using .loc[row_indexer,col_indexer] = value instead\n",
      "\n",
      "See the caveats in the documentation: https://pandas.pydata.org/pandas-docs/stable/user_guide/indexing.html#returning-a-view-versus-a-copy\n",
      "  selecao7_inf['count7'] = 1\n"
     ]
    }
   ],
   "source": [
    "selecao7_sup = df_2[(df_2['LBXRBCSI'] >= 5.86)]\n",
    "selecao7_inf = df_2[(df_2['LBXRBCSI'] <= 3.64)]\n",
    "\n",
    "print(selecao7_sup.shape)\n",
    "print(selecao7_inf.shape)\n",
    "\n",
    "selecao7_sup['count7'] = 1\n",
    "selecao7_inf['count7'] = 1"
   ]
  },
  {
   "cell_type": "code",
   "execution_count": 429,
   "metadata": {},
   "outputs": [
    {
     "name": "stdout",
     "output_type": "stream",
     "text": [
      "(9, 16)\n",
      "(56, 16)\n"
     ]
    },
    {
     "name": "stderr",
     "output_type": "stream",
     "text": [
      "<ipython-input-429-beabc715b97e>:7: SettingWithCopyWarning: \n",
      "A value is trying to be set on a copy of a slice from a DataFrame.\n",
      "Try using .loc[row_indexer,col_indexer] = value instead\n",
      "\n",
      "See the caveats in the documentation: https://pandas.pydata.org/pandas-docs/stable/user_guide/indexing.html#returning-a-view-versus-a-copy\n",
      "  selecao8_sup['count8'] = 1\n",
      "<ipython-input-429-beabc715b97e>:8: SettingWithCopyWarning: \n",
      "A value is trying to be set on a copy of a slice from a DataFrame.\n",
      "Try using .loc[row_indexer,col_indexer] = value instead\n",
      "\n",
      "See the caveats in the documentation: https://pandas.pydata.org/pandas-docs/stable/user_guide/indexing.html#returning-a-view-versus-a-copy\n",
      "  selecao8_inf['count8'] = 1\n"
     ]
    }
   ],
   "source": [
    "selecao8_sup = df_2[(df_2['LBXHGB'] >= 17.5)]\n",
    "selecao8_inf = df_2[(df_2['LBXHGB'] <= 10.6)]\n",
    "\n",
    "print(selecao8_sup.shape)\n",
    "print(selecao8_inf.shape)\n",
    "\n",
    "selecao8_sup['count8'] = 1\n",
    "selecao8_inf['count8'] = 1"
   ]
  },
  {
   "cell_type": "code",
   "execution_count": 430,
   "metadata": {},
   "outputs": [
    {
     "name": "stdout",
     "output_type": "stream",
     "text": [
      "(16, 16)\n",
      "(38, 16)\n"
     ]
    },
    {
     "name": "stderr",
     "output_type": "stream",
     "text": [
      "<ipython-input-430-0796b2c4ce6a>:7: SettingWithCopyWarning: \n",
      "A value is trying to be set on a copy of a slice from a DataFrame.\n",
      "Try using .loc[row_indexer,col_indexer] = value instead\n",
      "\n",
      "See the caveats in the documentation: https://pandas.pydata.org/pandas-docs/stable/user_guide/indexing.html#returning-a-view-versus-a-copy\n",
      "  selecao9_sup['count9'] = 1\n",
      "<ipython-input-430-0796b2c4ce6a>:8: SettingWithCopyWarning: \n",
      "A value is trying to be set on a copy of a slice from a DataFrame.\n",
      "Try using .loc[row_indexer,col_indexer] = value instead\n",
      "\n",
      "See the caveats in the documentation: https://pandas.pydata.org/pandas-docs/stable/user_guide/indexing.html#returning-a-view-versus-a-copy\n",
      "  selecao9_inf['count9'] = 1\n"
     ]
    }
   ],
   "source": [
    "selecao9_sup = df_2[(df_2['LBXHCT'] >= 51.4)]\n",
    "selecao9_inf = df_2[(df_2['LBXHCT'] <= 32)]\n",
    "\n",
    "print(selecao9_sup.shape)\n",
    "print(selecao9_inf.shape)\n",
    "\n",
    "selecao9_sup['count9'] = 1\n",
    "selecao9_inf['count9'] = 1"
   ]
  },
  {
   "cell_type": "code",
   "execution_count": 431,
   "metadata": {},
   "outputs": [
    {
     "name": "stdout",
     "output_type": "stream",
     "text": [
      "(37, 16)\n",
      "(78, 16)\n"
     ]
    },
    {
     "name": "stderr",
     "output_type": "stream",
     "text": [
      "<ipython-input-431-46eaa9785bd1>:7: SettingWithCopyWarning: \n",
      "A value is trying to be set on a copy of a slice from a DataFrame.\n",
      "Try using .loc[row_indexer,col_indexer] = value instead\n",
      "\n",
      "See the caveats in the documentation: https://pandas.pydata.org/pandas-docs/stable/user_guide/indexing.html#returning-a-view-versus-a-copy\n",
      "  selecao10_sup['count10'] = 1\n",
      "<ipython-input-431-46eaa9785bd1>:8: SettingWithCopyWarning: \n",
      "A value is trying to be set on a copy of a slice from a DataFrame.\n",
      "Try using .loc[row_indexer,col_indexer] = value instead\n",
      "\n",
      "See the caveats in the documentation: https://pandas.pydata.org/pandas-docs/stable/user_guide/indexing.html#returning-a-view-versus-a-copy\n",
      "  selecao10_inf['count10'] = 1\n"
     ]
    }
   ],
   "source": [
    "selecao10_sup = df_2[(df_2['LBXMCVSI'] >= 99.1)]\n",
    "selecao10_inf = df_2[(df_2['LBXMCVSI'] <= 74.6)]\n",
    "\n",
    "print(selecao10_sup.shape)\n",
    "print(selecao10_inf.shape)\n",
    "\n",
    "selecao10_sup['count10'] = 1\n",
    "selecao10_inf['count10'] = 1"
   ]
  },
  {
   "cell_type": "code",
   "execution_count": 432,
   "metadata": {},
   "outputs": [
    {
     "name": "stdout",
     "output_type": "stream",
     "text": [
      "(57, 16)\n",
      "(128, 16)\n"
     ]
    },
    {
     "name": "stderr",
     "output_type": "stream",
     "text": [
      "<ipython-input-432-952ffa64859a>:7: SettingWithCopyWarning: \n",
      "A value is trying to be set on a copy of a slice from a DataFrame.\n",
      "Try using .loc[row_indexer,col_indexer] = value instead\n",
      "\n",
      "See the caveats in the documentation: https://pandas.pydata.org/pandas-docs/stable/user_guide/indexing.html#returning-a-view-versus-a-copy\n",
      "  selecao11_sup['count11'] = 1\n",
      "<ipython-input-432-952ffa64859a>:8: SettingWithCopyWarning: \n",
      "A value is trying to be set on a copy of a slice from a DataFrame.\n",
      "Try using .loc[row_indexer,col_indexer] = value instead\n",
      "\n",
      "See the caveats in the documentation: https://pandas.pydata.org/pandas-docs/stable/user_guide/indexing.html#returning-a-view-versus-a-copy\n",
      "  selecao11_inf['count11'] = 1\n"
     ]
    }
   ],
   "source": [
    "selecao11_sup = df_2[(df_2['LBXMC'] >= 35.3)]\n",
    "selecao11_inf = df_2[(df_2['LBXMC'] <= 32.1)]\n",
    "\n",
    "print(selecao11_sup.shape)\n",
    "print(selecao11_inf.shape)\n",
    "\n",
    "selecao11_sup['count11'] = 1\n",
    "selecao11_inf['count11'] = 1"
   ]
  },
  {
   "cell_type": "code",
   "execution_count": 433,
   "metadata": {},
   "outputs": [
    {
     "name": "stdout",
     "output_type": "stream",
     "text": [
      "(212, 16)\n",
      "(1, 16)\n"
     ]
    },
    {
     "name": "stderr",
     "output_type": "stream",
     "text": [
      "<ipython-input-433-7c00bf5b77a9>:7: SettingWithCopyWarning: \n",
      "A value is trying to be set on a copy of a slice from a DataFrame.\n",
      "Try using .loc[row_indexer,col_indexer] = value instead\n",
      "\n",
      "See the caveats in the documentation: https://pandas.pydata.org/pandas-docs/stable/user_guide/indexing.html#returning-a-view-versus-a-copy\n",
      "  selecao12_sup['count12'] = 1\n",
      "<ipython-input-433-7c00bf5b77a9>:8: SettingWithCopyWarning: \n",
      "A value is trying to be set on a copy of a slice from a DataFrame.\n",
      "Try using .loc[row_indexer,col_indexer] = value instead\n",
      "\n",
      "See the caveats in the documentation: https://pandas.pydata.org/pandas-docs/stable/user_guide/indexing.html#returning-a-view-versus-a-copy\n",
      "  selecao12_inf['count12'] = 1\n"
     ]
    }
   ],
   "source": [
    "selecao12_sup = df_2[(df_2['LBXRDW'] >= 15.3)]\n",
    "selecao12_inf = df_2[(df_2['LBXRDW'] <= 11.4)]\n",
    "\n",
    "print(selecao12_sup.shape)\n",
    "print(selecao12_inf.shape)\n",
    "\n",
    "selecao12_sup['count12'] = 1\n",
    "selecao12_inf['count12'] = 1"
   ]
  },
  {
   "cell_type": "code",
   "execution_count": 434,
   "metadata": {},
   "outputs": [
    {
     "name": "stdout",
     "output_type": "stream",
     "text": [
      "(39, 16)\n",
      "(73, 16)\n"
     ]
    },
    {
     "name": "stderr",
     "output_type": "stream",
     "text": [
      "<ipython-input-434-1d68fa9bd42c>:7: SettingWithCopyWarning: \n",
      "A value is trying to be set on a copy of a slice from a DataFrame.\n",
      "Try using .loc[row_indexer,col_indexer] = value instead\n",
      "\n",
      "See the caveats in the documentation: https://pandas.pydata.org/pandas-docs/stable/user_guide/indexing.html#returning-a-view-versus-a-copy\n",
      "  selecao13_sup['count13'] = 1\n",
      "<ipython-input-434-1d68fa9bd42c>:8: SettingWithCopyWarning: \n",
      "A value is trying to be set on a copy of a slice from a DataFrame.\n",
      "Try using .loc[row_indexer,col_indexer] = value instead\n",
      "\n",
      "See the caveats in the documentation: https://pandas.pydata.org/pandas-docs/stable/user_guide/indexing.html#returning-a-view-versus-a-copy\n",
      "  selecao13_inf['count13'] = 1\n"
     ]
    }
   ],
   "source": [
    "selecao13_sup = df_2[(df_2['LBXPLTSI'] >= 441)]\n",
    "selecao13_inf = df_2[(df_2['LBXPLTSI'] <= 152)]\n",
    "\n",
    "print(selecao13_sup.shape)\n",
    "print(selecao13_inf.shape)\n",
    "\n",
    "selecao13_sup['count13'] = 1\n",
    "selecao13_inf['count13'] = 1"
   ]
  },
  {
   "cell_type": "code",
   "execution_count": 435,
   "metadata": {},
   "outputs": [
    {
     "name": "stdout",
     "output_type": "stream",
     "text": [
      "(58, 16)\n",
      "(169, 16)\n"
     ]
    },
    {
     "name": "stderr",
     "output_type": "stream",
     "text": [
      "<ipython-input-435-c8f7cce8ede6>:7: SettingWithCopyWarning: \n",
      "A value is trying to be set on a copy of a slice from a DataFrame.\n",
      "Try using .loc[row_indexer,col_indexer] = value instead\n",
      "\n",
      "See the caveats in the documentation: https://pandas.pydata.org/pandas-docs/stable/user_guide/indexing.html#returning-a-view-versus-a-copy\n",
      "  selecao14_sup['count14'] = 1\n",
      "<ipython-input-435-c8f7cce8ede6>:8: SettingWithCopyWarning: \n",
      "A value is trying to be set on a copy of a slice from a DataFrame.\n",
      "Try using .loc[row_indexer,col_indexer] = value instead\n",
      "\n",
      "See the caveats in the documentation: https://pandas.pydata.org/pandas-docs/stable/user_guide/indexing.html#returning-a-view-versus-a-copy\n",
      "  selecao14_inf['count14'] = 1\n"
     ]
    }
   ],
   "source": [
    "selecao14_sup = df_2[(df_2['LBXMPSI'] >= 10.2)]\n",
    "selecao14_inf = df_2[(df_2['LBXMPSI'] <= 6.8)]\n",
    "\n",
    "print(selecao14_sup.shape)\n",
    "print(selecao14_inf.shape)\n",
    "\n",
    "selecao14_sup['count14'] = 1\n",
    "selecao14_inf['count14'] = 1"
   ]
  },
  {
   "cell_type": "code",
   "execution_count": 436,
   "metadata": {},
   "outputs": [],
   "source": [
    "# Unificando tabela de pacientes\n",
    "\n",
    "pacientes_fora_limites2 = selecao1_sup.append([selecao1_inf, selecao2_sup, selecao2_inf, selecao3_sup, selecao3_inf,\n",
    "                                     selecao4_sup, selecao4_inf, selecao5_sup, selecao5_inf, selecao6_sup, selecao6_inf,\n",
    "                                     selecao7_sup, selecao7_inf, selecao8_sup, selecao8_inf, selecao9_sup, selecao9_inf,\n",
    "                                     selecao10_sup, selecao10_inf, selecao11_sup, selecao11_inf, selecao12_sup, selecao12_inf,\n",
    "                                     selecao13_sup, selecao13_inf, selecao14_sup, selecao14_inf])"
   ]
  },
  {
   "cell_type": "code",
   "execution_count": 437,
   "metadata": {},
   "outputs": [
    {
     "data": {
      "text/html": [
       "<div>\n",
       "<style scoped>\n",
       "    .dataframe tbody tr th:only-of-type {\n",
       "        vertical-align: middle;\n",
       "    }\n",
       "\n",
       "    .dataframe tbody tr th {\n",
       "        vertical-align: top;\n",
       "    }\n",
       "\n",
       "    .dataframe thead th {\n",
       "        text-align: right;\n",
       "    }\n",
       "</style>\n",
       "<table border=\"1\" class=\"dataframe\">\n",
       "  <thead>\n",
       "    <tr style=\"text-align: right;\">\n",
       "      <th></th>\n",
       "      <th>SEQN</th>\n",
       "      <th>LBXWBCSI</th>\n",
       "      <th>LBXLYPCT</th>\n",
       "      <th>LBXMOPCT</th>\n",
       "      <th>LBXNEPCT</th>\n",
       "      <th>LBXEOPCT</th>\n",
       "      <th>LBXBAPCT</th>\n",
       "      <th>LBXRBCSI</th>\n",
       "      <th>LBXHGB</th>\n",
       "      <th>LBXHCT</th>\n",
       "      <th>...</th>\n",
       "      <th>count5</th>\n",
       "      <th>count6</th>\n",
       "      <th>count7</th>\n",
       "      <th>count8</th>\n",
       "      <th>count9</th>\n",
       "      <th>count10</th>\n",
       "      <th>count11</th>\n",
       "      <th>count12</th>\n",
       "      <th>count13</th>\n",
       "      <th>count14</th>\n",
       "    </tr>\n",
       "  </thead>\n",
       "  <tbody>\n",
       "    <tr>\n",
       "      <th>3595</th>\n",
       "      <td>97671.0</td>\n",
       "      <td>14.8</td>\n",
       "      <td>25.4</td>\n",
       "      <td>7.2</td>\n",
       "      <td>64.3</td>\n",
       "      <td>2.1</td>\n",
       "      <td>1.1</td>\n",
       "      <td>4.41</td>\n",
       "      <td>12.0</td>\n",
       "      <td>35.9</td>\n",
       "      <td>...</td>\n",
       "      <td>NaN</td>\n",
       "      <td>NaN</td>\n",
       "      <td>NaN</td>\n",
       "      <td>NaN</td>\n",
       "      <td>NaN</td>\n",
       "      <td>NaN</td>\n",
       "      <td>NaN</td>\n",
       "      <td>NaN</td>\n",
       "      <td>NaN</td>\n",
       "      <td>NaN</td>\n",
       "    </tr>\n",
       "    <tr>\n",
       "      <th>2856</th>\n",
       "      <td>96857.0</td>\n",
       "      <td>15.7</td>\n",
       "      <td>19.6</td>\n",
       "      <td>18.6</td>\n",
       "      <td>60.1</td>\n",
       "      <td>1.1</td>\n",
       "      <td>0.7</td>\n",
       "      <td>4.07</td>\n",
       "      <td>10.9</td>\n",
       "      <td>32.4</td>\n",
       "      <td>...</td>\n",
       "      <td>NaN</td>\n",
       "      <td>NaN</td>\n",
       "      <td>NaN</td>\n",
       "      <td>NaN</td>\n",
       "      <td>NaN</td>\n",
       "      <td>NaN</td>\n",
       "      <td>NaN</td>\n",
       "      <td>NaN</td>\n",
       "      <td>NaN</td>\n",
       "      <td>NaN</td>\n",
       "    </tr>\n",
       "    <tr>\n",
       "      <th>3977</th>\n",
       "      <td>98108.0</td>\n",
       "      <td>13.2</td>\n",
       "      <td>57.4</td>\n",
       "      <td>6.0</td>\n",
       "      <td>34.9</td>\n",
       "      <td>1.5</td>\n",
       "      <td>0.3</td>\n",
       "      <td>4.73</td>\n",
       "      <td>12.1</td>\n",
       "      <td>36.9</td>\n",
       "      <td>...</td>\n",
       "      <td>NaN</td>\n",
       "      <td>NaN</td>\n",
       "      <td>NaN</td>\n",
       "      <td>NaN</td>\n",
       "      <td>NaN</td>\n",
       "      <td>NaN</td>\n",
       "      <td>NaN</td>\n",
       "      <td>NaN</td>\n",
       "      <td>NaN</td>\n",
       "      <td>NaN</td>\n",
       "    </tr>\n",
       "    <tr>\n",
       "      <th>5562</th>\n",
       "      <td>99838.0</td>\n",
       "      <td>13.0</td>\n",
       "      <td>13.2</td>\n",
       "      <td>7.2</td>\n",
       "      <td>78.5</td>\n",
       "      <td>0.9</td>\n",
       "      <td>0.3</td>\n",
       "      <td>5.05</td>\n",
       "      <td>12.1</td>\n",
       "      <td>37.5</td>\n",
       "      <td>...</td>\n",
       "      <td>NaN</td>\n",
       "      <td>NaN</td>\n",
       "      <td>NaN</td>\n",
       "      <td>NaN</td>\n",
       "      <td>NaN</td>\n",
       "      <td>NaN</td>\n",
       "      <td>NaN</td>\n",
       "      <td>NaN</td>\n",
       "      <td>NaN</td>\n",
       "      <td>NaN</td>\n",
       "    </tr>\n",
       "    <tr>\n",
       "      <th>8149</th>\n",
       "      <td>102714.0</td>\n",
       "      <td>15.7</td>\n",
       "      <td>28.2</td>\n",
       "      <td>6.3</td>\n",
       "      <td>59.2</td>\n",
       "      <td>5.4</td>\n",
       "      <td>1.1</td>\n",
       "      <td>5.12</td>\n",
       "      <td>12.6</td>\n",
       "      <td>39.2</td>\n",
       "      <td>...</td>\n",
       "      <td>NaN</td>\n",
       "      <td>NaN</td>\n",
       "      <td>NaN</td>\n",
       "      <td>NaN</td>\n",
       "      <td>NaN</td>\n",
       "      <td>NaN</td>\n",
       "      <td>NaN</td>\n",
       "      <td>NaN</td>\n",
       "      <td>NaN</td>\n",
       "      <td>NaN</td>\n",
       "    </tr>\n",
       "    <tr>\n",
       "      <th>...</th>\n",
       "      <td>...</td>\n",
       "      <td>...</td>\n",
       "      <td>...</td>\n",
       "      <td>...</td>\n",
       "      <td>...</td>\n",
       "      <td>...</td>\n",
       "      <td>...</td>\n",
       "      <td>...</td>\n",
       "      <td>...</td>\n",
       "      <td>...</td>\n",
       "      <td>...</td>\n",
       "      <td>...</td>\n",
       "      <td>...</td>\n",
       "      <td>...</td>\n",
       "      <td>...</td>\n",
       "      <td>...</td>\n",
       "      <td>...</td>\n",
       "      <td>...</td>\n",
       "      <td>...</td>\n",
       "      <td>...</td>\n",
       "      <td>...</td>\n",
       "    </tr>\n",
       "    <tr>\n",
       "      <th>4670</th>\n",
       "      <td>98861.0</td>\n",
       "      <td>9.0</td>\n",
       "      <td>66.3</td>\n",
       "      <td>6.6</td>\n",
       "      <td>23.9</td>\n",
       "      <td>2.4</td>\n",
       "      <td>0.9</td>\n",
       "      <td>4.33</td>\n",
       "      <td>12.6</td>\n",
       "      <td>36.5</td>\n",
       "      <td>...</td>\n",
       "      <td>NaN</td>\n",
       "      <td>NaN</td>\n",
       "      <td>NaN</td>\n",
       "      <td>NaN</td>\n",
       "      <td>NaN</td>\n",
       "      <td>NaN</td>\n",
       "      <td>NaN</td>\n",
       "      <td>NaN</td>\n",
       "      <td>NaN</td>\n",
       "      <td>1.0</td>\n",
       "    </tr>\n",
       "    <tr>\n",
       "      <th>3175</th>\n",
       "      <td>97207.0</td>\n",
       "      <td>10.2</td>\n",
       "      <td>53.3</td>\n",
       "      <td>8.0</td>\n",
       "      <td>34.4</td>\n",
       "      <td>3.9</td>\n",
       "      <td>0.6</td>\n",
       "      <td>4.88</td>\n",
       "      <td>10.9</td>\n",
       "      <td>34.2</td>\n",
       "      <td>...</td>\n",
       "      <td>NaN</td>\n",
       "      <td>NaN</td>\n",
       "      <td>NaN</td>\n",
       "      <td>NaN</td>\n",
       "      <td>NaN</td>\n",
       "      <td>NaN</td>\n",
       "      <td>NaN</td>\n",
       "      <td>NaN</td>\n",
       "      <td>NaN</td>\n",
       "      <td>1.0</td>\n",
       "    </tr>\n",
       "    <tr>\n",
       "      <th>7493</th>\n",
       "      <td>101978.0</td>\n",
       "      <td>6.3</td>\n",
       "      <td>50.9</td>\n",
       "      <td>7.3</td>\n",
       "      <td>40.8</td>\n",
       "      <td>0.5</td>\n",
       "      <td>0.5</td>\n",
       "      <td>4.19</td>\n",
       "      <td>11.6</td>\n",
       "      <td>34.8</td>\n",
       "      <td>...</td>\n",
       "      <td>NaN</td>\n",
       "      <td>NaN</td>\n",
       "      <td>NaN</td>\n",
       "      <td>NaN</td>\n",
       "      <td>NaN</td>\n",
       "      <td>NaN</td>\n",
       "      <td>NaN</td>\n",
       "      <td>NaN</td>\n",
       "      <td>NaN</td>\n",
       "      <td>1.0</td>\n",
       "    </tr>\n",
       "    <tr>\n",
       "      <th>6198</th>\n",
       "      <td>100543.0</td>\n",
       "      <td>5.1</td>\n",
       "      <td>36.2</td>\n",
       "      <td>8.8</td>\n",
       "      <td>53.1</td>\n",
       "      <td>1.5</td>\n",
       "      <td>0.6</td>\n",
       "      <td>5.02</td>\n",
       "      <td>13.5</td>\n",
       "      <td>40.4</td>\n",
       "      <td>...</td>\n",
       "      <td>NaN</td>\n",
       "      <td>NaN</td>\n",
       "      <td>NaN</td>\n",
       "      <td>NaN</td>\n",
       "      <td>NaN</td>\n",
       "      <td>NaN</td>\n",
       "      <td>NaN</td>\n",
       "      <td>NaN</td>\n",
       "      <td>NaN</td>\n",
       "      <td>1.0</td>\n",
       "    </tr>\n",
       "    <tr>\n",
       "      <th>6427</th>\n",
       "      <td>100803.0</td>\n",
       "      <td>7.7</td>\n",
       "      <td>57.8</td>\n",
       "      <td>5.8</td>\n",
       "      <td>28.8</td>\n",
       "      <td>7.1</td>\n",
       "      <td>0.6</td>\n",
       "      <td>4.54</td>\n",
       "      <td>11.8</td>\n",
       "      <td>34.4</td>\n",
       "      <td>...</td>\n",
       "      <td>NaN</td>\n",
       "      <td>NaN</td>\n",
       "      <td>NaN</td>\n",
       "      <td>NaN</td>\n",
       "      <td>NaN</td>\n",
       "      <td>NaN</td>\n",
       "      <td>NaN</td>\n",
       "      <td>NaN</td>\n",
       "      <td>NaN</td>\n",
       "      <td>1.0</td>\n",
       "    </tr>\n",
       "  </tbody>\n",
       "</table>\n",
       "<p>1899 rows × 30 columns</p>\n",
       "</div>"
      ],
      "text/plain": [
       "          SEQN  LBXWBCSI  LBXLYPCT  LBXMOPCT  LBXNEPCT  LBXEOPCT  LBXBAPCT  \\\n",
       "3595   97671.0      14.8      25.4       7.2      64.3       2.1       1.1   \n",
       "2856   96857.0      15.7      19.6      18.6      60.1       1.1       0.7   \n",
       "3977   98108.0      13.2      57.4       6.0      34.9       1.5       0.3   \n",
       "5562   99838.0      13.0      13.2       7.2      78.5       0.9       0.3   \n",
       "8149  102714.0      15.7      28.2       6.3      59.2       5.4       1.1   \n",
       "...        ...       ...       ...       ...       ...       ...       ...   \n",
       "4670   98861.0       9.0      66.3       6.6      23.9       2.4       0.9   \n",
       "3175   97207.0      10.2      53.3       8.0      34.4       3.9       0.6   \n",
       "7493  101978.0       6.3      50.9       7.3      40.8       0.5       0.5   \n",
       "6198  100543.0       5.1      36.2       8.8      53.1       1.5       0.6   \n",
       "6427  100803.0       7.7      57.8       5.8      28.8       7.1       0.6   \n",
       "\n",
       "      LBXRBCSI  LBXHGB  LBXHCT  ...  count5  count6  count7  count8  count9  \\\n",
       "3595      4.41    12.0    35.9  ...     NaN     NaN     NaN     NaN     NaN   \n",
       "2856      4.07    10.9    32.4  ...     NaN     NaN     NaN     NaN     NaN   \n",
       "3977      4.73    12.1    36.9  ...     NaN     NaN     NaN     NaN     NaN   \n",
       "5562      5.05    12.1    37.5  ...     NaN     NaN     NaN     NaN     NaN   \n",
       "8149      5.12    12.6    39.2  ...     NaN     NaN     NaN     NaN     NaN   \n",
       "...        ...     ...     ...  ...     ...     ...     ...     ...     ...   \n",
       "4670      4.33    12.6    36.5  ...     NaN     NaN     NaN     NaN     NaN   \n",
       "3175      4.88    10.9    34.2  ...     NaN     NaN     NaN     NaN     NaN   \n",
       "7493      4.19    11.6    34.8  ...     NaN     NaN     NaN     NaN     NaN   \n",
       "6198      5.02    13.5    40.4  ...     NaN     NaN     NaN     NaN     NaN   \n",
       "6427      4.54    11.8    34.4  ...     NaN     NaN     NaN     NaN     NaN   \n",
       "\n",
       "      count10  count11  count12  count13  count14  \n",
       "3595      NaN      NaN      NaN      NaN      NaN  \n",
       "2856      NaN      NaN      NaN      NaN      NaN  \n",
       "3977      NaN      NaN      NaN      NaN      NaN  \n",
       "5562      NaN      NaN      NaN      NaN      NaN  \n",
       "8149      NaN      NaN      NaN      NaN      NaN  \n",
       "...       ...      ...      ...      ...      ...  \n",
       "4670      NaN      NaN      NaN      NaN      1.0  \n",
       "3175      NaN      NaN      NaN      NaN      1.0  \n",
       "7493      NaN      NaN      NaN      NaN      1.0  \n",
       "6198      NaN      NaN      NaN      NaN      1.0  \n",
       "6427      NaN      NaN      NaN      NaN      1.0  \n",
       "\n",
       "[1899 rows x 30 columns]"
      ]
     },
     "execution_count": 437,
     "metadata": {},
     "output_type": "execute_result"
    }
   ],
   "source": [
    "pacientes_fora_limites2"
   ]
  },
  {
   "cell_type": "code",
   "execution_count": 438,
   "metadata": {},
   "outputs": [],
   "source": [
    "# Preenchendo o dataframe com valor nulo para realizar soma dos contadores. A partir do contadores será possível realizar a\n",
    "# classificação dos pacientes.\n",
    "\n",
    "pacientes_fora_limites2.fillna(0,inplace=True)"
   ]
  },
  {
   "cell_type": "code",
   "execution_count": 439,
   "metadata": {},
   "outputs": [],
   "source": [
    "# Realizando soma dos contadores para cada paciente.\n",
    "\n",
    "pacientes_fora_limites2['CountFinal'] = (pacientes_fora_limites2['count1'] + pacientes_fora_limites2['count2'] + \n",
    "                                        pacientes_fora_limites2['count3'] +\n",
    "                                        pacientes_fora_limites2['count4'] + pacientes_fora_limites2['count5'] +\n",
    "                                        pacientes_fora_limites2['count6'] + pacientes_fora_limites2['count7'] +\n",
    "                                        pacientes_fora_limites2['count8'] + pacientes_fora_limites2['count9'] +\n",
    "                                        pacientes_fora_limites2['count10'] + pacientes_fora_limites2['count11'] +\n",
    "                                        pacientes_fora_limites2['count12'] + pacientes_fora_limites2['count13'] +\n",
    "                                        pacientes_fora_limites2['count14'])"
   ]
  },
  {
   "cell_type": "code",
   "execution_count": 440,
   "metadata": {},
   "outputs": [
    {
     "data": {
      "text/plain": [
       "1.0    1899\n",
       "Name: CountFinal, dtype: int64"
      ]
     },
     "execution_count": 440,
     "metadata": {},
     "output_type": "execute_result"
    }
   ],
   "source": [
    "pacientes_fora_limites2.CountFinal.value_counts()"
   ]
  },
  {
   "cell_type": "code",
   "execution_count": 441,
   "metadata": {},
   "outputs": [],
   "source": [
    "grupo_classes = pacientes_fora_limites2.groupby('SEQN')"
   ]
  },
  {
   "cell_type": "code",
   "execution_count": 442,
   "metadata": {},
   "outputs": [],
   "source": [
    "df_classes = grupo_classes[['CountFinal']].sum()"
   ]
  },
  {
   "cell_type": "code",
   "execution_count": 443,
   "metadata": {},
   "outputs": [],
   "source": [
    "df_classes['Classificação'] = df_classes.CountFinal.apply(lambda x: 'Baixo Risco' if x ==0 else 'Medio risco' if x <=2 else 'Alto Risco')"
   ]
  },
  {
   "cell_type": "code",
   "execution_count": 444,
   "metadata": {},
   "outputs": [
    {
     "data": {
      "text/html": [
       "<div>\n",
       "<style scoped>\n",
       "    .dataframe tbody tr th:only-of-type {\n",
       "        vertical-align: middle;\n",
       "    }\n",
       "\n",
       "    .dataframe tbody tr th {\n",
       "        vertical-align: top;\n",
       "    }\n",
       "\n",
       "    .dataframe thead th {\n",
       "        text-align: right;\n",
       "    }\n",
       "</style>\n",
       "<table border=\"1\" class=\"dataframe\">\n",
       "  <thead>\n",
       "    <tr style=\"text-align: right;\">\n",
       "      <th></th>\n",
       "      <th>CountFinal</th>\n",
       "      <th>Classificação</th>\n",
       "    </tr>\n",
       "    <tr>\n",
       "      <th>SEQN</th>\n",
       "      <th></th>\n",
       "      <th></th>\n",
       "    </tr>\n",
       "  </thead>\n",
       "  <tbody>\n",
       "    <tr>\n",
       "      <th>93704.0</th>\n",
       "      <td>1.0</td>\n",
       "      <td>Medio risco</td>\n",
       "    </tr>\n",
       "    <tr>\n",
       "      <th>93723.0</th>\n",
       "      <td>1.0</td>\n",
       "      <td>Medio risco</td>\n",
       "    </tr>\n",
       "    <tr>\n",
       "      <th>93730.0</th>\n",
       "      <td>1.0</td>\n",
       "      <td>Medio risco</td>\n",
       "    </tr>\n",
       "    <tr>\n",
       "      <th>93739.0</th>\n",
       "      <td>1.0</td>\n",
       "      <td>Medio risco</td>\n",
       "    </tr>\n",
       "    <tr>\n",
       "      <th>93752.0</th>\n",
       "      <td>1.0</td>\n",
       "      <td>Medio risco</td>\n",
       "    </tr>\n",
       "    <tr>\n",
       "      <th>93795.0</th>\n",
       "      <td>1.0</td>\n",
       "      <td>Medio risco</td>\n",
       "    </tr>\n",
       "    <tr>\n",
       "      <th>93809.0</th>\n",
       "      <td>1.0</td>\n",
       "      <td>Medio risco</td>\n",
       "    </tr>\n",
       "    <tr>\n",
       "      <th>93810.0</th>\n",
       "      <td>2.0</td>\n",
       "      <td>Medio risco</td>\n",
       "    </tr>\n",
       "    <tr>\n",
       "      <th>93847.0</th>\n",
       "      <td>1.0</td>\n",
       "      <td>Medio risco</td>\n",
       "    </tr>\n",
       "    <tr>\n",
       "      <th>93853.0</th>\n",
       "      <td>2.0</td>\n",
       "      <td>Medio risco</td>\n",
       "    </tr>\n",
       "  </tbody>\n",
       "</table>\n",
       "</div>"
      ],
      "text/plain": [
       "         CountFinal Classificação\n",
       "SEQN                             \n",
       "93704.0         1.0   Medio risco\n",
       "93723.0         1.0   Medio risco\n",
       "93730.0         1.0   Medio risco\n",
       "93739.0         1.0   Medio risco\n",
       "93752.0         1.0   Medio risco\n",
       "93795.0         1.0   Medio risco\n",
       "93809.0         1.0   Medio risco\n",
       "93810.0         2.0   Medio risco\n",
       "93847.0         1.0   Medio risco\n",
       "93853.0         2.0   Medio risco"
      ]
     },
     "execution_count": 444,
     "metadata": {},
     "output_type": "execute_result"
    }
   ],
   "source": [
    "df_classes.head(10)"
   ]
  },
  {
   "cell_type": "code",
   "execution_count": 445,
   "metadata": {},
   "outputs": [
    {
     "data": {
      "text/plain": [
       "Medio risco    747\n",
       "Alto Risco     236\n",
       "Name: Classificação, dtype: int64"
      ]
     },
     "execution_count": 445,
     "metadata": {},
     "output_type": "execute_result"
    }
   ],
   "source": [
    "df_classes.Classificação.value_counts()"
   ]
  },
  {
   "cell_type": "code",
   "execution_count": 447,
   "metadata": {},
   "outputs": [
    {
     "data": {
      "text/plain": [
       "(4155, 31)"
      ]
     },
     "execution_count": 447,
     "metadata": {},
     "output_type": "execute_result"
    }
   ],
   "source": [
    "# Realizando análise com a base principal - 2.256 instâncias.\n",
    "\n",
    "df_3 = df_2.copy()\n",
    "df_3 = df_3.append([pacientes_fora_limites2])\n",
    "df_3.fillna(0,inplace=True)"
   ]
  },
  {
   "cell_type": "code",
   "execution_count": 448,
   "metadata": {},
   "outputs": [],
   "source": [
    "grupo_classes_geral = df_3.groupby('SEQN')\n",
    "df_classes_geral = grupo_classes_geral[['CountFinal']].sum()\n",
    "df_classes_geral['CLASSE'] = df_classes_geral.CountFinal.apply(lambda x: 'Baixo Risco' if x == 0 else 'Médio Risco' if x <=2 else 'Alto Risco')"
   ]
  },
  {
   "cell_type": "code",
   "execution_count": 453,
   "metadata": {},
   "outputs": [
    {
     "data": {
      "text/html": [
       "<div>\n",
       "<style scoped>\n",
       "    .dataframe tbody tr th:only-of-type {\n",
       "        vertical-align: middle;\n",
       "    }\n",
       "\n",
       "    .dataframe tbody tr th {\n",
       "        vertical-align: top;\n",
       "    }\n",
       "\n",
       "    .dataframe thead th {\n",
       "        text-align: right;\n",
       "    }\n",
       "</style>\n",
       "<table border=\"1\" class=\"dataframe\">\n",
       "  <thead>\n",
       "    <tr style=\"text-align: right;\">\n",
       "      <th></th>\n",
       "      <th>CountFinal</th>\n",
       "      <th>CLASSE</th>\n",
       "    </tr>\n",
       "    <tr>\n",
       "      <th>SEQN</th>\n",
       "      <th></th>\n",
       "      <th></th>\n",
       "    </tr>\n",
       "  </thead>\n",
       "  <tbody>\n",
       "    <tr>\n",
       "      <th>93704.0</th>\n",
       "      <td>1.0</td>\n",
       "      <td>Médio Risco</td>\n",
       "    </tr>\n",
       "    <tr>\n",
       "      <th>93711.0</th>\n",
       "      <td>0.0</td>\n",
       "      <td>Baixo Risco</td>\n",
       "    </tr>\n",
       "    <tr>\n",
       "      <th>93712.0</th>\n",
       "      <td>0.0</td>\n",
       "      <td>Baixo Risco</td>\n",
       "    </tr>\n",
       "    <tr>\n",
       "      <th>93723.0</th>\n",
       "      <td>1.0</td>\n",
       "      <td>Médio Risco</td>\n",
       "    </tr>\n",
       "    <tr>\n",
       "      <th>93724.0</th>\n",
       "      <td>0.0</td>\n",
       "      <td>Baixo Risco</td>\n",
       "    </tr>\n",
       "    <tr>\n",
       "      <th>93727.0</th>\n",
       "      <td>0.0</td>\n",
       "      <td>Baixo Risco</td>\n",
       "    </tr>\n",
       "    <tr>\n",
       "      <th>93729.0</th>\n",
       "      <td>0.0</td>\n",
       "      <td>Baixo Risco</td>\n",
       "    </tr>\n",
       "  </tbody>\n",
       "</table>\n",
       "</div>"
      ],
      "text/plain": [
       "         CountFinal       CLASSE\n",
       "SEQN                            \n",
       "93704.0         1.0  Médio Risco\n",
       "93711.0         0.0  Baixo Risco\n",
       "93712.0         0.0  Baixo Risco\n",
       "93723.0         1.0  Médio Risco\n",
       "93724.0         0.0  Baixo Risco\n",
       "93727.0         0.0  Baixo Risco\n",
       "93729.0         0.0  Baixo Risco"
      ]
     },
     "execution_count": 453,
     "metadata": {},
     "output_type": "execute_result"
    }
   ],
   "source": [
    "df_classes_geral.head(7)"
   ]
  },
  {
   "cell_type": "code",
   "execution_count": 450,
   "metadata": {},
   "outputs": [
    {
     "data": {
      "text/plain": [
       "Baixo Risco    1273\n",
       "Médio Risco     747\n",
       "Alto Risco      236\n",
       "Name: CLASSE, dtype: int64"
      ]
     },
     "execution_count": 450,
     "metadata": {},
     "output_type": "execute_result"
    }
   ],
   "source": [
    "df_classes_geral.CLASSE.value_counts()"
   ]
  },
  {
   "cell_type": "code",
   "execution_count": null,
   "metadata": {},
   "outputs": [],
   "source": [
    "# Separação dos dataframes dos valores de referência superior e inferior"
   ]
  },
  {
   "cell_type": "code",
   "execution_count": 151,
   "metadata": {},
   "outputs": [
    {
     "data": {
      "text/html": [
       "<div>\n",
       "<style scoped>\n",
       "    .dataframe tbody tr th:only-of-type {\n",
       "        vertical-align: middle;\n",
       "    }\n",
       "\n",
       "    .dataframe tbody tr th {\n",
       "        vertical-align: top;\n",
       "    }\n",
       "\n",
       "    .dataframe thead th {\n",
       "        text-align: right;\n",
       "    }\n",
       "</style>\n",
       "<table border=\"1\" class=\"dataframe\">\n",
       "  <thead>\n",
       "    <tr style=\"text-align: right;\">\n",
       "      <th></th>\n",
       "      <th>LBXWBCSI</th>\n",
       "      <th>LBXLYPCT</th>\n",
       "      <th>LBXMOPCT</th>\n",
       "      <th>LBXNEPCT</th>\n",
       "      <th>LBXEOPCT</th>\n",
       "      <th>LBXBAPCT</th>\n",
       "      <th>LBXRBCSI</th>\n",
       "      <th>LBXHGB</th>\n",
       "      <th>LBXHCT</th>\n",
       "      <th>LBXMCVSI</th>\n",
       "      <th>LBXMCHSI</th>\n",
       "      <th>LBXMC</th>\n",
       "      <th>LBXRDW</th>\n",
       "      <th>LBXPLTSI</th>\n",
       "      <th>LBXMPSI</th>\n",
       "    </tr>\n",
       "  </thead>\n",
       "  <tbody>\n",
       "    <tr>\n",
       "      <th>0</th>\n",
       "      <td>3.9</td>\n",
       "      <td>14.1</td>\n",
       "      <td>3.8</td>\n",
       "      <td>37.8</td>\n",
       "      <td>0.6</td>\n",
       "      <td>0.1</td>\n",
       "      <td>3.64</td>\n",
       "      <td>10.6</td>\n",
       "      <td>32.0</td>\n",
       "      <td>74.6</td>\n",
       "      <td>24.3</td>\n",
       "      <td>32.1</td>\n",
       "      <td>11.4</td>\n",
       "      <td>152</td>\n",
       "      <td>6.8</td>\n",
       "    </tr>\n",
       "    <tr>\n",
       "      <th>1</th>\n",
       "      <td>12.9</td>\n",
       "      <td>47.9</td>\n",
       "      <td>13.5</td>\n",
       "      <td>78.1</td>\n",
       "      <td>8.5</td>\n",
       "      <td>1.7</td>\n",
       "      <td>5.86</td>\n",
       "      <td>17.5</td>\n",
       "      <td>51.4</td>\n",
       "      <td>99.1</td>\n",
       "      <td>34.0</td>\n",
       "      <td>35.3</td>\n",
       "      <td>16.3</td>\n",
       "      <td>441</td>\n",
       "      <td>10.2</td>\n",
       "    </tr>\n",
       "  </tbody>\n",
       "</table>\n",
       "</div>"
      ],
      "text/plain": [
       "   LBXWBCSI  LBXLYPCT  LBXMOPCT  LBXNEPCT  LBXEOPCT  LBXBAPCT  LBXRBCSI  \\\n",
       "0       3.9      14.1       3.8      37.8       0.6       0.1      3.64   \n",
       "1      12.9      47.9      13.5      78.1       8.5       1.7      5.86   \n",
       "\n",
       "   LBXHGB  LBXHCT  LBXMCVSI  LBXMCHSI  LBXMC  LBXRDW  LBXPLTSI  LBXMPSI  \n",
       "0    10.6    32.0      74.6      24.3   32.1    11.4       152      6.8  \n",
       "1    17.5    51.4      99.1      34.0   35.3    16.3       441     10.2  "
      ]
     },
     "execution_count": 151,
     "metadata": {},
     "output_type": "execute_result"
    }
   ],
   "source": [
    "valores_referencia"
   ]
  },
  {
   "cell_type": "code",
   "execution_count": 391,
   "metadata": {},
   "outputs": [
    {
     "data": {
      "text/html": [
       "<div>\n",
       "<style scoped>\n",
       "    .dataframe tbody tr th:only-of-type {\n",
       "        vertical-align: middle;\n",
       "    }\n",
       "\n",
       "    .dataframe tbody tr th {\n",
       "        vertical-align: top;\n",
       "    }\n",
       "\n",
       "    .dataframe thead th {\n",
       "        text-align: right;\n",
       "    }\n",
       "</style>\n",
       "<table border=\"1\" class=\"dataframe\">\n",
       "  <thead>\n",
       "    <tr style=\"text-align: right;\">\n",
       "      <th></th>\n",
       "      <th>SEQN</th>\n",
       "      <th>LBXWBCSI</th>\n",
       "      <th>LBXLYPCT</th>\n",
       "      <th>LBXMOPCT</th>\n",
       "      <th>LBXNEPCT</th>\n",
       "      <th>LBXEOPCT</th>\n",
       "      <th>LBXBAPCT</th>\n",
       "      <th>LBXRBCSI</th>\n",
       "      <th>LBXHGB</th>\n",
       "      <th>LBXHCT</th>\n",
       "      <th>LBXMCVSI</th>\n",
       "      <th>LBXMCHSI</th>\n",
       "      <th>LBXMC</th>\n",
       "      <th>LBXRDW</th>\n",
       "      <th>LBXPLTSI</th>\n",
       "      <th>LBXMPSI</th>\n",
       "    </tr>\n",
       "  </thead>\n",
       "  <tbody>\n",
       "    <tr>\n",
       "      <th>0</th>\n",
       "      <td>0</td>\n",
       "      <td>3.9</td>\n",
       "      <td>14.1</td>\n",
       "      <td>3.8</td>\n",
       "      <td>37.8</td>\n",
       "      <td>0.6</td>\n",
       "      <td>0.1</td>\n",
       "      <td>3.64</td>\n",
       "      <td>10.6</td>\n",
       "      <td>32.0</td>\n",
       "      <td>74.6</td>\n",
       "      <td>24.3</td>\n",
       "      <td>32.1</td>\n",
       "      <td>11.4</td>\n",
       "      <td>152</td>\n",
       "      <td>6.8</td>\n",
       "    </tr>\n",
       "  </tbody>\n",
       "</table>\n",
       "</div>"
      ],
      "text/plain": [
       "   SEQN  LBXWBCSI  LBXLYPCT  LBXMOPCT  LBXNEPCT  LBXEOPCT  LBXBAPCT  LBXRBCSI  \\\n",
       "0     0       3.9      14.1       3.8      37.8       0.6       0.1      3.64   \n",
       "\n",
       "   LBXHGB  LBXHCT  LBXMCVSI  LBXMCHSI  LBXMC  LBXRDW  LBXPLTSI  LBXMPSI  \n",
       "0    10.6    32.0      74.6      24.3   32.1    11.4       152      6.8  "
      ]
     },
     "execution_count": 391,
     "metadata": {},
     "output_type": "execute_result"
    }
   ],
   "source": [
    "valores_referencia_inferior = valores_referencia.drop([1], axis=0)\n",
    "valores_referencia_inferior.insert(0,\"SEQN\",[0],True)\n",
    "valores_referencia_inferior"
   ]
  },
  {
   "cell_type": "code",
   "execution_count": 157,
   "metadata": {},
   "outputs": [
    {
     "data": {
      "text/html": [
       "<div>\n",
       "<style scoped>\n",
       "    .dataframe tbody tr th:only-of-type {\n",
       "        vertical-align: middle;\n",
       "    }\n",
       "\n",
       "    .dataframe tbody tr th {\n",
       "        vertical-align: top;\n",
       "    }\n",
       "\n",
       "    .dataframe thead th {\n",
       "        text-align: right;\n",
       "    }\n",
       "</style>\n",
       "<table border=\"1\" class=\"dataframe\">\n",
       "  <thead>\n",
       "    <tr style=\"text-align: right;\">\n",
       "      <th></th>\n",
       "      <th>SEQN</th>\n",
       "      <th>LBXWBCSI</th>\n",
       "      <th>LBXLYPCT</th>\n",
       "      <th>LBXMOPCT</th>\n",
       "      <th>LBXNEPCT</th>\n",
       "      <th>LBXEOPCT</th>\n",
       "      <th>LBXBAPCT</th>\n",
       "      <th>LBXRBCSI</th>\n",
       "      <th>LBXHGB</th>\n",
       "      <th>LBXHCT</th>\n",
       "      <th>LBXMCVSI</th>\n",
       "      <th>LBXMCHSI</th>\n",
       "      <th>LBXMC</th>\n",
       "      <th>LBXRDW</th>\n",
       "      <th>LBXPLTSI</th>\n",
       "      <th>LBXMPSI</th>\n",
       "    </tr>\n",
       "  </thead>\n",
       "  <tbody>\n",
       "    <tr>\n",
       "      <th>1</th>\n",
       "      <td>0</td>\n",
       "      <td>12.9</td>\n",
       "      <td>47.9</td>\n",
       "      <td>13.5</td>\n",
       "      <td>78.1</td>\n",
       "      <td>8.5</td>\n",
       "      <td>1.7</td>\n",
       "      <td>5.86</td>\n",
       "      <td>17.5</td>\n",
       "      <td>51.4</td>\n",
       "      <td>99.1</td>\n",
       "      <td>34.0</td>\n",
       "      <td>35.3</td>\n",
       "      <td>16.3</td>\n",
       "      <td>441</td>\n",
       "      <td>10.2</td>\n",
       "    </tr>\n",
       "  </tbody>\n",
       "</table>\n",
       "</div>"
      ],
      "text/plain": [
       "   SEQN  LBXWBCSI  LBXLYPCT  LBXMOPCT  LBXNEPCT  LBXEOPCT  LBXBAPCT  LBXRBCSI  \\\n",
       "1     0      12.9      47.9      13.5      78.1       8.5       1.7      5.86   \n",
       "\n",
       "   LBXHGB  LBXHCT  LBXMCVSI  LBXMCHSI  LBXMC  LBXRDW  LBXPLTSI  LBXMPSI  \n",
       "1    17.5    51.4      99.1      34.0   35.3    16.3       441     10.2  "
      ]
     },
     "execution_count": 157,
     "metadata": {},
     "output_type": "execute_result"
    }
   ],
   "source": [
    "valores_referencia_superior = valores_referencia.drop([0], axis=0)\n",
    "valores_referencia_superior.insert(0,\"SEQN\",[0],True)\n",
    "valores_referencia_superior"
   ]
  },
  {
   "cell_type": "code",
   "execution_count": 385,
   "metadata": {},
   "outputs": [
    {
     "data": {
      "text/html": [
       "<div>\n",
       "<style scoped>\n",
       "    .dataframe tbody tr th:only-of-type {\n",
       "        vertical-align: middle;\n",
       "    }\n",
       "\n",
       "    .dataframe tbody tr th {\n",
       "        vertical-align: top;\n",
       "    }\n",
       "\n",
       "    .dataframe thead th {\n",
       "        text-align: right;\n",
       "    }\n",
       "</style>\n",
       "<table border=\"1\" class=\"dataframe\">\n",
       "  <thead>\n",
       "    <tr style=\"text-align: right;\">\n",
       "      <th></th>\n",
       "      <th>SEQN</th>\n",
       "      <th>LBXWBCSI</th>\n",
       "      <th>LBXLYPCT</th>\n",
       "      <th>LBXMOPCT</th>\n",
       "      <th>LBXNEPCT</th>\n",
       "      <th>LBXEOPCT</th>\n",
       "      <th>LBXBAPCT</th>\n",
       "      <th>LBXRBCSI</th>\n",
       "      <th>LBXHGB</th>\n",
       "      <th>LBXHCT</th>\n",
       "      <th>LBXMCVSI</th>\n",
       "      <th>LBXMCHSI</th>\n",
       "      <th>LBXMC</th>\n",
       "      <th>LBXRDW</th>\n",
       "      <th>LBXPLTSI</th>\n",
       "      <th>LBXMPSI</th>\n",
       "    </tr>\n",
       "  </thead>\n",
       "  <tbody>\n",
       "    <tr>\n",
       "      <th>7169</th>\n",
       "      <td>101618.0</td>\n",
       "      <td>6.8</td>\n",
       "      <td>36.1</td>\n",
       "      <td>10.9</td>\n",
       "      <td>47.2</td>\n",
       "      <td>4.9</td>\n",
       "      <td>1.0</td>\n",
       "      <td>4.50</td>\n",
       "      <td>12.7</td>\n",
       "      <td>36.8</td>\n",
       "      <td>81.7</td>\n",
       "      <td>28.2</td>\n",
       "      <td>34.4</td>\n",
       "      <td>13.2</td>\n",
       "      <td>305.0</td>\n",
       "      <td>8.9</td>\n",
       "    </tr>\n",
       "    <tr>\n",
       "      <th>8097</th>\n",
       "      <td>102659.0</td>\n",
       "      <td>5.9</td>\n",
       "      <td>33.7</td>\n",
       "      <td>12.9</td>\n",
       "      <td>47.2</td>\n",
       "      <td>5.4</td>\n",
       "      <td>0.9</td>\n",
       "      <td>4.10</td>\n",
       "      <td>13.1</td>\n",
       "      <td>38.2</td>\n",
       "      <td>93.1</td>\n",
       "      <td>31.9</td>\n",
       "      <td>34.3</td>\n",
       "      <td>13.0</td>\n",
       "      <td>226.0</td>\n",
       "      <td>6.6</td>\n",
       "    </tr>\n",
       "    <tr>\n",
       "      <th>2058</th>\n",
       "      <td>95969.0</td>\n",
       "      <td>6.2</td>\n",
       "      <td>43.9</td>\n",
       "      <td>8.1</td>\n",
       "      <td>44.6</td>\n",
       "      <td>3.2</td>\n",
       "      <td>0.3</td>\n",
       "      <td>4.98</td>\n",
       "      <td>14.9</td>\n",
       "      <td>43.3</td>\n",
       "      <td>87.1</td>\n",
       "      <td>30.0</td>\n",
       "      <td>34.4</td>\n",
       "      <td>13.7</td>\n",
       "      <td>212.0</td>\n",
       "      <td>8.4</td>\n",
       "    </tr>\n",
       "    <tr>\n",
       "      <th>7937</th>\n",
       "      <td>102478.0</td>\n",
       "      <td>4.3</td>\n",
       "      <td>43.4</td>\n",
       "      <td>11.3</td>\n",
       "      <td>43.4</td>\n",
       "      <td>1.5</td>\n",
       "      <td>0.5</td>\n",
       "      <td>5.04</td>\n",
       "      <td>14.6</td>\n",
       "      <td>43.6</td>\n",
       "      <td>86.6</td>\n",
       "      <td>29.0</td>\n",
       "      <td>33.4</td>\n",
       "      <td>14.1</td>\n",
       "      <td>213.0</td>\n",
       "      <td>7.8</td>\n",
       "    </tr>\n",
       "    <tr>\n",
       "      <th>3595</th>\n",
       "      <td>97671.0</td>\n",
       "      <td>14.8</td>\n",
       "      <td>25.4</td>\n",
       "      <td>7.2</td>\n",
       "      <td>64.3</td>\n",
       "      <td>2.1</td>\n",
       "      <td>1.1</td>\n",
       "      <td>4.41</td>\n",
       "      <td>12.0</td>\n",
       "      <td>35.9</td>\n",
       "      <td>81.5</td>\n",
       "      <td>27.3</td>\n",
       "      <td>33.6</td>\n",
       "      <td>15.7</td>\n",
       "      <td>360.0</td>\n",
       "      <td>7.3</td>\n",
       "    </tr>\n",
       "    <tr>\n",
       "      <th>...</th>\n",
       "      <td>...</td>\n",
       "      <td>...</td>\n",
       "      <td>...</td>\n",
       "      <td>...</td>\n",
       "      <td>...</td>\n",
       "      <td>...</td>\n",
       "      <td>...</td>\n",
       "      <td>...</td>\n",
       "      <td>...</td>\n",
       "      <td>...</td>\n",
       "      <td>...</td>\n",
       "      <td>...</td>\n",
       "      <td>...</td>\n",
       "      <td>...</td>\n",
       "      <td>...</td>\n",
       "      <td>...</td>\n",
       "    </tr>\n",
       "    <tr>\n",
       "      <th>6427</th>\n",
       "      <td>100803.0</td>\n",
       "      <td>7.7</td>\n",
       "      <td>57.8</td>\n",
       "      <td>5.8</td>\n",
       "      <td>28.8</td>\n",
       "      <td>7.1</td>\n",
       "      <td>0.6</td>\n",
       "      <td>4.54</td>\n",
       "      <td>11.8</td>\n",
       "      <td>34.4</td>\n",
       "      <td>75.8</td>\n",
       "      <td>26.0</td>\n",
       "      <td>34.3</td>\n",
       "      <td>12.7</td>\n",
       "      <td>244.0</td>\n",
       "      <td>6.8</td>\n",
       "    </tr>\n",
       "    <tr>\n",
       "      <th>2409</th>\n",
       "      <td>96358.0</td>\n",
       "      <td>8.4</td>\n",
       "      <td>42.0</td>\n",
       "      <td>4.8</td>\n",
       "      <td>50.1</td>\n",
       "      <td>2.0</td>\n",
       "      <td>1.2</td>\n",
       "      <td>4.88</td>\n",
       "      <td>14.0</td>\n",
       "      <td>41.3</td>\n",
       "      <td>84.7</td>\n",
       "      <td>28.8</td>\n",
       "      <td>34.0</td>\n",
       "      <td>13.5</td>\n",
       "      <td>227.0</td>\n",
       "      <td>8.0</td>\n",
       "    </tr>\n",
       "    <tr>\n",
       "      <th>644</th>\n",
       "      <td>94411.0</td>\n",
       "      <td>6.8</td>\n",
       "      <td>50.8</td>\n",
       "      <td>8.6</td>\n",
       "      <td>39.5</td>\n",
       "      <td>0.9</td>\n",
       "      <td>0.3</td>\n",
       "      <td>5.21</td>\n",
       "      <td>15.3</td>\n",
       "      <td>45.0</td>\n",
       "      <td>86.5</td>\n",
       "      <td>29.4</td>\n",
       "      <td>34.1</td>\n",
       "      <td>14.1</td>\n",
       "      <td>247.0</td>\n",
       "      <td>7.8</td>\n",
       "    </tr>\n",
       "    <tr>\n",
       "      <th>1413</th>\n",
       "      <td>95261.0</td>\n",
       "      <td>11.5</td>\n",
       "      <td>28.8</td>\n",
       "      <td>7.6</td>\n",
       "      <td>62.2</td>\n",
       "      <td>0.5</td>\n",
       "      <td>1.1</td>\n",
       "      <td>5.07</td>\n",
       "      <td>14.4</td>\n",
       "      <td>43.4</td>\n",
       "      <td>85.7</td>\n",
       "      <td>28.5</td>\n",
       "      <td>33.3</td>\n",
       "      <td>13.7</td>\n",
       "      <td>319.0</td>\n",
       "      <td>8.4</td>\n",
       "    </tr>\n",
       "    <tr>\n",
       "      <th>3382</th>\n",
       "      <td>97428.0</td>\n",
       "      <td>7.3</td>\n",
       "      <td>17.2</td>\n",
       "      <td>7.7</td>\n",
       "      <td>74.0</td>\n",
       "      <td>0.2</td>\n",
       "      <td>1.0</td>\n",
       "      <td>5.35</td>\n",
       "      <td>15.5</td>\n",
       "      <td>45.6</td>\n",
       "      <td>85.2</td>\n",
       "      <td>28.9</td>\n",
       "      <td>33.9</td>\n",
       "      <td>13.9</td>\n",
       "      <td>146.0</td>\n",
       "      <td>8.0</td>\n",
       "    </tr>\n",
       "  </tbody>\n",
       "</table>\n",
       "<p>2256 rows × 16 columns</p>\n",
       "</div>"
      ],
      "text/plain": [
       "          SEQN  LBXWBCSI  LBXLYPCT  LBXMOPCT  LBXNEPCT  LBXEOPCT  LBXBAPCT  \\\n",
       "7169  101618.0       6.8      36.1      10.9      47.2       4.9       1.0   \n",
       "8097  102659.0       5.9      33.7      12.9      47.2       5.4       0.9   \n",
       "2058   95969.0       6.2      43.9       8.1      44.6       3.2       0.3   \n",
       "7937  102478.0       4.3      43.4      11.3      43.4       1.5       0.5   \n",
       "3595   97671.0      14.8      25.4       7.2      64.3       2.1       1.1   \n",
       "...        ...       ...       ...       ...       ...       ...       ...   \n",
       "6427  100803.0       7.7      57.8       5.8      28.8       7.1       0.6   \n",
       "2409   96358.0       8.4      42.0       4.8      50.1       2.0       1.2   \n",
       "644    94411.0       6.8      50.8       8.6      39.5       0.9       0.3   \n",
       "1413   95261.0      11.5      28.8       7.6      62.2       0.5       1.1   \n",
       "3382   97428.0       7.3      17.2       7.7      74.0       0.2       1.0   \n",
       "\n",
       "      LBXRBCSI  LBXHGB  LBXHCT  LBXMCVSI  LBXMCHSI  LBXMC  LBXRDW  LBXPLTSI  \\\n",
       "7169      4.50    12.7    36.8      81.7      28.2   34.4    13.2     305.0   \n",
       "8097      4.10    13.1    38.2      93.1      31.9   34.3    13.0     226.0   \n",
       "2058      4.98    14.9    43.3      87.1      30.0   34.4    13.7     212.0   \n",
       "7937      5.04    14.6    43.6      86.6      29.0   33.4    14.1     213.0   \n",
       "3595      4.41    12.0    35.9      81.5      27.3   33.6    15.7     360.0   \n",
       "...        ...     ...     ...       ...       ...    ...     ...       ...   \n",
       "6427      4.54    11.8    34.4      75.8      26.0   34.3    12.7     244.0   \n",
       "2409      4.88    14.0    41.3      84.7      28.8   34.0    13.5     227.0   \n",
       "644       5.21    15.3    45.0      86.5      29.4   34.1    14.1     247.0   \n",
       "1413      5.07    14.4    43.4      85.7      28.5   33.3    13.7     319.0   \n",
       "3382      5.35    15.5    45.6      85.2      28.9   33.9    13.9     146.0   \n",
       "\n",
       "      LBXMPSI  \n",
       "7169      8.9  \n",
       "8097      6.6  \n",
       "2058      8.4  \n",
       "7937      7.8  \n",
       "3595      7.3  \n",
       "...       ...  \n",
       "6427      6.8  \n",
       "2409      8.0  \n",
       "644       7.8  \n",
       "1413      8.4  \n",
       "3382      8.0  \n",
       "\n",
       "[2256 rows x 16 columns]"
      ]
     },
     "execution_count": 385,
     "metadata": {},
     "output_type": "execute_result"
    }
   ],
   "source": [
    "df_4 = df_2.copy()\n",
    "df_4"
   ]
  },
  {
   "cell_type": "code",
   "execution_count": 236,
   "metadata": {},
   "outputs": [
    {
     "ename": "IndexError",
     "evalue": "index 16 is out of bounds for axis 0 with size 16",
     "output_type": "error",
     "traceback": [
      "\u001b[1;31m---------------------------------------------------------------------------\u001b[0m",
      "\u001b[1;31mIndexError\u001b[0m                                Traceback (most recent call last)",
      "\u001b[1;32m<ipython-input-236-767027df280d>\u001b[0m in \u001b[0;36m<module>\u001b[1;34m\u001b[0m\n\u001b[0;32m      4\u001b[0m \u001b[1;32mfor\u001b[0m \u001b[0mi\u001b[0m \u001b[1;32min\u001b[0m \u001b[0mrange\u001b[0m\u001b[1;33m(\u001b[0m\u001b[0mdf_3\u001b[0m\u001b[1;33m.\u001b[0m\u001b[0mshape\u001b[0m\u001b[1;33m[\u001b[0m\u001b[1;36m0\u001b[0m\u001b[1;33m]\u001b[0m\u001b[1;33m)\u001b[0m\u001b[1;33m:\u001b[0m\u001b[1;33m\u001b[0m\u001b[1;33m\u001b[0m\u001b[0m\n\u001b[0;32m      5\u001b[0m     \u001b[1;32mfor\u001b[0m \u001b[0mj\u001b[0m \u001b[1;32min\u001b[0m \u001b[0mrange\u001b[0m\u001b[1;33m(\u001b[0m\u001b[0mdf_3\u001b[0m\u001b[1;33m.\u001b[0m\u001b[0mshape\u001b[0m\u001b[1;33m[\u001b[0m\u001b[1;36m1\u001b[0m\u001b[1;33m]\u001b[0m\u001b[1;33m)\u001b[0m\u001b[1;33m:\u001b[0m\u001b[1;33m\u001b[0m\u001b[1;33m\u001b[0m\u001b[0m\n\u001b[1;32m----> 6\u001b[1;33m         \u001b[1;32mif\u001b[0m \u001b[0mdf_3\u001b[0m\u001b[1;33m.\u001b[0m\u001b[0miat\u001b[0m\u001b[1;33m[\u001b[0m\u001b[0mi\u001b[0m\u001b[1;33m,\u001b[0m\u001b[0mj\u001b[0m\u001b[1;33m]\u001b[0m \u001b[1;33m<=\u001b[0m \u001b[0mvalores_referencia_inferior\u001b[0m\u001b[1;33m.\u001b[0m\u001b[0miat\u001b[0m\u001b[1;33m[\u001b[0m\u001b[1;36m0\u001b[0m\u001b[1;33m,\u001b[0m\u001b[0mj\u001b[0m\u001b[1;33m]\u001b[0m\u001b[1;33m:\u001b[0m\u001b[1;33m\u001b[0m\u001b[1;33m\u001b[0m\u001b[0m\n\u001b[0m\u001b[0;32m      7\u001b[0m             \u001b[0mcount_inferior\u001b[0m \u001b[1;33m=\u001b[0m \u001b[0mcount_inferior\u001b[0m \u001b[1;33m+\u001b[0m \u001b[1;36m1\u001b[0m\u001b[1;33m\u001b[0m\u001b[1;33m\u001b[0m\u001b[0m\n\u001b[0;32m      8\u001b[0m             \u001b[0mdf_3\u001b[0m\u001b[1;33m.\u001b[0m\u001b[0miat\u001b[0m\u001b[1;33m[\u001b[0m\u001b[0mi\u001b[0m\u001b[1;33m,\u001b[0m\u001b[0mj\u001b[0m\u001b[1;33m]\u001b[0m \u001b[1;33m>\u001b[0m \u001b[0mvalores_referencia_superior\u001b[0m\u001b[1;33m.\u001b[0m\u001b[0miat\u001b[0m\u001b[1;33m[\u001b[0m\u001b[1;36m0\u001b[0m\u001b[1;33m,\u001b[0m\u001b[0mj\u001b[0m\u001b[1;33m]\u001b[0m\u001b[1;33m\u001b[0m\u001b[1;33m\u001b[0m\u001b[0m\n",
      "\u001b[1;32m~\\anaconda3\\lib\\site-packages\\pandas\\core\\indexing.py\u001b[0m in \u001b[0;36m__getitem__\u001b[1;34m(self, key)\u001b[0m\n\u001b[0;32m   2025\u001b[0m \u001b[1;33m\u001b[0m\u001b[0m\n\u001b[0;32m   2026\u001b[0m         \u001b[0mkey\u001b[0m \u001b[1;33m=\u001b[0m \u001b[0mself\u001b[0m\u001b[1;33m.\u001b[0m\u001b[0m_convert_key\u001b[0m\u001b[1;33m(\u001b[0m\u001b[0mkey\u001b[0m\u001b[1;33m)\u001b[0m\u001b[1;33m\u001b[0m\u001b[1;33m\u001b[0m\u001b[0m\n\u001b[1;32m-> 2027\u001b[1;33m         \u001b[1;32mreturn\u001b[0m \u001b[0mself\u001b[0m\u001b[1;33m.\u001b[0m\u001b[0mobj\u001b[0m\u001b[1;33m.\u001b[0m\u001b[0m_get_value\u001b[0m\u001b[1;33m(\u001b[0m\u001b[1;33m*\u001b[0m\u001b[0mkey\u001b[0m\u001b[1;33m,\u001b[0m \u001b[0mtakeable\u001b[0m\u001b[1;33m=\u001b[0m\u001b[0mself\u001b[0m\u001b[1;33m.\u001b[0m\u001b[0m_takeable\u001b[0m\u001b[1;33m)\u001b[0m\u001b[1;33m\u001b[0m\u001b[1;33m\u001b[0m\u001b[0m\n\u001b[0m\u001b[0;32m   2028\u001b[0m \u001b[1;33m\u001b[0m\u001b[0m\n\u001b[0;32m   2029\u001b[0m     \u001b[1;32mdef\u001b[0m \u001b[0m__setitem__\u001b[0m\u001b[1;33m(\u001b[0m\u001b[0mself\u001b[0m\u001b[1;33m,\u001b[0m \u001b[0mkey\u001b[0m\u001b[1;33m,\u001b[0m \u001b[0mvalue\u001b[0m\u001b[1;33m)\u001b[0m\u001b[1;33m:\u001b[0m\u001b[1;33m\u001b[0m\u001b[1;33m\u001b[0m\u001b[0m\n",
      "\u001b[1;32m~\\anaconda3\\lib\\site-packages\\pandas\\core\\frame.py\u001b[0m in \u001b[0;36m_get_value\u001b[1;34m(self, index, col, takeable)\u001b[0m\n\u001b[0;32m   3001\u001b[0m         \"\"\"\n\u001b[0;32m   3002\u001b[0m         \u001b[1;32mif\u001b[0m \u001b[0mtakeable\u001b[0m\u001b[1;33m:\u001b[0m\u001b[1;33m\u001b[0m\u001b[1;33m\u001b[0m\u001b[0m\n\u001b[1;32m-> 3003\u001b[1;33m             \u001b[0mseries\u001b[0m \u001b[1;33m=\u001b[0m \u001b[0mself\u001b[0m\u001b[1;33m.\u001b[0m\u001b[0m_ixs\u001b[0m\u001b[1;33m(\u001b[0m\u001b[0mcol\u001b[0m\u001b[1;33m,\u001b[0m \u001b[0maxis\u001b[0m\u001b[1;33m=\u001b[0m\u001b[1;36m1\u001b[0m\u001b[1;33m)\u001b[0m\u001b[1;33m\u001b[0m\u001b[1;33m\u001b[0m\u001b[0m\n\u001b[0m\u001b[0;32m   3004\u001b[0m             \u001b[1;32mreturn\u001b[0m \u001b[0mseries\u001b[0m\u001b[1;33m.\u001b[0m\u001b[0m_values\u001b[0m\u001b[1;33m[\u001b[0m\u001b[0mindex\u001b[0m\u001b[1;33m]\u001b[0m\u001b[1;33m\u001b[0m\u001b[1;33m\u001b[0m\u001b[0m\n\u001b[0;32m   3005\u001b[0m \u001b[1;33m\u001b[0m\u001b[0m\n",
      "\u001b[1;32m~\\anaconda3\\lib\\site-packages\\pandas\\core\\frame.py\u001b[0m in \u001b[0;36m_ixs\u001b[1;34m(self, i, axis)\u001b[0m\n\u001b[0;32m   2842\u001b[0m         \u001b[1;31m# icol\u001b[0m\u001b[1;33m\u001b[0m\u001b[1;33m\u001b[0m\u001b[1;33m\u001b[0m\u001b[0m\n\u001b[0;32m   2843\u001b[0m         \u001b[1;32melse\u001b[0m\u001b[1;33m:\u001b[0m\u001b[1;33m\u001b[0m\u001b[1;33m\u001b[0m\u001b[0m\n\u001b[1;32m-> 2844\u001b[1;33m             \u001b[0mlabel\u001b[0m \u001b[1;33m=\u001b[0m \u001b[0mself\u001b[0m\u001b[1;33m.\u001b[0m\u001b[0mcolumns\u001b[0m\u001b[1;33m[\u001b[0m\u001b[0mi\u001b[0m\u001b[1;33m]\u001b[0m\u001b[1;33m\u001b[0m\u001b[1;33m\u001b[0m\u001b[0m\n\u001b[0m\u001b[0;32m   2845\u001b[0m \u001b[1;33m\u001b[0m\u001b[0m\n\u001b[0;32m   2846\u001b[0m             \u001b[0mvalues\u001b[0m \u001b[1;33m=\u001b[0m \u001b[0mself\u001b[0m\u001b[1;33m.\u001b[0m\u001b[0m_mgr\u001b[0m\u001b[1;33m.\u001b[0m\u001b[0miget\u001b[0m\u001b[1;33m(\u001b[0m\u001b[0mi\u001b[0m\u001b[1;33m)\u001b[0m\u001b[1;33m\u001b[0m\u001b[1;33m\u001b[0m\u001b[0m\n",
      "\u001b[1;32m~\\anaconda3\\lib\\site-packages\\pandas\\core\\indexes\\base.py\u001b[0m in \u001b[0;36m__getitem__\u001b[1;34m(self, key)\u001b[0m\n\u001b[0;32m   4099\u001b[0m         \u001b[1;32mif\u001b[0m \u001b[0mis_scalar\u001b[0m\u001b[1;33m(\u001b[0m\u001b[0mkey\u001b[0m\u001b[1;33m)\u001b[0m\u001b[1;33m:\u001b[0m\u001b[1;33m\u001b[0m\u001b[1;33m\u001b[0m\u001b[0m\n\u001b[0;32m   4100\u001b[0m             \u001b[0mkey\u001b[0m \u001b[1;33m=\u001b[0m \u001b[0mcom\u001b[0m\u001b[1;33m.\u001b[0m\u001b[0mcast_scalar_indexer\u001b[0m\u001b[1;33m(\u001b[0m\u001b[0mkey\u001b[0m\u001b[1;33m,\u001b[0m \u001b[0mwarn_float\u001b[0m\u001b[1;33m=\u001b[0m\u001b[1;32mTrue\u001b[0m\u001b[1;33m)\u001b[0m\u001b[1;33m\u001b[0m\u001b[1;33m\u001b[0m\u001b[0m\n\u001b[1;32m-> 4101\u001b[1;33m             \u001b[1;32mreturn\u001b[0m \u001b[0mgetitem\u001b[0m\u001b[1;33m(\u001b[0m\u001b[0mkey\u001b[0m\u001b[1;33m)\u001b[0m\u001b[1;33m\u001b[0m\u001b[1;33m\u001b[0m\u001b[0m\n\u001b[0m\u001b[0;32m   4102\u001b[0m \u001b[1;33m\u001b[0m\u001b[0m\n\u001b[0;32m   4103\u001b[0m         \u001b[1;32mif\u001b[0m \u001b[0misinstance\u001b[0m\u001b[1;33m(\u001b[0m\u001b[0mkey\u001b[0m\u001b[1;33m,\u001b[0m \u001b[0mslice\u001b[0m\u001b[1;33m)\u001b[0m\u001b[1;33m:\u001b[0m\u001b[1;33m\u001b[0m\u001b[1;33m\u001b[0m\u001b[0m\n",
      "\u001b[1;31mIndexError\u001b[0m: index 16 is out of bounds for axis 0 with size 16"
     ]
    }
   ],
   "source": [
    "count_inferior = 0\n",
    "count_superior = 0\n",
    "\n",
    "for i in range(df_3.shape[0]):\n",
    "    for j in range(df_3.shape[1]):\n",
    "        if df_3.iat[i,j] <= valores_referencia_inferior.iat[0,j]:\n",
    "            count_inferior = count_inferior + 1\n",
    "            df_3.iat[i,j] > valores_referencia_superior.iat[0,j]\n",
    "            count_superior = count_superior + 1\n",
    "            if (count_inferior + count_superior) == 0:\n",
    "                df_3['Classificação'] = 'Baixo risco'\n",
    "            elif (count_inferior + count_superior) <= 2:\n",
    "                df_3['Classificação'] = 'Medio risco'\n",
    "            else:\n",
    "                df_3['Classificação'] = 'Alto risco'\n",
    "                "
   ]
  },
  {
   "cell_type": "code",
   "execution_count": 421,
   "metadata": {},
   "outputs": [
    {
     "data": {
      "text/html": [
       "<div>\n",
       "<style scoped>\n",
       "    .dataframe tbody tr th:only-of-type {\n",
       "        vertical-align: middle;\n",
       "    }\n",
       "\n",
       "    .dataframe tbody tr th {\n",
       "        vertical-align: top;\n",
       "    }\n",
       "\n",
       "    .dataframe thead th {\n",
       "        text-align: right;\n",
       "    }\n",
       "</style>\n",
       "<table border=\"1\" class=\"dataframe\">\n",
       "  <thead>\n",
       "    <tr style=\"text-align: right;\">\n",
       "      <th></th>\n",
       "      <th>SEQN</th>\n",
       "      <th>LBXWBCSI</th>\n",
       "      <th>LBXLYPCT</th>\n",
       "      <th>LBXMOPCT</th>\n",
       "      <th>LBXNEPCT</th>\n",
       "      <th>LBXEOPCT</th>\n",
       "      <th>LBXBAPCT</th>\n",
       "      <th>LBXRBCSI</th>\n",
       "      <th>LBXHGB</th>\n",
       "      <th>LBXHCT</th>\n",
       "      <th>...</th>\n",
       "      <th>count6</th>\n",
       "      <th>count7</th>\n",
       "      <th>count8</th>\n",
       "      <th>count9</th>\n",
       "      <th>count10</th>\n",
       "      <th>count11</th>\n",
       "      <th>count12</th>\n",
       "      <th>count13</th>\n",
       "      <th>count14</th>\n",
       "      <th>CountFinal</th>\n",
       "    </tr>\n",
       "  </thead>\n",
       "  <tbody>\n",
       "    <tr>\n",
       "      <th>7169</th>\n",
       "      <td>101618.0</td>\n",
       "      <td>6.8</td>\n",
       "      <td>36.1</td>\n",
       "      <td>10.9</td>\n",
       "      <td>47.2</td>\n",
       "      <td>4.9</td>\n",
       "      <td>1.0</td>\n",
       "      <td>4.50</td>\n",
       "      <td>12.7</td>\n",
       "      <td>36.8</td>\n",
       "      <td>...</td>\n",
       "      <td>0.0</td>\n",
       "      <td>0.0</td>\n",
       "      <td>0.0</td>\n",
       "      <td>0.0</td>\n",
       "      <td>0.0</td>\n",
       "      <td>0.0</td>\n",
       "      <td>0.0</td>\n",
       "      <td>0.0</td>\n",
       "      <td>0.0</td>\n",
       "      <td>0.0</td>\n",
       "    </tr>\n",
       "    <tr>\n",
       "      <th>8097</th>\n",
       "      <td>102659.0</td>\n",
       "      <td>5.9</td>\n",
       "      <td>33.7</td>\n",
       "      <td>12.9</td>\n",
       "      <td>47.2</td>\n",
       "      <td>5.4</td>\n",
       "      <td>0.9</td>\n",
       "      <td>4.10</td>\n",
       "      <td>13.1</td>\n",
       "      <td>38.2</td>\n",
       "      <td>...</td>\n",
       "      <td>0.0</td>\n",
       "      <td>0.0</td>\n",
       "      <td>0.0</td>\n",
       "      <td>0.0</td>\n",
       "      <td>0.0</td>\n",
       "      <td>0.0</td>\n",
       "      <td>0.0</td>\n",
       "      <td>0.0</td>\n",
       "      <td>0.0</td>\n",
       "      <td>0.0</td>\n",
       "    </tr>\n",
       "    <tr>\n",
       "      <th>2058</th>\n",
       "      <td>95969.0</td>\n",
       "      <td>6.2</td>\n",
       "      <td>43.9</td>\n",
       "      <td>8.1</td>\n",
       "      <td>44.6</td>\n",
       "      <td>3.2</td>\n",
       "      <td>0.3</td>\n",
       "      <td>4.98</td>\n",
       "      <td>14.9</td>\n",
       "      <td>43.3</td>\n",
       "      <td>...</td>\n",
       "      <td>0.0</td>\n",
       "      <td>0.0</td>\n",
       "      <td>0.0</td>\n",
       "      <td>0.0</td>\n",
       "      <td>0.0</td>\n",
       "      <td>0.0</td>\n",
       "      <td>0.0</td>\n",
       "      <td>0.0</td>\n",
       "      <td>0.0</td>\n",
       "      <td>0.0</td>\n",
       "    </tr>\n",
       "    <tr>\n",
       "      <th>7937</th>\n",
       "      <td>102478.0</td>\n",
       "      <td>4.3</td>\n",
       "      <td>43.4</td>\n",
       "      <td>11.3</td>\n",
       "      <td>43.4</td>\n",
       "      <td>1.5</td>\n",
       "      <td>0.5</td>\n",
       "      <td>5.04</td>\n",
       "      <td>14.6</td>\n",
       "      <td>43.6</td>\n",
       "      <td>...</td>\n",
       "      <td>0.0</td>\n",
       "      <td>0.0</td>\n",
       "      <td>0.0</td>\n",
       "      <td>0.0</td>\n",
       "      <td>0.0</td>\n",
       "      <td>0.0</td>\n",
       "      <td>0.0</td>\n",
       "      <td>0.0</td>\n",
       "      <td>0.0</td>\n",
       "      <td>0.0</td>\n",
       "    </tr>\n",
       "    <tr>\n",
       "      <th>3595</th>\n",
       "      <td>97671.0</td>\n",
       "      <td>14.8</td>\n",
       "      <td>25.4</td>\n",
       "      <td>7.2</td>\n",
       "      <td>64.3</td>\n",
       "      <td>2.1</td>\n",
       "      <td>1.1</td>\n",
       "      <td>4.41</td>\n",
       "      <td>12.0</td>\n",
       "      <td>35.9</td>\n",
       "      <td>...</td>\n",
       "      <td>0.0</td>\n",
       "      <td>0.0</td>\n",
       "      <td>0.0</td>\n",
       "      <td>0.0</td>\n",
       "      <td>0.0</td>\n",
       "      <td>0.0</td>\n",
       "      <td>0.0</td>\n",
       "      <td>0.0</td>\n",
       "      <td>0.0</td>\n",
       "      <td>0.0</td>\n",
       "    </tr>\n",
       "    <tr>\n",
       "      <th>...</th>\n",
       "      <td>...</td>\n",
       "      <td>...</td>\n",
       "      <td>...</td>\n",
       "      <td>...</td>\n",
       "      <td>...</td>\n",
       "      <td>...</td>\n",
       "      <td>...</td>\n",
       "      <td>...</td>\n",
       "      <td>...</td>\n",
       "      <td>...</td>\n",
       "      <td>...</td>\n",
       "      <td>...</td>\n",
       "      <td>...</td>\n",
       "      <td>...</td>\n",
       "      <td>...</td>\n",
       "      <td>...</td>\n",
       "      <td>...</td>\n",
       "      <td>...</td>\n",
       "      <td>...</td>\n",
       "      <td>...</td>\n",
       "      <td>...</td>\n",
       "    </tr>\n",
       "    <tr>\n",
       "      <th>4670</th>\n",
       "      <td>98861.0</td>\n",
       "      <td>9.0</td>\n",
       "      <td>66.3</td>\n",
       "      <td>6.6</td>\n",
       "      <td>23.9</td>\n",
       "      <td>2.4</td>\n",
       "      <td>0.9</td>\n",
       "      <td>4.33</td>\n",
       "      <td>12.6</td>\n",
       "      <td>36.5</td>\n",
       "      <td>...</td>\n",
       "      <td>0.0</td>\n",
       "      <td>0.0</td>\n",
       "      <td>0.0</td>\n",
       "      <td>0.0</td>\n",
       "      <td>0.0</td>\n",
       "      <td>0.0</td>\n",
       "      <td>0.0</td>\n",
       "      <td>0.0</td>\n",
       "      <td>1.0</td>\n",
       "      <td>1.0</td>\n",
       "    </tr>\n",
       "    <tr>\n",
       "      <th>3175</th>\n",
       "      <td>97207.0</td>\n",
       "      <td>10.2</td>\n",
       "      <td>53.3</td>\n",
       "      <td>8.0</td>\n",
       "      <td>34.4</td>\n",
       "      <td>3.9</td>\n",
       "      <td>0.6</td>\n",
       "      <td>4.88</td>\n",
       "      <td>10.9</td>\n",
       "      <td>34.2</td>\n",
       "      <td>...</td>\n",
       "      <td>0.0</td>\n",
       "      <td>0.0</td>\n",
       "      <td>0.0</td>\n",
       "      <td>0.0</td>\n",
       "      <td>0.0</td>\n",
       "      <td>0.0</td>\n",
       "      <td>0.0</td>\n",
       "      <td>0.0</td>\n",
       "      <td>1.0</td>\n",
       "      <td>1.0</td>\n",
       "    </tr>\n",
       "    <tr>\n",
       "      <th>7493</th>\n",
       "      <td>101978.0</td>\n",
       "      <td>6.3</td>\n",
       "      <td>50.9</td>\n",
       "      <td>7.3</td>\n",
       "      <td>40.8</td>\n",
       "      <td>0.5</td>\n",
       "      <td>0.5</td>\n",
       "      <td>4.19</td>\n",
       "      <td>11.6</td>\n",
       "      <td>34.8</td>\n",
       "      <td>...</td>\n",
       "      <td>0.0</td>\n",
       "      <td>0.0</td>\n",
       "      <td>0.0</td>\n",
       "      <td>0.0</td>\n",
       "      <td>0.0</td>\n",
       "      <td>0.0</td>\n",
       "      <td>0.0</td>\n",
       "      <td>0.0</td>\n",
       "      <td>1.0</td>\n",
       "      <td>1.0</td>\n",
       "    </tr>\n",
       "    <tr>\n",
       "      <th>6198</th>\n",
       "      <td>100543.0</td>\n",
       "      <td>5.1</td>\n",
       "      <td>36.2</td>\n",
       "      <td>8.8</td>\n",
       "      <td>53.1</td>\n",
       "      <td>1.5</td>\n",
       "      <td>0.6</td>\n",
       "      <td>5.02</td>\n",
       "      <td>13.5</td>\n",
       "      <td>40.4</td>\n",
       "      <td>...</td>\n",
       "      <td>0.0</td>\n",
       "      <td>0.0</td>\n",
       "      <td>0.0</td>\n",
       "      <td>0.0</td>\n",
       "      <td>0.0</td>\n",
       "      <td>0.0</td>\n",
       "      <td>0.0</td>\n",
       "      <td>0.0</td>\n",
       "      <td>1.0</td>\n",
       "      <td>1.0</td>\n",
       "    </tr>\n",
       "    <tr>\n",
       "      <th>6427</th>\n",
       "      <td>100803.0</td>\n",
       "      <td>7.7</td>\n",
       "      <td>57.8</td>\n",
       "      <td>5.8</td>\n",
       "      <td>28.8</td>\n",
       "      <td>7.1</td>\n",
       "      <td>0.6</td>\n",
       "      <td>4.54</td>\n",
       "      <td>11.8</td>\n",
       "      <td>34.4</td>\n",
       "      <td>...</td>\n",
       "      <td>0.0</td>\n",
       "      <td>0.0</td>\n",
       "      <td>0.0</td>\n",
       "      <td>0.0</td>\n",
       "      <td>0.0</td>\n",
       "      <td>0.0</td>\n",
       "      <td>0.0</td>\n",
       "      <td>0.0</td>\n",
       "      <td>1.0</td>\n",
       "      <td>1.0</td>\n",
       "    </tr>\n",
       "  </tbody>\n",
       "</table>\n",
       "<p>7953 rows × 31 columns</p>\n",
       "</div>"
      ],
      "text/plain": [
       "          SEQN  LBXWBCSI  LBXLYPCT  LBXMOPCT  LBXNEPCT  LBXEOPCT  LBXBAPCT  \\\n",
       "7169  101618.0       6.8      36.1      10.9      47.2       4.9       1.0   \n",
       "8097  102659.0       5.9      33.7      12.9      47.2       5.4       0.9   \n",
       "2058   95969.0       6.2      43.9       8.1      44.6       3.2       0.3   \n",
       "7937  102478.0       4.3      43.4      11.3      43.4       1.5       0.5   \n",
       "3595   97671.0      14.8      25.4       7.2      64.3       2.1       1.1   \n",
       "...        ...       ...       ...       ...       ...       ...       ...   \n",
       "4670   98861.0       9.0      66.3       6.6      23.9       2.4       0.9   \n",
       "3175   97207.0      10.2      53.3       8.0      34.4       3.9       0.6   \n",
       "7493  101978.0       6.3      50.9       7.3      40.8       0.5       0.5   \n",
       "6198  100543.0       5.1      36.2       8.8      53.1       1.5       0.6   \n",
       "6427  100803.0       7.7      57.8       5.8      28.8       7.1       0.6   \n",
       "\n",
       "      LBXRBCSI  LBXHGB  LBXHCT  ...  count6  count7  count8  count9  count10  \\\n",
       "7169      4.50    12.7    36.8  ...     0.0     0.0     0.0     0.0      0.0   \n",
       "8097      4.10    13.1    38.2  ...     0.0     0.0     0.0     0.0      0.0   \n",
       "2058      4.98    14.9    43.3  ...     0.0     0.0     0.0     0.0      0.0   \n",
       "7937      5.04    14.6    43.6  ...     0.0     0.0     0.0     0.0      0.0   \n",
       "3595      4.41    12.0    35.9  ...     0.0     0.0     0.0     0.0      0.0   \n",
       "...        ...     ...     ...  ...     ...     ...     ...     ...      ...   \n",
       "4670      4.33    12.6    36.5  ...     0.0     0.0     0.0     0.0      0.0   \n",
       "3175      4.88    10.9    34.2  ...     0.0     0.0     0.0     0.0      0.0   \n",
       "7493      4.19    11.6    34.8  ...     0.0     0.0     0.0     0.0      0.0   \n",
       "6198      5.02    13.5    40.4  ...     0.0     0.0     0.0     0.0      0.0   \n",
       "6427      4.54    11.8    34.4  ...     0.0     0.0     0.0     0.0      0.0   \n",
       "\n",
       "      count11  count12  count13  count14  CountFinal  \n",
       "7169      0.0      0.0      0.0      0.0         0.0  \n",
       "8097      0.0      0.0      0.0      0.0         0.0  \n",
       "2058      0.0      0.0      0.0      0.0         0.0  \n",
       "7937      0.0      0.0      0.0      0.0         0.0  \n",
       "3595      0.0      0.0      0.0      0.0         0.0  \n",
       "...       ...      ...      ...      ...         ...  \n",
       "4670      0.0      0.0      0.0      1.0         1.0  \n",
       "3175      0.0      0.0      0.0      1.0         1.0  \n",
       "7493      0.0      0.0      0.0      1.0         1.0  \n",
       "6198      0.0      0.0      0.0      1.0         1.0  \n",
       "6427      0.0      0.0      0.0      1.0         1.0  \n",
       "\n",
       "[7953 rows x 31 columns]"
      ]
     },
     "execution_count": 421,
     "metadata": {},
     "output_type": "execute_result"
    }
   ],
   "source": [
    "df_3"
   ]
  },
  {
   "cell_type": "markdown",
   "metadata": {},
   "source": [
    "# Conclusões"
   ]
  },
  {
   "cell_type": "markdown",
   "metadata": {},
   "source": [
    "Base de dados inicial de 8.366 instâncias com 21 parâmetros de coleta de hemograma completo. Base de valores de referência superior e inferior composto por 14 parâmetros, a fim de seguir com a análise da base de dados inicial. Utilizada amostra aleatória de 30% da base para realizar análise estatística descritiva, e classificação de indivíduos de acordo com a normalidade em relação às faixas de valores definidas pela pesquisa."
   ]
  }
 ],
 "metadata": {
  "kernelspec": {
   "display_name": "Python 3",
   "language": "python",
   "name": "python3"
  },
  "language_info": {
   "codemirror_mode": {
    "name": "ipython",
    "version": 3
   },
   "file_extension": ".py",
   "mimetype": "text/x-python",
   "name": "python",
   "nbconvert_exporter": "python",
   "pygments_lexer": "ipython3",
   "version": "3.8.5"
  }
 },
 "nbformat": 4,
 "nbformat_minor": 4
}
